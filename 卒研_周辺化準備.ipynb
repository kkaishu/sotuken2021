{
 "cells": [
  {
   "cell_type": "code",
   "execution_count": 37,
   "id": "89e787b0-9934-4ac9-822d-1d149375c1c8",
   "metadata": {},
   "outputs": [],
   "source": [
    "import pandas as pd\n",
    "import math\n",
    "import numpy as np\n",
    "from sklearn import tree"
   ]
  },
  {
   "cell_type": "code",
   "execution_count": 38,
   "id": "d970dfef-21fd-4e0f-9078-f485b5c80e53",
   "metadata": {},
   "outputs": [],
   "source": [
    "team_name_all=[\"愛媛\",\"横浜\",\"岡山\",\"岐阜\",\"京都\",\"金沢\",\"熊本\",\"甲府\",\"山形\",\"山口\",\"讃岐\",\"鹿児島\",\"松本\",\"湘南\",\"新潟\",\"水戸\",\"千葉\",\"群馬\",\"大宮\",\"大分\",\"町田\",\"長崎\",\"東京\",\"徳島\",\"栃木\",\"柏\",\"福岡\",\"名古屋\",\"琉球\"]\n",
    "team_number_all=[\"37\",\"34\",\"42\",\"39\",\"24\",\"275\",\"38\",\"28\",\"29\",\"330\",\"48\",\"338\",\"46\",\"12\",\"78\",\"94\",\"2\",\"35\",\"27\",\"31\",\"45\",\"47\",\"4\",\"36\",\"40\",\"11\",\"23\",\"8\",\"277\"]"
   ]
  },
  {
   "cell_type": "code",
   "execution_count": 39,
   "id": "3563451e-74a0-4ad9-9343-40ba12ad2a30",
   "metadata": {},
   "outputs": [],
   "source": [
    "all_team=[]\n",
    "kion=[]\n",
    "for i in range(29):\n",
    "    team_name=team_name_all[i]\n",
    "    team_number=team_number_all[i]\n",
    "    url=f\"https://data.j-league.or.jp/SFMS01/search?competition_years=2019&competition_years=2018&competition_years=2017&competition_frame_ids=2&team_ids={team_number}&home_away_select=1&tv_relay_station_name=\"\n",
    "    fomerdata=pd.read_html(url,header=0)\n",
    "    data=fomerdata[0].drop([\"大会\",\"スタジアム\"],axis=1)\n",
    "    game_day=data.試合日\n",
    "    game_day=[s.replace(\"月・祝\",\"月\").replace(\"火・祝\",\"火\").replace(\"水・祝\",\"水\").replace(\"木・祝\",\"木\").replace(\"金・祝\",\"金\").replace(\"土・祝\",\"土\").replace(\"日・祝\",\"日\").replace(\"月・休\",\"月\") for s in game_day]\n",
    "    day=data.年度.astype(str)+\"/\"+game_day\n",
    "    day=pd.DataFrame({\"年/月/日\":day})\n",
    "    data=pd.concat([data,day],axis=1)\n",
    "    tenki=pd.read_excel(f\"c:\\\\Users\\\\梅津魁秀\\\\Desktop\\\\卒業研究\\\\天気データ\\\\全国天気\\\\{team_name}.xlsx\",skiprows=3)\n",
    "    tenki=tenki.fillna(0)\n",
    "    tenki=tenki.drop(tenki.index[[0]]).reset_index(drop=True)\n",
    "    tenki=tenki.drop(tenki.index[1095])\n",
    "    google_trend=pd.read_csv(\"gt.csv\").drop([\"Unnamed: 0\"],axis=1)\n",
    "    google_trend=google_trend[f\"{team_name}\"]\n",
    "    tenki=pd.concat([tenki,google_trend],axis=1)\n",
    "    tenki=tenki.rename(columns={f\"{team_name}\":\"ホームトレンド\"})\n",
    "    day2=tenki.年.round().astype(int).astype(str)+\"/\"+tenki.月.round().astype(int).astype(str).str.zfill(2)+\"/\"+tenki.日.round().astype(int).astype(str).str.zfill(2)+\"(\"+tenki.曜日+\")\"\n",
    "    day2=pd.DataFrame({\"年/月/日\":day2})\n",
    "    tenki=pd.concat([tenki,day2],axis=1)\n",
    "    data=pd.merge(data,tenki[[\"年/月/日\",\"平均気温(℃)\",\"降水量の合計(mm)\",\"日照時間(時間)\",\"ホームトレンド\"]],on=\"年/月/日\",how=\"left\")\n",
    "    sec=data.節.str.translate(str.maketrans({chr(0xFF01 + i): chr(0x21 + i) for i in range(94)}))\n",
    "    sec=sec.str.extract(\"(.+)節\",expand=True).rename(columns={0:\"節数\"})\n",
    "    data=pd.concat([data,sec],axis=1)\n",
    "    rank=pd.read_csv(\"c:\\\\Users\\\\梅津魁秀\\\\anaconda3\\\\rank.csv\").drop([\"Unnamed: 0\"],axis=1)\n",
    "    rank2=rank.rename(columns={\"アウェイ\":\"ホーム\"})\n",
    "    data=pd.merge(data,rank[[\"アウェイ\",\"節数\",\"年度\",\"順位\"]],on=[\"アウェイ\",\"年度\",\"節数\"],how=\"left\")\n",
    "    data=pd.merge(data,rank2[[\"ホーム\",\"節数\",\"年度\",\"順位\"]],on=[\"ホーム\",\"年度\",\"節数\"],how=\"left\")\n",
    "    data=data.rename(columns={\"順位_x\":\"アウェイ順位\",\"順位_y\":\"ホーム順位\"})\n",
    "    data[\"節数\"]=data[\"節数\"].str.replace('第', '')\n",
    "    data[\"K/O時刻\"]=data[\"K/O時刻\"].str[:2]\n",
    "    score=data.スコア.str.split('-', expand=True)\n",
    "    score=score[[0,1]].astype(np.int64)\n",
    "    data[\"点数(ホームーアウェイ)\"]=score[0]-score[1]\n",
    "    data=data.drop([\"年度\",\"節\",\"試合日\",\"ホーム\",\"インターネット中継・TV放送\",\"年/月/日\",\"アウェイ\",\"スコア\"],axis=1)\n",
    "    #入場者数と平均気温に関しては、その地域ごとに偏差をとり、データに反映する。\n",
    "    visitors=int(data[\"入場者数\"].mean())\n",
    "    temperature＿mean=int(data[\"平均気温(℃)\"].mean())\n",
    "    kion.append({temperature＿mean:team_name})\n",
    "    #それぞれ平均を引いた値を出力する。\n",
    "    data[\"平均気温(℃)\"]=round(data[\"平均気温(℃)\"]-temperature＿mean,1)\n",
    "    data[\"入場者数\"]=data[\"入場者数\"]-visitors\n",
    "    all_team.append(data)"
   ]
  },
  {
   "cell_type": "code",
   "execution_count": 40,
   "id": "2e832081-3342-4dc9-b0e5-709f89ced2b2",
   "metadata": {},
   "outputs": [
    {
     "name": "stdout",
     "output_type": "stream",
     "text": [
      "29\n"
     ]
    },
    {
     "data": {
      "text/html": [
       "<div>\n",
       "<style scoped>\n",
       "    .dataframe tbody tr th:only-of-type {\n",
       "        vertical-align: middle;\n",
       "    }\n",
       "\n",
       "    .dataframe tbody tr th {\n",
       "        vertical-align: top;\n",
       "    }\n",
       "\n",
       "    .dataframe thead th {\n",
       "        text-align: right;\n",
       "    }\n",
       "</style>\n",
       "<table border=\"1\" class=\"dataframe\">\n",
       "  <thead>\n",
       "    <tr style=\"text-align: right;\">\n",
       "      <th></th>\n",
       "      <th>K/O時刻</th>\n",
       "      <th>入場者数</th>\n",
       "      <th>平均気温(℃)</th>\n",
       "      <th>降水量の合計(mm)</th>\n",
       "      <th>日照時間(時間)</th>\n",
       "      <th>ホームトレンド</th>\n",
       "      <th>節数</th>\n",
       "      <th>アウェイ順位</th>\n",
       "      <th>ホーム順位</th>\n",
       "      <th>点数(ホームーアウェイ)</th>\n",
       "    </tr>\n",
       "  </thead>\n",
       "  <tbody>\n",
       "    <tr>\n",
       "      <th>0</th>\n",
       "      <td>15.0</td>\n",
       "      <td>2113.0</td>\n",
       "      <td>-11.2</td>\n",
       "      <td>0.0</td>\n",
       "      <td>4.9</td>\n",
       "      <td>51.0</td>\n",
       "      <td>1.0</td>\n",
       "      <td>16.0</td>\n",
       "      <td>6.0</td>\n",
       "      <td>1.0</td>\n",
       "    </tr>\n",
       "    <tr>\n",
       "      <th>1</th>\n",
       "      <td>15.0</td>\n",
       "      <td>43.0</td>\n",
       "      <td>-9.1</td>\n",
       "      <td>0.0</td>\n",
       "      <td>4.7</td>\n",
       "      <td>50.0</td>\n",
       "      <td>2.0</td>\n",
       "      <td>19.0</td>\n",
       "      <td>8.0</td>\n",
       "      <td>0.0</td>\n",
       "    </tr>\n",
       "    <tr>\n",
       "      <th>2</th>\n",
       "      <td>15.0</td>\n",
       "      <td>-109.0</td>\n",
       "      <td>-8.0</td>\n",
       "      <td>0.0</td>\n",
       "      <td>10.7</td>\n",
       "      <td>28.0</td>\n",
       "      <td>4.0</td>\n",
       "      <td>1.0</td>\n",
       "      <td>14.0</td>\n",
       "      <td>-1.0</td>\n",
       "    </tr>\n",
       "    <tr>\n",
       "      <th>3</th>\n",
       "      <td>15.0</td>\n",
       "      <td>164.0</td>\n",
       "      <td>-2.3</td>\n",
       "      <td>0.5</td>\n",
       "      <td>1.6</td>\n",
       "      <td>51.0</td>\n",
       "      <td>7.0</td>\n",
       "      <td>20.0</td>\n",
       "      <td>12.0</td>\n",
       "      <td>1.0</td>\n",
       "    </tr>\n",
       "    <tr>\n",
       "      <th>4</th>\n",
       "      <td>15.0</td>\n",
       "      <td>-1322.0</td>\n",
       "      <td>-1.8</td>\n",
       "      <td>0.0</td>\n",
       "      <td>10.4</td>\n",
       "      <td>38.0</td>\n",
       "      <td>9.0</td>\n",
       "      <td>9.0</td>\n",
       "      <td>13.0</td>\n",
       "      <td>1.0</td>\n",
       "    </tr>\n",
       "    <tr>\n",
       "      <th>...</th>\n",
       "      <td>...</td>\n",
       "      <td>...</td>\n",
       "      <td>...</td>\n",
       "      <td>...</td>\n",
       "      <td>...</td>\n",
       "      <td>...</td>\n",
       "      <td>...</td>\n",
       "      <td>...</td>\n",
       "      <td>...</td>\n",
       "      <td>...</td>\n",
       "    </tr>\n",
       "    <tr>\n",
       "      <th>1381</th>\n",
       "      <td>19.0</td>\n",
       "      <td>-2269.0</td>\n",
       "      <td>3.1</td>\n",
       "      <td>8.5</td>\n",
       "      <td>0.6</td>\n",
       "      <td>35.0</td>\n",
       "      <td>31.0</td>\n",
       "      <td>20.0</td>\n",
       "      <td>15.0</td>\n",
       "      <td>1.0</td>\n",
       "    </tr>\n",
       "    <tr>\n",
       "      <th>1382</th>\n",
       "      <td>19.0</td>\n",
       "      <td>-1866.0</td>\n",
       "      <td>2.5</td>\n",
       "      <td>0.0</td>\n",
       "      <td>3.9</td>\n",
       "      <td>20.0</td>\n",
       "      <td>33.0</td>\n",
       "      <td>2.0</td>\n",
       "      <td>15.0</td>\n",
       "      <td>0.0</td>\n",
       "    </tr>\n",
       "    <tr>\n",
       "      <th>1383</th>\n",
       "      <td>18.0</td>\n",
       "      <td>-146.0</td>\n",
       "      <td>2.3</td>\n",
       "      <td>0.0</td>\n",
       "      <td>6.2</td>\n",
       "      <td>33.0</td>\n",
       "      <td>36.0</td>\n",
       "      <td>13.0</td>\n",
       "      <td>15.0</td>\n",
       "      <td>-4.0</td>\n",
       "    </tr>\n",
       "    <tr>\n",
       "      <th>1384</th>\n",
       "      <td>13.0</td>\n",
       "      <td>3050.0</td>\n",
       "      <td>-0.7</td>\n",
       "      <td>0.0</td>\n",
       "      <td>3.4</td>\n",
       "      <td>100.0</td>\n",
       "      <td>38.0</td>\n",
       "      <td>4.0</td>\n",
       "      <td>15.0</td>\n",
       "      <td>-1.0</td>\n",
       "    </tr>\n",
       "    <tr>\n",
       "      <th>1385</th>\n",
       "      <td>16.0</td>\n",
       "      <td>2571.0</td>\n",
       "      <td>-2.3</td>\n",
       "      <td>0.0</td>\n",
       "      <td>10.2</td>\n",
       "      <td>43.0</td>\n",
       "      <td>40.0</td>\n",
       "      <td>8.0</td>\n",
       "      <td>15.0</td>\n",
       "      <td>-3.0</td>\n",
       "    </tr>\n",
       "  </tbody>\n",
       "</table>\n",
       "<p>1386 rows × 10 columns</p>\n",
       "</div>"
      ],
      "text/plain": [
       "      K/O時刻    入場者数  平均気温(℃)  降水量の合計(mm)  日照時間(時間)  ホームトレンド    節数  アウェイ順位  \\\n",
       "0      15.0  2113.0    -11.2         0.0       4.9     51.0   1.0    16.0   \n",
       "1      15.0    43.0     -9.1         0.0       4.7     50.0   2.0    19.0   \n",
       "2      15.0  -109.0     -8.0         0.0      10.7     28.0   4.0     1.0   \n",
       "3      15.0   164.0     -2.3         0.5       1.6     51.0   7.0    20.0   \n",
       "4      15.0 -1322.0     -1.8         0.0      10.4     38.0   9.0     9.0   \n",
       "...     ...     ...      ...         ...       ...      ...   ...     ...   \n",
       "1381   19.0 -2269.0      3.1         8.5       0.6     35.0  31.0    20.0   \n",
       "1382   19.0 -1866.0      2.5         0.0       3.9     20.0  33.0     2.0   \n",
       "1383   18.0  -146.0      2.3         0.0       6.2     33.0  36.0    13.0   \n",
       "1384   13.0  3050.0     -0.7         0.0       3.4    100.0  38.0     4.0   \n",
       "1385   16.0  2571.0     -2.3         0.0      10.2     43.0  40.0     8.0   \n",
       "\n",
       "      ホーム順位  点数(ホームーアウェイ)  \n",
       "0       6.0           1.0  \n",
       "1       8.0           0.0  \n",
       "2      14.0          -1.0  \n",
       "3      12.0           1.0  \n",
       "4      13.0           1.0  \n",
       "...     ...           ...  \n",
       "1381   15.0           1.0  \n",
       "1382   15.0           0.0  \n",
       "1383   15.0          -4.0  \n",
       "1384   15.0          -1.0  \n",
       "1385   15.0          -3.0  \n",
       "\n",
       "[1386 rows x 10 columns]"
      ]
     },
     "execution_count": 40,
     "metadata": {},
     "output_type": "execute_result"
    }
   ],
   "source": [
    "#forループでリストにしっかり格納されたか個数をチェック(29個であれば成功)\n",
    "print(len(all_team))\n",
    "#リストを全て合わせてall_team_kanseiとする。\n",
    "all_team_kansei=pd.concat(all_team)\n",
    "#データを行方向でシャッフル\n",
    "#再度reset_indexを↓で行うことで、行番号を再度設定する。\n",
    "# all_team_kansei=all_team_kansei.sample(frac=1)\n",
    "all_team_kansei=all_team_kansei.astype('float64').reset_index(drop=True)\n",
    "# all_team_kansei.to_csv(\"a.csv\")\n",
    "all_team_kansei"
   ]
  },
  {
   "cell_type": "code",
   "execution_count": 11,
   "id": "4f256c5d-fc20-48bf-bf84-ddea8ccaf235",
   "metadata": {},
   "outputs": [],
   "source": [
    "#説明変数となるものをそれぞれx1~x9まで作成\n",
    "x1=np.array(all_team_kansei[\"K/O時刻\"])\n",
    "x2=np.array(all_team_kansei[\"平均気温(℃)\"])\n",
    "x3=np.array(all_team_kansei[\"降水量の合計(mm)\"])\n",
    "x4=np.array(all_team_kansei[\"日照時間(時間)\"])\n",
    "x5=np.array(all_team_kansei[\"節数\"])\n",
    "x6=np.array(all_team_kansei[\"アウェイ順位\"])\n",
    "x7=np.array(all_team_kansei[\"ホーム順位\"])\n",
    "x8=np.array(all_team_kansei[\"点数(ホームーアウェイ)\"])\n",
    "x9=np.array(all_team_kansei[\"ホームトレンド\"])\n",
    "#目的変数(観客動員数)をyに入れる\n",
    "y=np.array(all_team_kansei[\"入場者数\"])\n",
    "X=np.c_[x1,x2,x3,x4,x5,x6,x7,x8,x9]#SVRが使えるように変数を結合\n",
    "# print(X.dtype,y.dtype)"
   ]
  },
  {
   "cell_type": "code",
   "execution_count": 12,
   "id": "5a444932-786e-4e43-aeee-b5c1b5e51d15",
   "metadata": {},
   "outputs": [],
   "source": [
    "#各項目を整理するために、ヒストグラムに出力する。\n",
    "#標準化未実装\n",
    "import pandas as pd\n",
    "import collections\n",
    "import numpy as np\n",
    "import matplotlib.pyplot as plt\n",
    "from matplotlib.font_manager import FontProperties \n",
    "#日本語を表示するにはこうするらしい \n",
    "fp = FontProperties(fname=r'C:\\WINDOWS\\Fonts\\msgothic.ttc', size=16) "
   ]
  },
  {
   "cell_type": "code",
   "execution_count": 13,
   "id": "d5adc23f-8848-4f55-8ef4-b6a04b04a282",
   "metadata": {},
   "outputs": [
    {
     "name": "stdout",
     "output_type": "stream",
     "text": [
      "Counter({14.0: 424, 19.0: 331, 18.0: 267, 15.0: 141, 16.0: 112, 13.0: 88, 17.0: 22, 12.0: 1})\n",
      "8\n"
     ]
    },
    {
     "data": {
      "image/png": "[encoded data removed]",
      "text/plain": [
       "<Figure size 432x288 with 1 Axes>"
      ]
     },
     "metadata": {
      "needs_background": "light"
     },
     "output_type": "display_data"
    }
   ],
   "source": [
    "#x1と同様に他のデータも行うので、説明ここだけであとは省略する。\n",
    "print(collections.Counter(x1))#種類とその個数を出力\n",
    "print(len(collections.Counter(x1)))#種類数を出力\n",
    "fig = plt.figure()\n",
    "ax = fig.add_subplot(1, 1, 1)\n",
    "ax.hist(x1, bins=8, histtype='barstacked', ec='black')#binで何個の棒の数を決める(今回は種類数にしている)\n",
    "plt.title(\"K/O時刻\", fontsize=20,fontproperties=fp)\n",
    "plt.show()"
   ]
  },
  {
   "cell_type": "code",
   "execution_count": 14,
   "id": "c44885bc-2ab9-4ad3-acce-3076bb867fa1",
   "metadata": {},
   "outputs": [
    {
     "name": "stdout",
     "output_type": "stream",
     "text": [
      "[{19: '愛媛'}, {19: '横浜'}, {19: '岡山'}, {20: '岐阜'}, {19: '京都'}, {18: '金沢'}, {21: '熊本'}, {19: '甲府'}, {16: '山形'}, {18: '山口'}, {19: '讃岐'}, {21: '鹿児島'}, {16: '松本'}, {19: '湘南'}, {18: '新潟'}, {17: '水戸'}, {19: '千葉'}, {18: '群馬'}, {19: '大宮'}, {19: '大分'}, {19: '町田'}, {20: '長崎'}, {19: '東京'}, {20: '徳島'}, {18: '栃木'}, {19: '柏'}, {20: '福岡'}, {19: '名古屋'}, {24: '琉球'}]\n"
     ]
    }
   ],
   "source": [
    "print(kion)"
   ]
  },
  {
   "cell_type": "code",
   "execution_count": 11,
   "id": "0d3bafc7-b65a-42d8-96f8-12936a9b69e3",
   "metadata": {},
   "outputs": [
    {
     "name": "stdout",
     "output_type": "stream",
     "text": [
      "Counter({3.7: 16, 1.9: 15, 2.4: 13, 1.4: 13, -1.8: 12, 2.3: 12, 0.0: 12, -1.1: 12, -1.3: 11, 10.7: 11, 3.3: 11, -0.1: 11, -1.9: 11, 2.7: 11, -1.0: 11, -0.7: 11, 2.5: 10, -2.2: 10, 9.9: 10, 4.1: 10, 2.0: 10, 5.6: 10, -1.6: 10, 10.5: 9, 10.9: 9, -2.0: 9, 6.2: 9, 3.8: 9, -0.3: 9, -0.2: 9, 3.0: 9, 4.3: 9, 1.6: 9, -2.4: 9, 0.4: 8, 9.5: 8, -1.7: 8, -10.4: 8, -2.9: 8, 6.9: 8, 3.2: 8, 8.7: 8, 0.7: 8, -0.6: 8, 3.1: 8, 5.2: 8, 0.9: 8, 4.8: 8, 5.3: 8, 4.4: 8, -11.2: 7, 9.6: 7, -10.3: 7, -1.5: 7, 1.2: 7, 6.0: 7, 6.4: 7, 1.8: 7, -9.8: 7, 6.7: 7, -2.5: 7, -4.8: 7, 1.5: 7, 10.4: 7, 8.5: 7, 9.1: 7, -5.7: 7, 7.2: 7, -1.4: 7, -4.6: 7, 4.0: 7, 5.5: 7, 11.2: 7, 9.8: 6, -2.7: 6, 2.9: 6, -3.7: 6, 7.1: 6, 1.7: 6, -10.8: 6, -4.0: 6, -6.7: 6, -9.2: 6, -3.4: 6, 6.6: 6, 3.4: 6, -3.5: 6, 11.0: 6, 7.5: 6, -12.2: 6, 7.8: 6, 9.4: 6, 2.2: 6, -11.0: 6, -2.1: 6, 8.6: 6, 10.3: 6, -11.1: 6, 4.5: 6, 5.1: 6, -10.5: 6, -3.0: 6, -6.3: 6, -3.9: 6, 10.0: 6, 8.9: 6, 3.9: 6, 1.0: 6, -2.3: 5, 8.2: 5, -4.5: 5, -10.9: 5, -5.4: 5, 4.7: 5, 9.7: 5, -10.1: 5, 5.7: 5, -4.4: 5, -9.0: 5, -11.5: 5, 10.6: 5, -2.8: 5, 1.3: 5, -7.2: 5, -3.1: 5, 2.6: 5, 0.1: 5, -6.9: 5, 3.6: 5, 5.4: 5, -12.0: 5, -6.2: 5, -5.9: 5, -8.1: 5, -5.6: 5, 5.0: 5, 10.1: 5, -3.3: 5, 9.2: 5, -11.8: 5, 2.8: 5, 6.3: 5, -9.5: 5, -9.1: 4, -7.0: 4, -6.8: 4, 0.3: 4, 2.1: 4, 3.5: 4, -6.5: 4, -10.7: 4, 9.3: 4, 0.2: 4, 4.2: 4, -1.2: 4, -4.1: 4, -12.1: 4, -12.4: 4, -0.5: 4, -5.5: 4, 8.8: 4, 6.1: 4, -11.6: 4, -0.4: 4, -3.8: 4, 11.7: 4, 6.8: 4, -12.7: 4, 7.0: 4, -4.7: 4, 1.1: 4, 12.1: 4, 8.0: 4, 7.4: 4, -6.6: 4, -6.1: 4, -0.9: 4, 11.1: 4, -9.9: 4, -11.4: 4, 12.6: 4, -5.1: 4, 9.0: 4, -4.9: 4, 7.9: 4, -0.8: 3, 10.8: 3, -7.1: 3, -6.0: 3, 7.7: 3, 10.2: 3, -12.5: 3, -7.3: 3, 11.9: 3, 0.6: 3, 0.5: 3, 5.8: 3, -5.2: 3, -9.4: 3, 12.8: 3, -7.5: 3, -5.8: 3, -11.9: 3, 7.3: 3, 8.4: 3, -11.7: 3, -4.2: 3, -3.6: 3, -14.5: 3, 12.4: 3, 11.4: 3, 11.6: 3, 8.1: 3, -8.6: 3, 8.3: 3, -8.0: 2, -11.3: 2, 11.5: 2, -12.6: 2, -8.8: 2, 12.9: 2, -10.6: 2, -7.4: 2, 11.8: 2, -14.9: 2, -7.9: 2, -12.3: 2, -13.2: 2, 6.5: 2, -13.3: 2, -12.8: 2, -14.0: 2, 12.2: 2, 4.6: 2, -9.3: 2, -8.4: 2, -5.3: 2, -5.0: 2, -8.2: 2, 0.8: 2, -4.3: 2, -13.6: 2, -3.2: 2, -7.6: 2, -9.7: 2, -13.8: 2, -13.0: 2, 5.9: 2, -10.0: 1, -7.8: 1, -7.7: 1, -12.9: 1, -2.6: 1, 12.3: 1, 13.5: 1, 12.7: 1, 12.5: 1, -14.3: 1, -15.8: 1, -15.0: 1, 13.0: 1, 12.0: 1, -13.1: 1, -13.5: 1, 15.0: 1, 11.3: 1, -9.6: 1, -16.0: 1, 7.6: 1, -13.4: 1, -15.2: 1, -15.5: 1, -6.4: 1, -8.3: 1})\n",
      "274\n"
     ]
    },
    {
     "data": {
      "image/png": "[encoded data removed]",
      "text/plain": [
       "<Figure size 432x288 with 1 Axes>"
      ]
     },
     "metadata": {
      "needs_background": "light"
     },
     "output_type": "display_data"
    }
   ],
   "source": [
    "#データの編集が雑(入場者数にも言えるが)\n",
    "print(collections.Counter(x2))\n",
    "print(len(collections.Counter(x2)))\n",
    "fig = plt.figure()\n",
    "ax = fig.add_subplot(1, 1, 1)\n",
    "ax.hist(x2, bins=284, histtype='barstacked', ec='black')\n",
    "plt.title(\"平均気温(℃)\", fontsize=20,fontproperties=fp)\n",
    "plt.show()"
   ]
  },
  {
   "cell_type": "code",
   "execution_count": 12,
   "id": "5bc4275c-2ee2-4a22-ab30-c75d663d5bc1",
   "metadata": {},
   "outputs": [
    {
     "name": "stdout",
     "output_type": "stream",
     "text": [
      "Counter({0.0: 915, 0.5: 59, 1.0: 23, 2.0: 23, 1.5: 21, 2.5: 17, 3.5: 15, 3.0: 13, 9.0: 12, 6.0: 12, 4.5: 12, 4.0: 11, 8.5: 10, 5.0: 10, 6.5: 10, 5.5: 8, 7.5: 8, 10.0: 7, 14.0: 7, 15.0: 7, 7.0: 7, 13.0: 6, 14.5: 6, 11.5: 6, 16.0: 6, 16.5: 5, 12.0: 5, 11.0: 5, 8.0: 5, 29.5: 5, 19.5: 5, 18.5: 5, 20.0: 4, 39.0: 4, 10.5: 4, 27.0: 4, 15.5: 4, 23.5: 4, 17.0: 4, 12.5: 4, 25.0: 3, 9.5: 3, 20.5: 3, 17.5: 3, 13.5: 3, 25.5: 3, 29.0: 3, 41.0: 2, 46.0: 2, 18.0: 2, 80.0: 2, 60.0: 2, 19.0: 2, 30.0: 2, 31.0: 2, 21.0: 2, 36.5: 2, 43.0: 2, 21.5: 2, 22.5: 2, 35.0: 2, 24.0: 2, 30.5: 1, 22.0: 1, 63.0: 1, 46.5: 1, 98.5: 1, 59.0: 1, 40.0: 1, 28.5: 1, 110.5: 1, 82.0: 1, 91.5: 1, 44.0: 1, 45.5: 1, 23.0: 1, 126.0: 1, 65.0: 1, 38.0: 1, 124.5: 1, 66.5: 1, 34.5: 1, 39.5: 1, 32.5: 1, 47.0: 1, 66.0: 1, 88.5: 1, 37.5: 1, 28.0: 1, 93.5: 1, 33.5: 1, 53.5: 1, 26.5: 1, 56.5: 1, 44.5: 1, 24.5: 1, 55.0: 1, 92.0: 1, 32.0: 1})\n",
      "138\n"
     ]
    },
    {
     "data": {
      "image/png": "[encoded data removed]",
      "text/plain": [
       "<Figure size 432x288 with 1 Axes>"
      ]
     },
     "metadata": {
      "needs_background": "light"
     },
     "output_type": "display_data"
    }
   ],
   "source": [
    "print(collections.Counter(x3))\n",
    "print(len(collections.Counter(x4)))\n",
    "fig = plt.figure()\n",
    "ax = fig.add_subplot(1, 1, 1)\n",
    "ax.hist(x3, bins=138, histtype='barstacked', ec='black')\n",
    "plt.title(\"降水量\", fontsize=20,fontproperties=fp)\n",
    "plt.show()"
   ]
  },
  {
   "cell_type": "code",
   "execution_count": 13,
   "id": "bcab6d00-eca0-4b94-a2d8-d284904b7eb5",
   "metadata": {},
   "outputs": [
    {
     "name": "stdout",
     "output_type": "stream",
     "text": [
      "Counter({0.0: 194, 0.1: 24, 9.7: 21, 9.5: 21, 0.6: 18, 11.3: 17, 6.7: 16, 10.2: 16, 11.7: 16, 9.3: 16, 0.5: 15, 9.4: 14, 0.4: 14, 0.3: 14, 10.4: 13, 9.1: 13, 11.1: 13, 0.2: 13, 8.3: 13, 11.2: 13, 8.5: 13, 12.3: 13, 9.6: 12, 6.8: 12, 6.6: 12, 11.5: 12, 12.5: 12, 7.7: 12, 10.7: 11, 1.6: 11, 8.0: 11, 1.7: 11, 12.1: 11, 10.3: 11, 10.0: 11, 8.8: 11, 2.6: 11, 0.7: 11, 7.3: 11, 2.9: 11, 3.4: 11, 3.9: 10, 10.6: 10, 5.3: 10, 9.8: 10, 8.7: 10, 9.0: 10, 12.2: 10, 5.8: 10, 6.1: 10, 3.6: 10, 12.0: 10, 8.1: 10, 11.4: 10, 4.7: 9, 10.1: 9, 8.9: 9, 8.4: 9, 13.0: 9, 7.6: 9, 5.9: 9, 6.9: 9, 8.6: 9, 0.8: 9, 9.2: 9, 9.9: 9, 5.7: 9, 7.1: 9, 11.0: 9, 10.8: 9, 7.2: 9, 11.9: 8, 12.4: 8, 4.8: 8, 13.1: 8, 7.8: 8, 12.7: 8, 5.6: 8, 12.8: 8, 12.6: 8, 6.5: 8, 7.0: 8, 2.1: 8, 3.0: 8, 1.0: 8, 4.1: 8, 10.9: 8, 1.8: 8, 3.2: 8, 11.6: 7, 11.8: 7, 2.4: 7, 4.5: 7, 4.4: 7, 6.2: 7, 7.9: 7, 5.0: 7, 1.3: 6, 10.5: 6, 1.9: 6, 2.8: 6, 4.0: 6, 1.4: 6, 6.0: 6, 7.4: 6, 4.9: 5, 2.7: 5, 3.7: 5, 1.1: 5, 3.3: 5, 3.5: 5, 3.1: 5, 8.2: 5, 5.1: 5, 4.2: 5, 7.5: 4, 1.5: 4, 1.2: 4, 13.5: 4, 2.0: 4, 2.3: 4, 3.8: 4, 2.2: 4, 12.9: 3, 6.3: 3, 4.3: 3, 13.2: 3, 5.2: 3, 5.5: 3, 13.6: 3, 6.4: 3, 5.4: 3, 2.5: 2, 4.6: 2, 0.9: 2, 13.4: 2, 13.3: 2, 13.8: 1})\n",
      "138\n"
     ]
    },
    {
     "data": {
      "image/png": "[encoded data removed]",
      "text/plain": [
       "<Figure size 432x288 with 1 Axes>"
      ]
     },
     "metadata": {
      "needs_background": "light"
     },
     "output_type": "display_data"
    }
   ],
   "source": [
    "print(collections.Counter(x4))\n",
    "print(len(collections.Counter(x4)))\n",
    "fig = plt.figure()\n",
    "ax = fig.add_subplot(1, 1, 1)\n",
    "ax.hist(x4, bins=138, histtype='barstacked', ec='black')\n",
    "plt.title(\"日照時間\", fontsize=20,fontproperties=fp)\n",
    "plt.show()"
   ]
  },
  {
   "cell_type": "code",
   "execution_count": 14,
   "id": "2ea7da07-d861-480e-a333-2ad039d9ec48",
   "metadata": {},
   "outputs": [
    {
     "name": "stdout",
     "output_type": "stream",
     "text": [
      "Counter({1.0: 33, 2.0: 33, 4.0: 33, 7.0: 33, 9.0: 33, 10.0: 33, 12.0: 33, 14.0: 33, 15.0: 33, 18.0: 33, 20.0: 33, 23.0: 33, 25.0: 33, 27.0: 33, 29.0: 33, 30.0: 33, 34.0: 33, 37.0: 33, 40.0: 33, 33.0: 33, 41.0: 33, 6.0: 33, 8.0: 33, 11.0: 33, 13.0: 33, 24.0: 33, 28.0: 33, 31.0: 33, 32.0: 33, 35.0: 33, 39.0: 33, 5.0: 33, 17.0: 33, 19.0: 33, 21.0: 33, 26.0: 33, 36.0: 33, 3.0: 33, 16.0: 33, 38.0: 33, 22.0: 33, 42.0: 33})\n",
      "42\n"
     ]
    },
    {
     "data": {
      "image/png": "[encoded data removed]",
      "text/plain": [
       "<Figure size 432x288 with 1 Axes>"
      ]
     },
     "metadata": {
      "needs_background": "light"
     },
     "output_type": "display_data"
    }
   ],
   "source": [
    "print(collections.Counter(x5))\n",
    "print(len(collections.Counter(x5)))\n",
    "fig = plt.figure()\n",
    "ax = fig.add_subplot(1, 1, 1)\n",
    "ax.hist(x5,bins=42, histtype='barstacked', ec='black')\n",
    "plt.title(\"節数\", fontsize=20,fontproperties=fp)\n",
    "plt.show()"
   ]
  },
  {
   "cell_type": "code",
   "execution_count": 15,
   "id": "5f1d5110-2d22-4d0e-b177-fe48d1e51093",
   "metadata": {},
   "outputs": [
    {
     "name": "stdout",
     "output_type": "stream",
     "text": [
      "Counter({12.0: 70, 8.0: 70, 16.0: 67, 17.0: 67, 6.0: 67, 21.0: 67, 3.0: 66, 19.0: 65, 14.0: 65, 20.0: 64, 13.0: 64, 4.0: 63, 18.0: 63, 22.0: 62, 11.0: 61, 2.0: 61, 5.0: 60, 9.0: 59, 7.0: 59, 1.0: 56, 15.0: 56, 10.0: 54})\n",
      "22\n"
     ]
    },
    {
     "data": {
      "image/png": "[encoded data removed]",
      "text/plain": [
       "<Figure size 432x288 with 1 Axes>"
      ]
     },
     "metadata": {
      "needs_background": "light"
     },
     "output_type": "display_data"
    }
   ],
   "source": [
    "print(collections.Counter(x6))\n",
    "print(len(collections.Counter(x6)))\n",
    "fig = plt.figure()\n",
    "ax = fig.add_subplot(1, 1, 1)\n",
    "ax.hist(x6, bins=22, histtype='barstacked', ec='black')\n",
    "plt.title(\"アウェイ順位\", fontsize=20,fontproperties=fp)\n",
    "plt.show()"
   ]
  },
  {
   "cell_type": "code",
   "execution_count": 16,
   "id": "8666ecd6-b5c7-4691-aa32-e9011c20017f",
   "metadata": {},
   "outputs": [
    {
     "name": "stdout",
     "output_type": "stream",
     "text": [
      "Counter({1.0: 71, 10.0: 70, 15.0: 68, 11.0: 67, 5.0: 67, 7.0: 65, 18.0: 65, 4.0: 65, 13.0: 64, 16.0: 64, 22.0: 64, 9.0: 64, 2.0: 64, 6.0: 62, 3.0: 62, 8.0: 61, 21.0: 59, 19.0: 59, 20.0: 58, 17.0: 57, 14.0: 55, 12.0: 55})\n",
      "22\n"
     ]
    },
    {
     "data": {
      "image/png": "[encoded data removed]",
      "text/plain": [
       "<Figure size 432x288 with 1 Axes>"
      ]
     },
     "metadata": {
      "needs_background": "light"
     },
     "output_type": "display_data"
    }
   ],
   "source": [
    "print(collections.Counter(x7))\n",
    "print(len(collections.Counter(x7)))\n",
    "fig = plt.figure()\n",
    "ax = fig.add_subplot(1, 1, 1)\n",
    "ax.hist(x7, bins=22, histtype='barstacked', ec='black')\n",
    "plt.title(\"ホーム順位\", fontsize=20,fontproperties=fp)\n",
    "plt.show()"
   ]
  },
  {
   "cell_type": "code",
   "execution_count": 17,
   "id": "b80a50f2-6c82-483d-98a0-7104b5f8508c",
   "metadata": {},
   "outputs": [
    {
     "name": "stdout",
     "output_type": "stream",
     "text": [
      "Counter({0.0: 357, 1.0: 325, -1.0: 298, 2.0: 138, -2.0: 106, 3.0: 57, -3.0: 44, 4.0: 29, -4.0: 17, 5.0: 9, -5.0: 2, 6.0: 2, -7.0: 1, 12.0: 1})\n",
      "14\n"
     ]
    },
    {
     "data": {
      "image/png": "[encoded data removed]",
      "text/plain": [
       "<Figure size 432x288 with 1 Axes>"
      ]
     },
     "metadata": {
      "needs_background": "light"
     },
     "output_type": "display_data"
    }
   ],
   "source": [
    "print(collections.Counter(x8))\n",
    "print(len(collections.Counter(x8)))\n",
    "fig = plt.figure()\n",
    "ax = fig.add_subplot(1, 1, 1)\n",
    "ax.hist(x8, bins=14, histtype='barstacked', ec='black')\n",
    "plt.title(\"点数差\", fontsize=20,fontproperties=fp)\n",
    "plt.show()"
   ]
  },
  {
   "cell_type": "code",
   "execution_count": 18,
   "id": "e6b6f201-0577-4ef2-a2eb-1313ed767310",
   "metadata": {},
   "outputs": [
    {
     "name": "stdout",
     "output_type": "stream",
     "text": [
      "Counter({30.0: 49, 27.0: 40, 33.0: 36, 20.0: 36, 29.0: 34, 24.0: 33, 42.0: 32, 39.0: 32, 34.0: 30, 51.0: 29, 32.0: 29, 53.0: 29, 26.0: 29, 28.0: 28, 36.0: 28, 41.0: 28, 23.0: 28, 37.0: 27, 19.0: 27, 22.0: 27, 45.0: 26, 31.0: 26, 17.0: 26, 21.0: 26, 25.0: 26, 35.0: 25, 46.0: 25, 15.0: 25, 16.0: 25, 40.0: 24, 18.0: 24, 13.0: 24, 14.0: 24, 44.0: 24, 48.0: 23, 54.0: 22, 52.0: 20, 50.0: 18, 38.0: 17, 47.0: 16, 43.0: 16, 56.0: 16, 63.0: 14, 55.0: 13, 10.0: 13, 12.0: 12, 100.0: 12, 49.0: 12, 60.0: 10, 11.0: 10, 66.0: 10, 57.0: 10, 67.0: 9, 62.0: 9, 9.0: 9, 61.0: 8, 58.0: 8, 64.0: 6, 70.0: 6, 68.0: 6, 59.0: 6, 65.0: 5, 75.0: 5, 84.0: 5, 69.0: 4, 78.0: 4, 73.0: 4, 77.0: 4, 76.0: 4, 71.0: 4, 74.0: 4, 8.0: 4, 81.0: 3, 97.0: 3, 90.0: 3, 87.0: 2, 86.0: 2, 83.0: 2, 82.0: 2, 79.0: 2, 72.0: 1, 91.0: 1, 85.0: 1, 80.0: 1, 94.0: 1, 99.0: 1, 7.0: 1, 96.0: 1})\n"
     ]
    },
    {
     "data": {
      "image/png": "[encoded data removed]",
      "text/plain": [
       "<Figure size 432x288 with 1 Axes>"
      ]
     },
     "metadata": {
      "needs_background": "light"
     },
     "output_type": "display_data"
    }
   ],
   "source": [
    "print(collections.Counter(x9))\n",
    "fig = plt.figure()\n",
    "ax = fig.add_subplot(1, 1, 1)\n",
    "ax.hist(x9, bins=100, histtype='barstacked', ec='black')\n",
    "plt.title(\"google trend\", fontsize=20,fontproperties=fp)\n",
    "plt.show()"
   ]
  },
  {
   "cell_type": "markdown",
   "id": "065754b1-4714-4af3-868b-103c8ac1e66b",
   "metadata": {},
   "source": [
    "範囲設定\n",
    "\n",
    "x1キックオフ時刻：x1<17,17<=x1\\\n",
    "x2平均気温：x2<-9,-9<=x2<10,10<=x2\\\n",
    "x5節数：x2<14,14<=x2<28,28<=x2\\\n",
    "x6アウェイ順位：x6<8,8<=x6<15,15<=x6\\\n",
    "x7ホーム順位：x6<8,8<=x6<15,15<=x6\\\n",
    "x9トレンド情報：x9<34,34<=x9<67,67<=x9"
   ]
  },
  {
   "cell_type": "code",
   "execution_count": 15,
   "id": "5cefe2e8-5041-4fe7-a910-b1e8ed77ffbb",
   "metadata": {},
   "outputs": [
    {
     "name": "stdout",
     "output_type": "stream",
     "text": [
      "[15. 15. 15. ... 18. 13. 16.]\n",
      "[0 0 0 ... 1 0 0]\n"
     ]
    }
   ],
   "source": [
    "#周辺化準備\n",
    "#データ数1386、3^6=729、3^7=2187であるので、説明変数は6項目がベスト\n",
    "#K/O時刻で検証\n",
    "#参考資料　https://www.gesource.jp/weblog/?p=8244\n",
    "#使うのはx1,x2,x5,x6,x7,x9\n",
    "#x1のみについて説明する（以下同順）\n",
    "print(x1)#x1の中身を出力。\n",
    "r_x1=np.array([17])\n",
    "#分類範囲を決める(例：[1,3]の場合はx<1,1<=x<3,3<=xの3種類に分類できる。)範囲の個数？を増やせば分類個数を増やすことも可能。\n",
    "judge_x1=np.digitize(x1,r_x1)#実際に決めた範囲を用いてx1を分類し、judge_x1とする。\n",
    "print(judge_x1)#judge_x1の中身を出力。"
   ]
  },
  {
   "cell_type": "code",
   "execution_count": 16,
   "id": "316cbbeb-229a-4c0a-bf79-c55feb8486ae",
   "metadata": {},
   "outputs": [
    {
     "name": "stdout",
     "output_type": "stream",
     "text": [
      "[-11.2  -9.1  -8.  ...   2.3  -0.7  -2.3]\n",
      "[0 0 1 ... 1 1 1]\n",
      "[ 1.  2.  4. ... 36. 38. 40.]\n",
      "[0 0 0 ... 2 2 2]\n",
      "[16. 19.  1. ... 13.  4.  8.]\n",
      "[2 2 0 ... 1 0 1]\n",
      "[ 6.  8. 14. ... 15. 15. 15.]\n",
      "[0 1 1 ... 2 2 2]\n",
      "[ 51.  50.  28. ...  33. 100.  43.]\n",
      "[1 1 0 ... 0 2 1]\n"
     ]
    }
   ],
   "source": [
    "#x2~x9まで同様の作業を行う\n",
    "print(x2)\n",
    "r_x2=np.array([-9,10])\n",
    "judge_x2=np.digitize(x2,r_x2)\n",
    "print(judge_x2)\n",
    "print(x5)\n",
    "r_x5=np.array([14,28])\n",
    "judge_x5=np.digitize(x5,r_x5)\n",
    "print(judge_x5)\n",
    "print(x6)\n",
    "r_x6=np.array([8,15])\n",
    "judge_x6=np.digitize(x6,r_x6)\n",
    "print(judge_x6)\n",
    "print(x7)\n",
    "r_x7=np.array([8,15])\n",
    "judge_x7=np.digitize(x7,r_x7)\n",
    "print(judge_x7)\n",
    "print(x9)\n",
    "r_x9=np.array([34,67])\n",
    "judge_x9=np.digitize(x9,r_x9)\n",
    "print(judge_x9)"
   ]
  },
  {
   "cell_type": "code",
   "execution_count": 22,
   "id": "316aa423-ed88-4a7f-87d1-cf5cb43bc836",
   "metadata": {
    "tags": []
   },
   "outputs": [
    {
     "name": "stdout",
     "output_type": "stream",
     "text": [
      "1386\n",
      "['000201', '000211', '010010', '010211', '010111', '010111', '010211', '111202', '011012', '111201', '111011', '111112', '121121', '111121', '112210', '112010', '012020', '012221', '012021', '112221', '012221', '000011', '000122', '010121', '000121', '110221', '110121', '010021', '111221', '011020', '111221', '121222', '121122', '121021', '122021', '112221', '112220', '112020', '112221', '012020', '112021', '012021', '000111', '000201', '000210', '100110', '100121', '010211', '110221', '110021', '110221', '111021', '111021', '111021', '111022', '111121', '121121', '112012', '112111', '112221', '012122', '012221', '012122', '000200', '000200', '100000', '110200', '110200', '110100', '111200', '111000', '111200', '111000', '111000', '111200', '111000', '111000', '112100', '112200', '112100', '112010', '112210', '012210', '012110', '000110', '010200', '000010', '010110', '010110', '010110', '010200', '011200', '011200', '011200', '011100', '111100', '121100', '121000', '112200', '112200', '012100', '012100', '012000', '012000', '012100', '000120', '000020', '000110', '010210', '010210', '010010', '010210', '011110', '111110', '111110', '111210', '121200', '121000', '112200', '112000', '112000', '012000', '112101', '012101', '012101', '012202', '000021', '010221', '000011', '110221', '010111', '010021', '010021', '011021', '111121', '111211', '111011', '111201', '121001', '112111', '112111', '112111', '012211', '012011', '012211', '012011', '002011', '010201', '000102', '010202', '010202', '110202', '110001', '010001', '111101', '111001', '111201', '111211', '121011', '121211', '121111', '122111', '112111', '112211', '112211', '012010', '112110', '012021', '000021', '000211', '000211', '010001', '010111', '110111', '010211', '111111', '111211', '111211', '111212', '111001', '121002', '121011', '112211', '122011', '112201', '112211', '012112', '112202', '012012', '000112', '000121', '010021', '010211', '110212', '010111', '111211', '111011', '111121', '111121', '111221', '111120', '111221', '111120', '112221', '112221', '012021', '012021', '012021', '012020', '012020', '000121', '000221', '010121', '010120', '010121', '110121', '011111', '011211', '111011', '111011', '111211', '121211', '111021', '122220', '112221', '112021', '012021', '012121', '012221', '012121', '012021', '000201', '000201', '000101', '000011', '010121', '010021', '110121', '110021', '111122', '011121', '111122', '111221', '121021', '121221', '112021', '112221', '112021', '112121', '012221', '012022', '012022', '000011', '000111', '000020', '010220', '010120', '010220', '111120', '011120', '011210', '111220', '111220', '121020', '121110', '121020', '122120', '112220', '012020', '012120', '012210', '012110', '012010', '000020', '000210', '000010', '010220', '000020', '010020', '010021', '011020', '011020', '111020', '121120', '111020', '121120', '122220', '112220', '112120', '111020', '112120', '012220', '012220', '012120', '000110', '000100', '000010', '100010', '010100', '010110', '010100', '011200', '111100', '111000', '111100', '111000', '111201', '121101', '121201', '112200', '112200', '012200', '012000', '012111', '012201', '000021', '000120', '000221', '110221', '010121', '010221', '011021', '111122', '111221', '111122', '121121', '121122', '112021', '112221', '112020', '112022', '012121', '112220', '012121', '012221', '002121', '010111', '000011', '010020', '000201', '010012', '010112', '011111', '111221', '111221', '111221', '111011', '121021', '112111', '112121', '112010', '012121', '012211', '012012', '112212', '012011', '012111', '000211', '010210', '010201', '010001', '010202', '011100', '011111', '111211', '111101', '111001', '111110', '121011', '121211', '122211', '112211', '112211', '112111', '012011', '012011', '012110', '012011', '000102', '000111', '000121', '110021', '010021', '010221', '010021', '011120', '111120', '111222', '111022', '111122', '121021', '112221', '112122', '112122', '112021', '112221', '012022', '012022', '012222', '010212', '000122', '000212', '010101', '010012', '010211', '010221', '011211', '011021', '111221', '111021', '111020', '121021', '111121', '112021', '112121', '112021', '012221', '012221', '012122', '012222', '000021', '000011', '010111', '010120', '110221', '010021', '011111', '011012', '111111', '111210', '111211', '121111', '121211', '121011', '112210', '112020', '112020', '112110', '012210', '012210', '012010', '000101', '000201', '100201', '010001', '010101', '010201', '011101', '011001', '111100', '111101', '111201', '111010', '121201', '112101', '112000', '112010', '112111', '012201', '012210', '012201', '012101', '000210', '000010', '110111', '010011', '010120', '010020', '111110', '011211', '011211', '111010', '111210', '121010', '111210', '112110', '112110', '112210', '012210', '012010', '012110', '012210', '002210', '000010', '000020', '000020', '010210', '010120', '010220', '011120', '011210', '011110', '111210', '111100', '121211', '121110', '122010', '122211', '112210', '112210', '012010', '012011', '012110', '012010', '000101', '000000', '010201', '010200', '010100', '010201', '011100', '011201', '111001', '111001', '111001', '121101', '121200', '121100', '112200', '112000', '012001', '012201', '012202', '012102', '012202', '000121', '010020', '010220', '010020', '010120', '010121', '010220', '011221', '111121', '121121', '111121', '121021', '121220', '112221', '112121', '112021', '112220', '012021', '012121', '012221', '002222', '000201', '010201', '000101', '010201', '000201', '010101', '011102', '011202', '111002', '111001', '121101', '122111', '112211', '112211', '112111', '112011', '012211', '012011', '111001', '012211', '012111', '000022', '000022', '000121', '100120', '010221', '010021', '010021', '011121', '111121', '111221', '111221', '111121', '121011', '112121', '112121', '112210', '112211', '012011', '012211', '012211', '012021', '000220', '000121', '000011', '010221', '010121', '010121', '010022', '011221', '011222', '111022', '111221', '121121', '121121', '122121', '112021', '112221', '012121', '012221', '012121', '012022', '002021', '000122', '000011', '010022', '010221', '010022', '010021', '011121', '011021', '111121', '111121', '121221', '122021', '122121', '112121', '111121', '012022', '012221', '012121', '112022', '012221', '012222', '000201', '010010', '000120', '110020', '010021', '010021', '010021', '011121', '011220', '011121', '111220', '111120', '111121', '111221', '112221', '112020', '112020', '012120', '111222', '012022', '012121', '000100', '000010', '010000', '110200', '010010', '010110', '011010', '011010', '011120', '111110', '111110', '121210', '111210', '112110', '112000', '012200', '012200', '012200', '012100', '012200', '002111', '000020', '010210', '000220', '010110', '010110', '011200', '011000', '011201', '111000', '111100', '111200', '121201', '111101', '112000', '122000', '012100', '012200', '012200', '012201', '012001', '012102', '000200', '000100', '010100', '010000', '010200', '111000', '011100', '011000', '111100', '111000', '121000', '111000', '111100', '112200', '112100', '112200', '112200', '012100', '012200', '012100', '002200', '000102', '000212', '000211', '010101', '000011', '010211', '010012', '011211', '011121', '111111', '111211', '121021', '121121', '112221', '112021', '112221', '112221', '012221', '012011', '012221', '012121', '000011', '000211', '100111', '010011', '010211', '011211', '011021', '111211', '111011', '111111', '121111', '121111', '122111', '112111', '122211', '112110', '012010', '012210', '012011', '012211', '012111', '000021', '000211', '000210', '000210', '010020', '010210', '010010', '011120', '011111', '111201', '111200', '111200', '111111', '112200', '112011', '112210', '012211', '012011', '012110', '012010', '012110', '000201', '000001', '010000', '010001', '010100', '010210', '010120', '011010', '011020', '111120', '111210', '111210', '121211', '112210', '112010', '012211', '012011', '012020', '012210', '012111', '012210', '000201', '000201', '000200', '010100', '010101', '011001', '011201', '011201', '111100', '111101', '111101', '121101', '122002', '112101', '122101', '012201', '012001', '012201', '012002', '012202', '012102', '000002', '000101', '000210', '010211', '010011', '010111', '111211', '011111', '011011', '111111', '111211', '121211', '111201', '112011', '122211', '112011', '112111', '012111', '012011', '012212', '002102', '010021', '000221', '000221', '010211', '010020', '010021', '011121', '011211', '111011', '111211', '111021', '121121', '111121', '121021', '122020', '112011', '012020', '012110', '012021', '012121', '012211', '000021', '010121', '000021', '100011', '010121', '010021', '011221', '011021', '111221', '111221', '111221', '111021', '121121', '112021', '112021', '012120', '012021', '012021', '012121', '012121', '012221', '010120', '000120', '010120', '110021', '010121', '010121', '111221', '111020', '111120', '111120', '121020', '121220', '121120', '111220', '112221', '112021', '112120', '012020', '112022', '112121', '002021', '000101', '000111', '000221', '010111', '010020', '010011', '010111', '011121', '011210', '011110', '121211', '121000', '111011', '121201', '112201', '122100', '112001', '012100', '012200', '012201', '012101', '000111', '000021', '000020', '100100', '010200', '010201', '011201', '111001', '111201', '111100', '111201', '121201', '121001', '122201', '112200', '112101', '112101', '012001', '012002', '112201', '012102', '000201', '000011', '010210', '010210', '010210', '010011', '010001', '011200', '011010', '111210', '111010', '121110', '121110', '112010', '112210', '112010', '012210', '012010', '012110', '012110', '002210', '010200', '000010', '000010', '010200', '010101', '010101', '010101', '011201', '011001', '011201', '111000', '111100', '111201', '121200', '121201', '112101', '122100', '112200', '012201', '012001', '012201', '000020', '000220', '000220', '010010', '010010', '010210', '010010', '011020', '011120', '111020', '111220', '121110', '111110', '111020', '112021', '112120', '112110', '012010', '012220', '012220', '012220', '010100', '000200', '100200', '010000', '010000', '010000', '011200', '011000', '011200', '111100', '111200', '121100', '111200', '112201', '122201', '112100', '012101', '012100', '012001', '012002', '012002', '000201', '010020', '000210', '010010', '010010', '010020', '011020', '011210', '111020', '111120', '111220', '111120', '121121', '121120', '112220', '012020', '012220', '112221', '012220', '012122', '012022', '000200', '000000', '100200', '000100', '110010', '010200', '010100', '111010', '111000', '111200', '111200', '111100', '111100', '121200', '111000', '112200', '112000', '112100', '012200', '112000', '112202', '000200', '010010', '010120', '010220', '010210', '010110', '011201', '011101', '111011', '111100', '111010', '111210', '111210', '112010', '112110', '112210', '112010', '112210', '112210', '012110', '012210', '010110', '000100', '000200', '010000', '010200', '010200', '010000', '111100', '011100', '011000', '111100', '111100', '111210', '111210', '112000', '112010', '012110', '012100', '012000', '012200', '002000', '000100', '000200', '000100', '010210', '010200', '010100', '010000', '010110', '011220', '111210', '111210', '111110', '121010', '111200', '121100', '112000', '112000', '012200', '012100', '012100', '012200', '010220', '000220', '000010', '100020', '010020', '010120', '010110', '010210', '011110', '011010', '111010', '111110', '111210', '111210', '121210', '122010', '022210', '012110', '012110', '012010', '012210', '000200', '000100', '000100', '010000', '010101', '010100', '111210', '011210', '011010', '111210', '111100', '111200', '111100', '111000', '112200', '112100', '012100', '012100', '012200', '012100', '012100', '000120', '000210', '010010', '010220', '010220', '011210', '011010', '011010', '111020', '111020', '111220', '111020', '121010', '121110', '112110', '112110', '112210', '012110', '112110', '012010', '012210', '000110', '000110', '000220', '010120', '010110', '010210', '011010', '111210', '111210', '111210', '111010', '111210', '111010', '112210', '112010', '112110', '112110', '012110', '012100', '012000', '012200', '000021', '000021', '000221', '010121', '000121', '010121', '010211', '011010', '011120', '011220', '121120', '121120', '111221', '121221', '112011', '112111', '112210', '012020', '012020', '012120', '012021', '000110', '010221', '000011', '010120', '110121', '010221', '010021', '011120', '011220', '111220', '111221', '121021', '121121', '122221', '112021', '112220', '112221', '012121', '012220', '012122', '012021', '010101', '000000', '100200', '010200', '010100', '010100', '011001', '011201', '111201', '111001', '111100', '111200', '121200', '112101', '112000', '012201', '012101', '012000', '012201', '012201', '012102', '000010', '000201', '010100', '000000', '110110', '010000', '010200', '011201', '011201', '011100', '111201', '111200', '121000', '111200', '112000', '112101', '112200', '012200', '012101', '012001', '012001', '000201', '000201', '000100', '010210', '010000', '010200', '010200', '011200', '011100', '111101', '111000', '111200', '121100', '122100', '112000', '112000', '111010', '112000', '112100', '012200', '012201', '000021', '010020', '010220', '100220', '010120', '010020', '011020', '011020', '111020', '111220', '111220', '111020', '121020', '112121', '112120', '012020', '012220', '012120', '012120', '012120', '012220', '000201', '000201', '000210', '100201', '010200', '010200', '010201', '111200', '011200', '111100', '111000', '121200', '121201', '111101', '112001', '112001', '112100', '112100', '012001', '012201', '012101', '010201', '010101', '110201', '110201', '010002', '110100', '110011', '111210', '111111', '111010', '111210', '111011', '111120', '111122', '112022', '112221', '112221', '112020', '112120', '012022', '012121']\n"
     ]
    }
   ],
   "source": [
    "#x1~x9までそれぞれの項目について分類したので、それを結合し、1386データを729グループに分類する。\n",
    "#判定結果をstr(文字列)に直し、縦方向でつなげる。\n",
    "classification=[]\n",
    "for t in range(len(judge_x1)):\n",
    "    classification.append(str(judge_x1[t])+str(judge_x2[t])+str(judge_x5[t])\n",
    "             +str(judge_x6[t])+str(judge_x7[t])+str(judge_x9[t]))\n",
    "\n",
    "print(len(classification))    \n",
    "print(classification)"
   ]
  },
  {
   "cell_type": "code",
   "execution_count": 20,
   "id": "218f890d-6ca3-4834-9437-ba4933898c25",
   "metadata": {},
   "outputs": [
    {
     "name": "stdout",
     "output_type": "stream",
     "text": [
      "Counter({'111210': 25, '112221': 22, '111100': 22, '111221': 20, '000201': 19, '010021': 19, '111200': 17, '111000': 17, '010200': 17, '012100': 17, '010210': 17, '012200': 17, '112210': 16, '112021': 16, '112200': 16, '012110': 16, '112000': 16, '012121': 16, '111121': 15, '012221': 15, '012021': 15, '012201': 15, '010121': 14, '012210': 14, '012011': 14, '010120': 14, '111211': 13, '112110': 13, '010020': 13, '111020': 13, '010100': 13, '010010': 12, '111201': 12, '012020': 12, '000011': 12, '112111': 12, '010110': 12, '012010': 12, '010000': 12, '010211': 11, '111011': 11, '121121': 11, '112010': 11, '000021': 11, '012211': 11, '111120': 11, '010220': 11, '010101': 11, '011201': 11, '010111': 10, '000200': 10, '000010': 10, '011200': 10, '010201': 10, '111001': 10, '111220': 10, '012220': 10, '000100': 10, '111010': 10, '011010': 10, '121021': 9, '000210': 9, '112100': 9, '000020': 9, '111110': 9, '010221': 9, '112211': 9, '112121': 9, '012022': 9, '012001': 9, '000121': 8, '011020': 8, '112101': 8, '012101': 8, '111101': 8, '121211': 8, '011121': 8, '011120': 8, '012120': 8, '000211': 7, '112220': 7, '112020': 7, '111021': 7, '011100': 7, '012000': 7, '111111': 7, '011211': 7, '121201': 7, '110221': 6, '000110': 6, '121200': 6, '011021': 6, '010001': 6, '000221': 6, '011111': 6, '000101': 6, '111122': 6, '011210': 6, '121110': 6, '121120': 6, '112120': 6, '012111': 6, '112011': 6, '000220': 6, '000111': 5, '012122': 5, '121100': 5, '121000': 5, '000120': 5, '121011': 5, '010011': 5, '012102': 5, '110121': 4, '110021': 4, '011110': 4, '012202': 4, '121111': 4, '112201': 4, '121020': 4, '121101': 4, '112022': 4, '122211': 4, '011001': 4, '000000': 4, '011220': 4, '011000': 4, '012002': 4, '000122': 3, '111022': 3, '110200': 3, '000102': 3, '010202': 3, '122111': 3, '121221': 3, '010012': 3, '012222': 3, '121010': 3, '011221': 3, '010022': 3, '122100': 3, '112001': 3, '100200': 3, '011012': 2, '121122': 2, '122021': 2, '110100': 2, '121001': 2, '110111': 2, '112202': 2, '012012': 2, '122220': 2, '111222': 2, '112122': 2, '000212': 2, '100201': 2, '011101': 2, '002210': 2, '122010': 2, '121220': 2, '000022': 2, '122121': 2, '002021': 2, '121210': 2, '122201': 2, '110201': 2, '111202': 1, '111112': 1, '121222': 1, '100110': 1, '100121': 1, '112012': 1, '100000': 1, '002011': 1, '110202': 1, '110001': 1, '111212': 1, '121002': 1, '122011': 1, '012112': 1, '000112': 1, '110212': 1, '122120': 1, '100010': 1, '002121': 1, '010112': 1, '112212': 1, '010212': 1, '002222': 1, '011102': 1, '011202': 1, '111002': 1, '100120': 1, '011222': 1, '110020': 1, '002111': 1, '122000': 1, '002200': 1, '100111': 1, '000001': 1, '122002': 1, '122101': 1, '000002': 1, '011011': 1, '012212': 1, '002102': 1, '122020': 1, '100011': 1, '100100': 1, '110010': 1, '002000': 1, '100020': 1, '022210': 1, '122221': 1, '110110': 1, '100220': 1, '010002': 1, '110011': 1})\n",
      "{'012010', '110201', '002011', '112110', '121000', '112211', '121002', '011211', '012201', '110212', '012122', '012021', '110111', '012102', '111020', '110221', '110001', '002102', '011221', '002121', '110021', '010112', '112021', '111222', '011001', '121111', '121211', '100201', '112120', '112202', '121011', '111212', '111210', '012020', '002210', '011220', '112001', '100220', '012110', '111111', '100000', '011121', '012120', '100200', '002021', '012011', '111112', '012200', '112111', '000120', '110202', '112200', '122221', '100121', '011202', '111000', '012112', '000102', '010220', '010020', '012101', '000210', '000221', '000200', '012220', '011120', '010100', '012111', '010212', '012002', '100120', '111001', '122211', '010201', '011100', '112012', '012012', '000020', '000122', '111220', '011012', '122111', '012022', '110121', '012001', '121001', '011021', '112020', '122002', '010202', '111002', '122010', '112121', '112221', '122120', '010021', '100100', '010211', '100110', '000220', '110110', '010000', '002200', '010120', '100011', '111121', '121110', '111202', '000002', '122011', '121101', '011222', '112000', '000001', '110020', '112011', '100020', '110200', '121201', '011111', '010101', '112220', '010010', '000011', '010022', '000022', '112101', '011000', '000110', '111200', '000000', '011201', '112201', '121222', '010210', '002222', '011110', '122020', '012212', '112010', '000101', '112212', '012100', '112210', '111122', '112122', '010002', '121010', '122101', '111120', '011210', '111011', '000021', '010221', '000201', '000111', '010001', '111101', '111022', '110010', '000212', '010110', '122021', '121100', '122201', '000112', '002000', '111211', '111110', '011010', '002111', '112022', '122121', '010200', '111100', '012210', '010011', '100010', '022210', '012121', '110100', '122220', '111021', '121020', '112100', '000100', '000121', '012222', '011011', '012221', '111201', '010111', '012202', '011102', '111010', '122000', '111221', '121120', '010121', '121200', '122100', '100111', '110011', '011020', '012000', '121221', '010012', '121220', '012211', '121121', '121021', '000010', '011101', '000211', '011200', '121122', '121210'}\n",
      "217\n"
     ]
    }
   ],
   "source": [
    "print(collections.Counter(classification))#先程と同様に種類とその数を出力\n",
    "print(set(classification))#リスト内の重複を削除\n",
    "print(len(set(classification)))#重複を削除後のデータ数を出力"
   ]
  },
  {
   "cell_type": "code",
   "execution_count": null,
   "id": "4950f936-35a6-4176-b561-b4baf048cbdb",
   "metadata": {},
   "outputs": [],
   "source": []
  }
 ],
 "metadata": {
  "kernelspec": {
   "display_name": "Python 3",
   "language": "python",
   "name": "python3"
  },
  "language_info": {
   "codemirror_mode": {
    "name": "ipython",
    "version": 3
   },
   "file_extension": ".py",
   "mimetype": "text/x-python",
   "name": "python",
   "nbconvert_exporter": "python",
   "pygments_lexer": "ipython3",
   "version": "3.9.5"
  }
 },
 "nbformat": 4,
 "nbformat_minor": 5
}
