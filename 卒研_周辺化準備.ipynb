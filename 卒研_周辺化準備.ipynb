{
 "cells": [
  {
   "cell_type": "code",
   "execution_count": 1,
   "id": "89e787b0-9934-4ac9-822d-1d149375c1c8",
   "metadata": {},
   "outputs": [],
   "source": [
    "import pandas as pd\n",
    "import math\n",
    "import numpy as np\n",
    "from sklearn import tree\n",
    "import scipy.stats\n",
    "from sklearn import preprocessing"
   ]
  },
  {
   "cell_type": "code",
   "execution_count": 2,
   "id": "d970dfef-21fd-4e0f-9078-f485b5c80e53",
   "metadata": {},
   "outputs": [],
   "source": [
    "team_name_all=[\"愛媛\",\"横浜\",\"岡山\",\"岐阜\",\"京都\",\"金沢\",\"熊本\",\"甲府\",\"山形\",\"山口\",\"讃岐\",\"鹿児島\",\"松本\",\"湘南\",\"新潟\",\"水戸\",\"千葉\",\"群馬\",\"大宮\",\"大分\",\"町田\",\"長崎\",\"東京\",\"徳島\",\"栃木\",\"柏\",\"福岡\",\"名古屋\",\"琉球\"]\n",
    "team_number_all=[\"37\",\"34\",\"42\",\"39\",\"24\",\"275\",\"38\",\"28\",\"29\",\"330\",\"48\",\"338\",\"46\",\"12\",\"78\",\"94\",\"2\",\"35\",\"27\",\"31\",\"45\",\"47\",\"4\",\"36\",\"40\",\"11\",\"23\",\"8\",\"277\"]"
   ]
  },
  {
   "cell_type": "code",
   "execution_count": 3,
   "id": "3563451e-74a0-4ad9-9343-40ba12ad2a30",
   "metadata": {},
   "outputs": [],
   "source": [
    "all_team=[]\n",
    "kion=[]\n",
    "for i in range(29):\n",
    "    team_name=team_name_all[i]\n",
    "    team_number=team_number_all[i]\n",
    "    url=f\"https://data.j-league.or.jp/SFMS01/search?competition_years=2019&competition_years=2018&competition_years=2017&competition_frame_ids=2&team_ids={team_number}&home_away_select=1&tv_relay_station_name=\"\n",
    "    fomerdata=pd.read_html(url,header=0)\n",
    "    data=fomerdata[0].drop([\"大会\",\"スタジアム\"],axis=1)\n",
    "    game_day=data.試合日\n",
    "    game_day=[s.replace(\"月・祝\",\"月\").replace(\"火・祝\",\"火\").replace(\"水・祝\",\"水\").replace(\"木・祝\",\"木\").replace(\"金・祝\",\"金\").replace(\"土・祝\",\"土\").replace(\"日・祝\",\"日\").replace(\"月・休\",\"月\") for s in game_day]\n",
    "    day=data.年度.astype(str)+\"/\"+game_day\n",
    "    day=pd.DataFrame({\"年/月/日\":day})\n",
    "    data=pd.concat([data,day],axis=1)\n",
    "    tenki=pd.read_excel(f\"c:\\\\Users\\\\梅津魁秀\\\\Desktop\\\\卒業研究\\\\天気データ\\\\全国天気\\\\{team_name}.xlsx\",skiprows=3)\n",
    "    tenki=tenki.fillna(0)\n",
    "    tenki=tenki.drop(tenki.index[[0]]).reset_index(drop=True)\n",
    "    tenki=tenki.drop(tenki.index[1095])\n",
    "    #1時間当たりの降水量情報を入れる\n",
    "    tenki2=pd.read_excel(f\"c:\\\\Users\\\\梅津魁秀\\\\Desktop\\\\卒業研究\\\\1時間降水量の日最大\\\\{team_name}1.xlsx\",skiprows=3)\n",
    "    tenki2=tenki2.drop(tenki2.index[[0,1,1097]]).reset_index(drop=True)\n",
    "    tenki[\"1時間降水量の最大(mm)\"]=tenki2[\"1時間降水量の最大(mm)\"]\n",
    "    google_trend=pd.read_csv(\"gt.csv\").drop([\"Unnamed: 0\"],axis=1)\n",
    "    google_trend=google_trend[f\"{team_name}\"]\n",
    "    tenki=pd.concat([tenki,google_trend],axis=1)\n",
    "    tenki=tenki.rename(columns={f\"{team_name}\":\"ホームトレンド\"})\n",
    "    day2=tenki.年.round().astype(int).astype(str)+\"/\"+tenki.月.round().astype(int).astype(str).str.zfill(2)+\"/\"+tenki.日.round().astype(int).astype(str).str.zfill(2)+\"(\"+tenki.曜日+\")\"\n",
    "    day2=pd.DataFrame({\"年/月/日\":day2})\n",
    "    tenki=pd.concat([tenki,day2],axis=1)\n",
    "    data=pd.merge(data,tenki[[\"年/月/日\",\"平均気温(℃)\",\"降水量の合計(mm)\",\"日照時間(時間)\",\"ホームトレンド\",\"1時間降水量の最大(mm)\"]],on=\"年/月/日\",how=\"left\")\n",
    "    sec=data.節.str.translate(str.maketrans({chr(0xFF01 + i): chr(0x21 + i) for i in range(94)}))\n",
    "    sec=sec.str.extract(\"(.+)節\",expand=True).rename(columns={0:\"節数\"})\n",
    "    data=pd.concat([data,sec],axis=1)\n",
    "    rank=pd.read_csv(\"c:\\\\Users\\\\梅津魁秀\\\\anaconda3\\\\rank.csv\").drop([\"Unnamed: 0\"],axis=1)\n",
    "    rank2=rank.rename(columns={\"アウェイ\":\"ホーム\"})\n",
    "    data=pd.merge(data,rank[[\"アウェイ\",\"節数\",\"年度\",\"順位\"]],on=[\"アウェイ\",\"年度\",\"節数\"],how=\"left\")\n",
    "    data=pd.merge(data,rank2[[\"ホーム\",\"節数\",\"年度\",\"順位\"]],on=[\"ホーム\",\"年度\",\"節数\"],how=\"left\")\n",
    "    data=data.rename(columns={\"順位_x\":\"アウェイ順位\",\"順位_y\":\"ホーム順位\"})\n",
    "    data[\"節数\"]=data[\"節数\"].str.replace('第', '')\n",
    "    data[\"K/O時刻\"]=data[\"K/O時刻\"].str[:2]\n",
    "    score=data.スコア.str.split('-', expand=True)\n",
    "    score=score[[0,1]].astype(np.int64)\n",
    "    data[\"点数(ホームーアウェイ)\"]=score[0]-score[1]\n",
    "    data=data.drop([\"年度\",\"節\",\"試合日\",\"ホーム\",\"インターネット中継・TV放送\",\"年/月/日\",\"アウェイ\",\"スコア\"],axis=1)\n",
    "    #入場者数と平均気温に関しては、その地域ごとに偏差をとり、データに反映する。\n",
    "#     visitors=int(data[\"入場者数\"].mean())\n",
    "    temperature＿mean=int(data[\"平均気温(℃)\"].mean())\n",
    "    kion.append({temperature＿mean:team_name})\n",
    "    #それぞれ平均を引いた値を出力する。\n",
    "    data[\"平均気温(℃)\"]=round(data[\"平均気温(℃)\"]-temperature＿mean,1)\n",
    "    data[\"入場者数\"]=preprocessing.scale(data[\"入場者数\"])\n",
    "#     data[\"入場者数\"]=data[\"入場者数\"]-visitors\n",
    "    all_team.append(data)"
   ]
  },
  {
   "cell_type": "code",
   "execution_count": 4,
   "id": "2e832081-3342-4dc9-b0e5-709f89ced2b2",
   "metadata": {},
   "outputs": [
    {
     "name": "stdout",
     "output_type": "stream",
     "text": [
      "29\n"
     ]
    },
    {
     "data": {
      "text/html": [
       "<div>\n",
       "<style scoped>\n",
       "    .dataframe tbody tr th:only-of-type {\n",
       "        vertical-align: middle;\n",
       "    }\n",
       "\n",
       "    .dataframe tbody tr th {\n",
       "        vertical-align: top;\n",
       "    }\n",
       "\n",
       "    .dataframe thead th {\n",
       "        text-align: right;\n",
       "    }\n",
       "</style>\n",
       "<table border=\"1\" class=\"dataframe\">\n",
       "  <thead>\n",
       "    <tr style=\"text-align: right;\">\n",
       "      <th></th>\n",
       "      <th>K/O時刻</th>\n",
       "      <th>入場者数</th>\n",
       "      <th>平均気温(℃)</th>\n",
       "      <th>降水量の合計(mm)</th>\n",
       "      <th>日照時間(時間)</th>\n",
       "      <th>ホームトレンド</th>\n",
       "      <th>1時間降水量の最大(mm)</th>\n",
       "      <th>節数</th>\n",
       "      <th>アウェイ順位</th>\n",
       "      <th>ホーム順位</th>\n",
       "      <th>点数(ホームーアウェイ)</th>\n",
       "    </tr>\n",
       "  </thead>\n",
       "  <tbody>\n",
       "    <tr>\n",
       "      <th>0</th>\n",
       "      <td>15.0</td>\n",
       "      <td>1.602909</td>\n",
       "      <td>-11.2</td>\n",
       "      <td>0.0</td>\n",
       "      <td>4.9</td>\n",
       "      <td>51.0</td>\n",
       "      <td>0.0</td>\n",
       "      <td>1.0</td>\n",
       "      <td>16.0</td>\n",
       "      <td>6.0</td>\n",
       "      <td>1.0</td>\n",
       "    </tr>\n",
       "    <tr>\n",
       "      <th>1</th>\n",
       "      <td>15.0</td>\n",
       "      <td>0.032360</td>\n",
       "      <td>-9.1</td>\n",
       "      <td>0.0</td>\n",
       "      <td>4.7</td>\n",
       "      <td>50.0</td>\n",
       "      <td>0.0</td>\n",
       "      <td>2.0</td>\n",
       "      <td>19.0</td>\n",
       "      <td>8.0</td>\n",
       "      <td>0.0</td>\n",
       "    </tr>\n",
       "    <tr>\n",
       "      <th>2</th>\n",
       "      <td>15.0</td>\n",
       "      <td>-0.082965</td>\n",
       "      <td>-8.0</td>\n",
       "      <td>0.0</td>\n",
       "      <td>10.7</td>\n",
       "      <td>28.0</td>\n",
       "      <td>0.0</td>\n",
       "      <td>4.0</td>\n",
       "      <td>1.0</td>\n",
       "      <td>14.0</td>\n",
       "      <td>-1.0</td>\n",
       "    </tr>\n",
       "    <tr>\n",
       "      <th>3</th>\n",
       "      <td>15.0</td>\n",
       "      <td>0.124165</td>\n",
       "      <td>-2.3</td>\n",
       "      <td>0.5</td>\n",
       "      <td>1.6</td>\n",
       "      <td>51.0</td>\n",
       "      <td>0.5</td>\n",
       "      <td>7.0</td>\n",
       "      <td>20.0</td>\n",
       "      <td>12.0</td>\n",
       "      <td>1.0</td>\n",
       "    </tr>\n",
       "    <tr>\n",
       "      <th>4</th>\n",
       "      <td>15.0</td>\n",
       "      <td>-1.003292</td>\n",
       "      <td>-1.8</td>\n",
       "      <td>0.0</td>\n",
       "      <td>10.4</td>\n",
       "      <td>38.0</td>\n",
       "      <td>0.0</td>\n",
       "      <td>9.0</td>\n",
       "      <td>9.0</td>\n",
       "      <td>13.0</td>\n",
       "      <td>1.0</td>\n",
       "    </tr>\n",
       "    <tr>\n",
       "      <th>...</th>\n",
       "      <td>...</td>\n",
       "      <td>...</td>\n",
       "      <td>...</td>\n",
       "      <td>...</td>\n",
       "      <td>...</td>\n",
       "      <td>...</td>\n",
       "      <td>...</td>\n",
       "      <td>...</td>\n",
       "      <td>...</td>\n",
       "      <td>...</td>\n",
       "      <td>...</td>\n",
       "    </tr>\n",
       "    <tr>\n",
       "      <th>1381</th>\n",
       "      <td>19.0</td>\n",
       "      <td>-0.965138</td>\n",
       "      <td>3.1</td>\n",
       "      <td>8.5</td>\n",
       "      <td>0.6</td>\n",
       "      <td>35.0</td>\n",
       "      <td>5.5</td>\n",
       "      <td>31.0</td>\n",
       "      <td>20.0</td>\n",
       "      <td>15.0</td>\n",
       "      <td>1.0</td>\n",
       "    </tr>\n",
       "    <tr>\n",
       "      <th>1382</th>\n",
       "      <td>19.0</td>\n",
       "      <td>-0.793780</td>\n",
       "      <td>2.5</td>\n",
       "      <td>0.0</td>\n",
       "      <td>3.9</td>\n",
       "      <td>20.0</td>\n",
       "      <td>0.0</td>\n",
       "      <td>33.0</td>\n",
       "      <td>2.0</td>\n",
       "      <td>15.0</td>\n",
       "      <td>0.0</td>\n",
       "    </tr>\n",
       "    <tr>\n",
       "      <th>1383</th>\n",
       "      <td>18.0</td>\n",
       "      <td>-0.062424</td>\n",
       "      <td>2.3</td>\n",
       "      <td>0.0</td>\n",
       "      <td>6.2</td>\n",
       "      <td>33.0</td>\n",
       "      <td>0.0</td>\n",
       "      <td>36.0</td>\n",
       "      <td>13.0</td>\n",
       "      <td>15.0</td>\n",
       "      <td>-4.0</td>\n",
       "    </tr>\n",
       "    <tr>\n",
       "      <th>1384</th>\n",
       "      <td>13.0</td>\n",
       "      <td>1.296536</td>\n",
       "      <td>-0.7</td>\n",
       "      <td>0.0</td>\n",
       "      <td>3.4</td>\n",
       "      <td>100.0</td>\n",
       "      <td>0.0</td>\n",
       "      <td>38.0</td>\n",
       "      <td>4.0</td>\n",
       "      <td>15.0</td>\n",
       "      <td>-1.0</td>\n",
       "    </tr>\n",
       "    <tr>\n",
       "      <th>1385</th>\n",
       "      <td>16.0</td>\n",
       "      <td>1.092862</td>\n",
       "      <td>-2.3</td>\n",
       "      <td>0.0</td>\n",
       "      <td>10.2</td>\n",
       "      <td>43.0</td>\n",
       "      <td>0.0</td>\n",
       "      <td>40.0</td>\n",
       "      <td>8.0</td>\n",
       "      <td>15.0</td>\n",
       "      <td>-3.0</td>\n",
       "    </tr>\n",
       "  </tbody>\n",
       "</table>\n",
       "<p>1386 rows × 11 columns</p>\n",
       "</div>"
      ],
      "text/plain": [
       "      K/O時刻      入場者数  平均気温(℃)  降水量の合計(mm)  日照時間(時間)  ホームトレンド  1時間降水量の最大(mm)  \\\n",
       "0      15.0  1.602909    -11.2         0.0       4.9     51.0            0.0   \n",
       "1      15.0  0.032360     -9.1         0.0       4.7     50.0            0.0   \n",
       "2      15.0 -0.082965     -8.0         0.0      10.7     28.0            0.0   \n",
       "3      15.0  0.124165     -2.3         0.5       1.6     51.0            0.5   \n",
       "4      15.0 -1.003292     -1.8         0.0      10.4     38.0            0.0   \n",
       "...     ...       ...      ...         ...       ...      ...            ...   \n",
       "1381   19.0 -0.965138      3.1         8.5       0.6     35.0            5.5   \n",
       "1382   19.0 -0.793780      2.5         0.0       3.9     20.0            0.0   \n",
       "1383   18.0 -0.062424      2.3         0.0       6.2     33.0            0.0   \n",
       "1384   13.0  1.296536     -0.7         0.0       3.4    100.0            0.0   \n",
       "1385   16.0  1.092862     -2.3         0.0      10.2     43.0            0.0   \n",
       "\n",
       "        節数  アウェイ順位  ホーム順位  点数(ホームーアウェイ)  \n",
       "0      1.0    16.0    6.0           1.0  \n",
       "1      2.0    19.0    8.0           0.0  \n",
       "2      4.0     1.0   14.0          -1.0  \n",
       "3      7.0    20.0   12.0           1.0  \n",
       "4      9.0     9.0   13.0           1.0  \n",
       "...    ...     ...    ...           ...  \n",
       "1381  31.0    20.0   15.0           1.0  \n",
       "1382  33.0     2.0   15.0           0.0  \n",
       "1383  36.0    13.0   15.0          -4.0  \n",
       "1384  38.0     4.0   15.0          -1.0  \n",
       "1385  40.0     8.0   15.0          -3.0  \n",
       "\n",
       "[1386 rows x 11 columns]"
      ]
     },
     "execution_count": 4,
     "metadata": {},
     "output_type": "execute_result"
    }
   ],
   "source": [
    "#forループでリストにしっかり格納されたか個数をチェック(29個であれば成功)\n",
    "print(len(all_team))\n",
    "#リストを全て合わせてall_team_kanseiとする。\n",
    "all_team_kansei=pd.concat(all_team)\n",
    "#データを行方向でシャッフル\n",
    "#再度reset_indexを↓で行うことで、行番号を再度設定する。\n",
    "# all_team_kansei=all_team_kansei.sample(frac=1)\n",
    "all_team_kansei=all_team_kansei.astype('float64').reset_index(drop=True)\n",
    "# all_team_kansei.to_csv(\"a.csv\")\n",
    "all_team_kansei"
   ]
  },
  {
   "cell_type": "code",
   "execution_count": 5,
   "id": "4f256c5d-fc20-48bf-bf84-ddea8ccaf235",
   "metadata": {},
   "outputs": [],
   "source": [
    "#説明変数となるものをそれぞれx1~x9まで作成\n",
    "x1=np.array(all_team_kansei[\"1時間降水量の最大(mm)\"])\n",
    "x2=np.array(all_team_kansei[\"平均気温(℃)\"])\n",
    "x3=np.array(all_team_kansei[\"降水量の合計(mm)\"])\n",
    "x4=np.array(all_team_kansei[\"日照時間(時間)\"])\n",
    "x5=np.array(all_team_kansei[\"節数\"])\n",
    "x6=np.array(all_team_kansei[\"アウェイ順位\"])\n",
    "x7=np.array(all_team_kansei[\"ホーム順位\"])\n",
    "x8=np.array(all_team_kansei[\"点数(ホームーアウェイ)\"])\n",
    "x9=np.array(all_team_kansei[\"ホームトレンド\"])\n",
    "#目的変数(観客動員数)をyに入れる\n",
    "# y=np.array(all_team_kansei[\"入場者数\"])\n",
    "# X=np.c_[x1,x2,x3,x4,x5,x6,x7,x8,x9]#SVRが使えるように変数を結合\n",
    "# print(X.dtype,y.dtype)"
   ]
  },
  {
   "cell_type": "code",
   "execution_count": 6,
   "id": "5a444932-786e-4e43-aeee-b5c1b5e51d15",
   "metadata": {},
   "outputs": [],
   "source": [
    "#各項目を整理するために、ヒストグラムに出力する。\n",
    "#標準化未実装\n",
    "import pandas as pd\n",
    "import collections\n",
    "import numpy as np\n",
    "import matplotlib.pyplot as plt\n",
    "from matplotlib.font_manager import FontProperties \n",
    "#日本語を表示するにはこうするらしい \n",
    "fp = FontProperties(fname=r'C:\\WINDOWS\\Fonts\\msgothic.ttc', size=16) "
   ]
  },
  {
   "cell_type": "code",
   "execution_count": 7,
   "id": "d5adc23f-8848-4f55-8ef4-b6a04b04a282",
   "metadata": {},
   "outputs": [
    {
     "name": "stdout",
     "output_type": "stream",
     "text": [
      "Counter({0.0: 906, 0.5: 72, 1.5: 45, 1.0: 43, 2.5: 32, 2.0: 32, 3.5: 26, 4.0: 23, 3.0: 23, 5.0: 19, 5.5: 19, 6.0: 16, 4.5: 15, 6.5: 14, 7.5: 7, 10.5: 7, 7.0: 7, 8.0: 6, 9.5: 6, 8.5: 6, 14.0: 6, 11.0: 5, 9.0: 5, 10.0: 4, 13.5: 4, 14.5: 4, 12.0: 3, 11.5: 3, 13.0: 2, 15.0: 2, 19.5: 2, 21.0: 2, 20.0: 2, 17.0: 2, 12.5: 2, 25.0: 1, 16.5: 1, 40.0: 1, 28.5: 1, 44.0: 1, 18.5: 1, 16.0: 1, 22.5: 1, 18.0: 1, 20.5: 1, 23.5: 1, 28.0: 1, 27.5: 1, 31.5: 1})\n",
      "49\n"
     ]
    },
    {
     "data": {
      "image/png": "[encoded data removed]",
      "text/plain": [
       "<Figure size 432x288 with 1 Axes>"
      ]
     },
     "metadata": {
      "needs_background": "light"
     },
     "output_type": "display_data"
    }
   ],
   "source": [
    "#x1と同様に他のデータも行うので、説明ここだけであとは省略する。\n",
    "print(collections.Counter(x1))#種類とその個数を出力\n",
    "print(len(collections.Counter(x1)))#種類数を出力\n",
    "fig = plt.figure()\n",
    "ax = fig.add_subplot(1, 1, 1)\n",
    "ax.hist(x1, bins=49, histtype='barstacked', ec='black')#binで何個の棒の数を決める(今回は種類数にしている)\n",
    "plt.title(\"1時間降水量の最大(mm)\", fontsize=20,fontproperties=fp)\n",
    "plt.show()"
   ]
  },
  {
   "cell_type": "code",
   "execution_count": 8,
   "id": "c44885bc-2ab9-4ad3-acce-3076bb867fa1",
   "metadata": {},
   "outputs": [
    {
     "name": "stdout",
     "output_type": "stream",
     "text": [
      "[{19: '愛媛'}, {19: '横浜'}, {19: '岡山'}, {20: '岐阜'}, {19: '京都'}, {18: '金沢'}, {21: '熊本'}, {19: '甲府'}, {16: '山形'}, {18: '山口'}, {19: '讃岐'}, {21: '鹿児島'}, {16: '松本'}, {19: '湘南'}, {18: '新潟'}, {17: '水戸'}, {19: '千葉'}, {18: '群馬'}, {19: '大宮'}, {19: '大分'}, {19: '町田'}, {20: '長崎'}, {19: '東京'}, {20: '徳島'}, {18: '栃木'}, {19: '柏'}, {20: '福岡'}, {19: '名古屋'}, {24: '琉球'}]\n"
     ]
    }
   ],
   "source": [
    "print(kion)"
   ]
  },
  {
   "cell_type": "code",
   "execution_count": 9,
   "id": "0d3bafc7-b65a-42d8-96f8-12936a9b69e3",
   "metadata": {},
   "outputs": [
    {
     "name": "stdout",
     "output_type": "stream",
     "text": [
      "Counter({3.7: 16, 1.9: 15, 2.4: 13, 1.4: 13, -1.8: 12, 2.3: 12, 0.0: 12, -1.1: 12, -1.3: 11, 10.7: 11, 3.3: 11, -0.1: 11, -1.9: 11, 2.7: 11, -1.0: 11, -0.7: 11, 2.5: 10, -2.2: 10, 9.9: 10, 4.1: 10, 2.0: 10, 5.6: 10, -1.6: 10, 10.5: 9, 10.9: 9, -2.0: 9, 6.2: 9, 3.8: 9, -0.3: 9, -0.2: 9, 3.0: 9, 4.3: 9, 1.6: 9, -2.4: 9, 0.4: 8, 9.5: 8, -1.7: 8, -10.4: 8, -2.9: 8, 6.9: 8, 3.2: 8, 8.7: 8, 0.7: 8, -0.6: 8, 3.1: 8, 5.2: 8, 0.9: 8, 4.8: 8, 5.3: 8, 4.4: 8, -11.2: 7, 9.6: 7, -10.3: 7, -1.5: 7, 1.2: 7, 6.0: 7, 6.4: 7, 1.8: 7, -9.8: 7, 6.7: 7, -2.5: 7, -4.8: 7, 1.5: 7, 10.4: 7, 8.5: 7, 9.1: 7, -5.7: 7, 7.2: 7, -1.4: 7, -4.6: 7, 4.0: 7, 5.5: 7, 11.2: 7, 9.8: 6, -2.7: 6, 2.9: 6, -3.7: 6, 7.1: 6, 1.7: 6, -10.8: 6, -4.0: 6, -6.7: 6, -9.2: 6, -3.4: 6, 6.6: 6, 3.4: 6, -3.5: 6, 11.0: 6, 7.5: 6, -12.2: 6, 7.8: 6, 9.4: 6, 2.2: 6, -11.0: 6, -2.1: 6, 8.6: 6, 10.3: 6, -11.1: 6, 4.5: 6, 5.1: 6, -10.5: 6, -3.0: 6, -6.3: 6, -3.9: 6, 10.0: 6, 8.9: 6, 3.9: 6, 1.0: 6, -2.3: 5, 8.2: 5, -4.5: 5, -10.9: 5, -5.4: 5, 4.7: 5, 9.7: 5, -10.1: 5, 5.7: 5, -4.4: 5, -9.0: 5, -11.5: 5, 10.6: 5, -2.8: 5, 1.3: 5, -7.2: 5, -3.1: 5, 2.6: 5, 0.1: 5, -6.9: 5, 3.6: 5, 5.4: 5, -12.0: 5, -6.2: 5, -5.9: 5, -8.1: 5, -5.6: 5, 5.0: 5, 10.1: 5, -3.3: 5, 9.2: 5, -11.8: 5, 2.8: 5, 6.3: 5, -9.5: 5, -9.1: 4, -7.0: 4, -6.8: 4, 0.3: 4, 2.1: 4, 3.5: 4, -6.5: 4, -10.7: 4, 9.3: 4, 0.2: 4, 4.2: 4, -1.2: 4, -4.1: 4, -12.1: 4, -12.4: 4, -0.5: 4, -5.5: 4, 8.8: 4, 6.1: 4, -11.6: 4, -0.4: 4, -3.8: 4, 11.7: 4, 6.8: 4, -12.7: 4, 7.0: 4, -4.7: 4, 1.1: 4, 12.1: 4, 8.0: 4, 7.4: 4, -6.6: 4, -6.1: 4, -0.9: 4, 11.1: 4, -9.9: 4, -11.4: 4, 12.6: 4, -5.1: 4, 9.0: 4, -4.9: 4, 7.9: 4, -0.8: 3, 10.8: 3, -7.1: 3, -6.0: 3, 7.7: 3, 10.2: 3, -12.5: 3, -7.3: 3, 11.9: 3, 0.6: 3, 0.5: 3, 5.8: 3, -5.2: 3, -9.4: 3, 12.8: 3, -7.5: 3, -5.8: 3, -11.9: 3, 7.3: 3, 8.4: 3, -11.7: 3, -4.2: 3, -3.6: 3, -14.5: 3, 12.4: 3, 11.4: 3, 11.6: 3, 8.1: 3, -8.6: 3, 8.3: 3, -8.0: 2, -11.3: 2, 11.5: 2, -12.6: 2, -8.8: 2, 12.9: 2, -10.6: 2, -7.4: 2, 11.8: 2, -14.9: 2, -7.9: 2, -12.3: 2, -13.2: 2, 6.5: 2, -13.3: 2, -12.8: 2, -14.0: 2, 12.2: 2, 4.6: 2, -9.3: 2, -8.4: 2, -5.3: 2, -5.0: 2, -8.2: 2, 0.8: 2, -4.3: 2, -13.6: 2, -3.2: 2, -7.6: 2, -9.7: 2, -13.8: 2, -13.0: 2, 5.9: 2, -10.0: 1, -7.8: 1, -7.7: 1, -12.9: 1, -2.6: 1, 12.3: 1, 13.5: 1, 12.7: 1, 12.5: 1, -14.3: 1, -15.8: 1, -15.0: 1, 13.0: 1, 12.0: 1, -13.1: 1, -13.5: 1, 15.0: 1, 11.3: 1, -9.6: 1, -16.0: 1, 7.6: 1, -13.4: 1, -15.2: 1, -15.5: 1, -6.4: 1, -8.3: 1})\n",
      "274\n"
     ]
    },
    {
     "data": {
      "image/png": "[encoded data removed]",
      "text/plain": [
       "<Figure size 432x288 with 1 Axes>"
      ]
     },
     "metadata": {
      "needs_background": "light"
     },
     "output_type": "display_data"
    }
   ],
   "source": [
    "#データの編集が雑(入場者数にも言えるが)\n",
    "print(collections.Counter(x2))\n",
    "print(len(collections.Counter(x2)))\n",
    "fig = plt.figure()\n",
    "ax = fig.add_subplot(1, 1, 1)\n",
    "ax.hist(x2, bins=284, histtype='barstacked', ec='black')\n",
    "plt.title(\"平均気温(℃)\", fontsize=20,fontproperties=fp)\n",
    "plt.show()"
   ]
  },
  {
   "cell_type": "code",
   "execution_count": 10,
   "id": "5bc4275c-2ee2-4a22-ab30-c75d663d5bc1",
   "metadata": {},
   "outputs": [
    {
     "name": "stdout",
     "output_type": "stream",
     "text": [
      "Counter({0.0: 915, 0.5: 59, 1.0: 23, 2.0: 23, 1.5: 21, 2.5: 17, 3.5: 15, 3.0: 13, 9.0: 12, 6.0: 12, 4.5: 12, 4.0: 11, 8.5: 10, 5.0: 10, 6.5: 10, 5.5: 8, 7.5: 8, 10.0: 7, 14.0: 7, 15.0: 7, 7.0: 7, 13.0: 6, 14.5: 6, 11.5: 6, 16.0: 6, 16.5: 5, 12.0: 5, 11.0: 5, 8.0: 5, 29.5: 5, 19.5: 5, 18.5: 5, 20.0: 4, 39.0: 4, 10.5: 4, 27.0: 4, 15.5: 4, 23.5: 4, 17.0: 4, 12.5: 4, 25.0: 3, 9.5: 3, 20.5: 3, 17.5: 3, 13.5: 3, 25.5: 3, 29.0: 3, 41.0: 2, 46.0: 2, 18.0: 2, 80.0: 2, 60.0: 2, 19.0: 2, 30.0: 2, 31.0: 2, 21.0: 2, 36.5: 2, 43.0: 2, 21.5: 2, 22.5: 2, 35.0: 2, 24.0: 2, 30.5: 1, 22.0: 1, 63.0: 1, 46.5: 1, 98.5: 1, 59.0: 1, 40.0: 1, 28.5: 1, 110.5: 1, 82.0: 1, 91.5: 1, 44.0: 1, 45.5: 1, 23.0: 1, 126.0: 1, 65.0: 1, 38.0: 1, 124.5: 1, 66.5: 1, 34.5: 1, 39.5: 1, 32.5: 1, 47.0: 1, 66.0: 1, 88.5: 1, 37.5: 1, 28.0: 1, 93.5: 1, 33.5: 1, 53.5: 1, 26.5: 1, 56.5: 1, 44.5: 1, 24.5: 1, 55.0: 1, 92.0: 1, 32.0: 1})\n",
      "138\n"
     ]
    },
    {
     "data": {
      "image/png": "[encoded data removed]",
      "text/plain": [
       "<Figure size 432x288 with 1 Axes>"
      ]
     },
     "metadata": {
      "needs_background": "light"
     },
     "output_type": "display_data"
    }
   ],
   "source": [
    "print(collections.Counter(x3))\n",
    "print(len(collections.Counter(x4)))\n",
    "fig = plt.figure()\n",
    "ax = fig.add_subplot(1, 1, 1)\n",
    "ax.hist(x3, bins=138, histtype='barstacked', ec='black')\n",
    "plt.title(\"降水量\", fontsize=20,fontproperties=fp)\n",
    "plt.show()"
   ]
  },
  {
   "cell_type": "code",
   "execution_count": 11,
   "id": "bcab6d00-eca0-4b94-a2d8-d284904b7eb5",
   "metadata": {},
   "outputs": [
    {
     "name": "stdout",
     "output_type": "stream",
     "text": [
      "Counter({0.0: 194, 0.1: 24, 9.7: 21, 9.5: 21, 0.6: 18, 11.3: 17, 6.7: 16, 10.2: 16, 11.7: 16, 9.3: 16, 0.5: 15, 9.4: 14, 0.4: 14, 0.3: 14, 10.4: 13, 9.1: 13, 11.1: 13, 0.2: 13, 8.3: 13, 11.2: 13, 8.5: 13, 12.3: 13, 9.6: 12, 6.8: 12, 6.6: 12, 11.5: 12, 12.5: 12, 7.7: 12, 10.7: 11, 1.6: 11, 8.0: 11, 1.7: 11, 12.1: 11, 10.3: 11, 10.0: 11, 8.8: 11, 2.6: 11, 0.7: 11, 7.3: 11, 2.9: 11, 3.4: 11, 3.9: 10, 10.6: 10, 5.3: 10, 9.8: 10, 8.7: 10, 9.0: 10, 12.2: 10, 5.8: 10, 6.1: 10, 3.6: 10, 12.0: 10, 8.1: 10, 11.4: 10, 4.7: 9, 10.1: 9, 8.9: 9, 8.4: 9, 13.0: 9, 7.6: 9, 5.9: 9, 6.9: 9, 8.6: 9, 0.8: 9, 9.2: 9, 9.9: 9, 5.7: 9, 7.1: 9, 11.0: 9, 10.8: 9, 7.2: 9, 11.9: 8, 12.4: 8, 4.8: 8, 13.1: 8, 7.8: 8, 12.7: 8, 5.6: 8, 12.8: 8, 12.6: 8, 6.5: 8, 7.0: 8, 2.1: 8, 3.0: 8, 1.0: 8, 4.1: 8, 10.9: 8, 1.8: 8, 3.2: 8, 11.6: 7, 11.8: 7, 2.4: 7, 4.5: 7, 4.4: 7, 6.2: 7, 7.9: 7, 5.0: 7, 1.3: 6, 10.5: 6, 1.9: 6, 2.8: 6, 4.0: 6, 1.4: 6, 6.0: 6, 7.4: 6, 4.9: 5, 2.7: 5, 3.7: 5, 1.1: 5, 3.3: 5, 3.5: 5, 3.1: 5, 8.2: 5, 5.1: 5, 4.2: 5, 7.5: 4, 1.5: 4, 1.2: 4, 13.5: 4, 2.0: 4, 2.3: 4, 3.8: 4, 2.2: 4, 12.9: 3, 6.3: 3, 4.3: 3, 13.2: 3, 5.2: 3, 5.5: 3, 13.6: 3, 6.4: 3, 5.4: 3, 2.5: 2, 4.6: 2, 0.9: 2, 13.4: 2, 13.3: 2, 13.8: 1})\n",
      "138\n"
     ]
    },
    {
     "data": {
      "image/png": "[encoded data removed]",
      "text/plain": [
       "<Figure size 432x288 with 1 Axes>"
      ]
     },
     "metadata": {
      "needs_background": "light"
     },
     "output_type": "display_data"
    }
   ],
   "source": [
    "print(collections.Counter(x4))\n",
    "print(len(collections.Counter(x4)))\n",
    "fig = plt.figure()\n",
    "ax = fig.add_subplot(1, 1, 1)\n",
    "ax.hist(x4, bins=138, histtype='barstacked', ec='black')\n",
    "plt.title(\"日照時間\", fontsize=20,fontproperties=fp)\n",
    "plt.show()"
   ]
  },
  {
   "cell_type": "code",
   "execution_count": 12,
   "id": "2ea7da07-d861-480e-a333-2ad039d9ec48",
   "metadata": {},
   "outputs": [
    {
     "name": "stdout",
     "output_type": "stream",
     "text": [
      "Counter({1.0: 33, 2.0: 33, 4.0: 33, 7.0: 33, 9.0: 33, 10.0: 33, 12.0: 33, 14.0: 33, 15.0: 33, 18.0: 33, 20.0: 33, 23.0: 33, 25.0: 33, 27.0: 33, 29.0: 33, 30.0: 33, 34.0: 33, 37.0: 33, 40.0: 33, 33.0: 33, 41.0: 33, 6.0: 33, 8.0: 33, 11.0: 33, 13.0: 33, 24.0: 33, 28.0: 33, 31.0: 33, 32.0: 33, 35.0: 33, 39.0: 33, 5.0: 33, 17.0: 33, 19.0: 33, 21.0: 33, 26.0: 33, 36.0: 33, 3.0: 33, 16.0: 33, 38.0: 33, 22.0: 33, 42.0: 33})\n",
      "42\n"
     ]
    },
    {
     "data": {
      "image/png": "[encoded data removed]",
      "text/plain": [
       "<Figure size 432x288 with 1 Axes>"
      ]
     },
     "metadata": {
      "needs_background": "light"
     },
     "output_type": "display_data"
    }
   ],
   "source": [
    "print(collections.Counter(x5))\n",
    "print(len(collections.Counter(x5)))\n",
    "fig = plt.figure()\n",
    "ax = fig.add_subplot(1, 1, 1)\n",
    "ax.hist(x5,bins=42, histtype='barstacked', ec='black')\n",
    "plt.title(\"節数\", fontsize=20,fontproperties=fp)\n",
    "plt.show()"
   ]
  },
  {
   "cell_type": "code",
   "execution_count": 13,
   "id": "5f1d5110-2d22-4d0e-b177-fe48d1e51093",
   "metadata": {},
   "outputs": [
    {
     "name": "stdout",
     "output_type": "stream",
     "text": [
      "Counter({12.0: 70, 8.0: 70, 16.0: 67, 17.0: 67, 6.0: 67, 21.0: 67, 3.0: 66, 19.0: 65, 14.0: 65, 20.0: 64, 13.0: 64, 4.0: 63, 18.0: 63, 22.0: 62, 11.0: 61, 2.0: 61, 5.0: 60, 9.0: 59, 7.0: 59, 1.0: 56, 15.0: 56, 10.0: 54})\n",
      "22\n"
     ]
    },
    {
     "data": {
      "image/png": "[encoded data removed]",
      "text/plain": [
       "<Figure size 432x288 with 1 Axes>"
      ]
     },
     "metadata": {
      "needs_background": "light"
     },
     "output_type": "display_data"
    }
   ],
   "source": [
    "print(collections.Counter(x6))\n",
    "print(len(collections.Counter(x6)))\n",
    "fig = plt.figure()\n",
    "ax = fig.add_subplot(1, 1, 1)\n",
    "ax.hist(x6, bins=22, histtype='barstacked', ec='black')\n",
    "plt.title(\"アウェイ順位\", fontsize=20,fontproperties=fp)\n",
    "plt.show()"
   ]
  },
  {
   "cell_type": "code",
   "execution_count": 14,
   "id": "8666ecd6-b5c7-4691-aa32-e9011c20017f",
   "metadata": {},
   "outputs": [
    {
     "name": "stdout",
     "output_type": "stream",
     "text": [
      "Counter({1.0: 71, 10.0: 70, 15.0: 68, 11.0: 67, 5.0: 67, 7.0: 65, 18.0: 65, 4.0: 65, 13.0: 64, 16.0: 64, 22.0: 64, 9.0: 64, 2.0: 64, 6.0: 62, 3.0: 62, 8.0: 61, 21.0: 59, 19.0: 59, 20.0: 58, 17.0: 57, 14.0: 55, 12.0: 55})\n",
      "22\n"
     ]
    },
    {
     "data": {
      "image/png": "[encoded data removed]",
      "text/plain": [
       "<Figure size 432x288 with 1 Axes>"
      ]
     },
     "metadata": {
      "needs_background": "light"
     },
     "output_type": "display_data"
    }
   ],
   "source": [
    "print(collections.Counter(x7))\n",
    "print(len(collections.Counter(x7)))\n",
    "fig = plt.figure()\n",
    "ax = fig.add_subplot(1, 1, 1)\n",
    "ax.hist(x7, bins=22, histtype='barstacked', ec='black')\n",
    "plt.title(\"ホーム順位\", fontsize=20,fontproperties=fp)\n",
    "plt.show()"
   ]
  },
  {
   "cell_type": "code",
   "execution_count": 15,
   "id": "b80a50f2-6c82-483d-98a0-7104b5f8508c",
   "metadata": {},
   "outputs": [
    {
     "name": "stdout",
     "output_type": "stream",
     "text": [
      "Counter({0.0: 357, 1.0: 325, -1.0: 298, 2.0: 138, -2.0: 106, 3.0: 57, -3.0: 44, 4.0: 29, -4.0: 17, 5.0: 9, -5.0: 2, 6.0: 2, -7.0: 1, 12.0: 1})\n",
      "14\n"
     ]
    },
    {
     "data": {
      "image/png": "[encoded data removed]",
      "text/plain": [
       "<Figure size 432x288 with 1 Axes>"
      ]
     },
     "metadata": {
      "needs_background": "light"
     },
     "output_type": "display_data"
    }
   ],
   "source": [
    "print(collections.Counter(x8))\n",
    "print(len(collections.Counter(x8)))\n",
    "fig = plt.figure()\n",
    "ax = fig.add_subplot(1, 1, 1)\n",
    "ax.hist(x8, bins=14, histtype='barstacked', ec='black')\n",
    "plt.title(\"点数差\", fontsize=20,fontproperties=fp)\n",
    "plt.show()"
   ]
  },
  {
   "cell_type": "code",
   "execution_count": 16,
   "id": "e6b6f201-0577-4ef2-a2eb-1313ed767310",
   "metadata": {},
   "outputs": [
    {
     "name": "stdout",
     "output_type": "stream",
     "text": [
      "Counter({30.0: 49, 27.0: 40, 33.0: 36, 20.0: 36, 29.0: 34, 24.0: 33, 42.0: 32, 39.0: 32, 34.0: 30, 51.0: 29, 32.0: 29, 53.0: 29, 26.0: 29, 28.0: 28, 36.0: 28, 41.0: 28, 23.0: 28, 37.0: 27, 19.0: 27, 22.0: 27, 45.0: 26, 31.0: 26, 17.0: 26, 21.0: 26, 25.0: 26, 35.0: 25, 46.0: 25, 15.0: 25, 16.0: 25, 40.0: 24, 18.0: 24, 13.0: 24, 14.0: 24, 44.0: 24, 48.0: 23, 54.0: 22, 52.0: 20, 50.0: 18, 38.0: 17, 47.0: 16, 43.0: 16, 56.0: 16, 63.0: 14, 55.0: 13, 10.0: 13, 12.0: 12, 100.0: 12, 49.0: 12, 60.0: 10, 11.0: 10, 66.0: 10, 57.0: 10, 67.0: 9, 62.0: 9, 9.0: 9, 61.0: 8, 58.0: 8, 64.0: 6, 70.0: 6, 68.0: 6, 59.0: 6, 65.0: 5, 75.0: 5, 84.0: 5, 69.0: 4, 78.0: 4, 73.0: 4, 77.0: 4, 76.0: 4, 71.0: 4, 74.0: 4, 8.0: 4, 81.0: 3, 97.0: 3, 90.0: 3, 87.0: 2, 86.0: 2, 83.0: 2, 82.0: 2, 79.0: 2, 72.0: 1, 91.0: 1, 85.0: 1, 80.0: 1, 94.0: 1, 99.0: 1, 7.0: 1, 96.0: 1})\n"
     ]
    },
    {
     "data": {
      "image/png": "[encoded data removed]",
      "text/plain": [
       "<Figure size 432x288 with 1 Axes>"
      ]
     },
     "metadata": {
      "needs_background": "light"
     },
     "output_type": "display_data"
    }
   ],
   "source": [
    "print(collections.Counter(x9))\n",
    "fig = plt.figure()\n",
    "ax = fig.add_subplot(1, 1, 1)\n",
    "ax.hist(x9, bins=100, histtype='barstacked', ec='black')\n",
    "plt.title(\"google trend\", fontsize=20,fontproperties=fp)\n",
    "plt.show()"
   ]
  },
  {
   "cell_type": "markdown",
   "id": "065754b1-4714-4af3-868b-103c8ac1e66b",
   "metadata": {},
   "source": [
    "範囲設定\n",
    "\n",
    "x11時間降水量の最大(mm)：x1<1,1<=x1\\\n",
    "x2平均気温：-10<x2<10,それ以外\\\n",
    "x5節数：x2<14,14<=x2<28,28<=x2\\\n",
    "x6アウェイ順位：x6<8,8<=x6<15,15<=x6\\\n",
    "x7ホーム順位：x6<8,8<=x6<15,15<=x6\\\n",
    "x9トレンド情報：x9<34,34<=x9<67,67<=x9"
   ]
  },
  {
   "cell_type": "code",
   "execution_count": 17,
   "id": "5cefe2e8-5041-4fe7-a910-b1e8ed77ffbb",
   "metadata": {},
   "outputs": [
    {
     "name": "stdout",
     "output_type": "stream",
     "text": [
      "[0. 0. 0. ... 0. 0. 0.]\n",
      "[1 1 1 ... 1 1 1]\n"
     ]
    }
   ],
   "source": [
    "#周辺化準備\n",
    "#データ数1386、3^6=729、3^7=2187であるので、説明変数は6項目がベスト\n",
    "#K/O時刻で検証\n",
    "#参考資料　https://www.gesource.jp/weblog/?p=8244\n",
    "#使うのはx1,x2,x5,x6,x7,x9\n",
    "#x1のみについて説明する（以下同順）\n",
    "#judge_x〇について、digitize()では0,1判定（もしくは0,1,2判定）であったが、\n",
    "#関数に組み込むため、1,2判定（もしくは1,2,3判定）とする。\n",
    "plus_list=[1]*1386\n",
    "# np.set_printoptions(threshold=np.inf)\n",
    "print(x1)#x1の中身を出力。\n",
    "r_x1=np.array([1])\n",
    "#分類範囲を決める(例：[1,3]の場合はx<1,1<=x<3,3<=xの3種類に分類できる。)範囲の個数？を増やせば分類個数を増やすことも可能。\n",
    "judge_x1=np.digitize(x1,r_x1)#実際に決めた範囲を用いてx1を分類し、judge_x1とする。\n",
    "judge_x1=judge_x1+plus_list\n",
    "print(judge_x1)#judge_x1の中身を出力。"
   ]
  },
  {
   "cell_type": "code",
   "execution_count": 18,
   "id": "acd84cec-dac5-4640-bf12-96e864c22b90",
   "metadata": {},
   "outputs": [
    {
     "name": "stdout",
     "output_type": "stream",
     "text": [
      "[-11.2  -9.1  -8.  ...   2.3  -0.7  -2.3]\n",
      "[11.2  9.1  8.  ...  2.3  0.7  2.3]\n",
      "[2 1 1 ... 1 1 1]\n",
      "Counter({1: 1114, 2: 272})\n"
     ]
    }
   ],
   "source": [
    "#x2に関して\n",
    "#絶対値±10以下の場合は1、以上の場合は2とする。\n",
    "print(x2)\n",
    "x2_abs=abs(x2)\n",
    "print(x2_abs)\n",
    "r_x2=np.array([10])\n",
    "judge_x2=np.digitize(x2_abs,r_x2)\n",
    "judge_x2=judge_x2+plus_list\n",
    "print(judge_x2)\n",
    "print(collections.Counter(judge_x2))"
   ]
  },
  {
   "cell_type": "code",
   "execution_count": 19,
   "id": "316cbbeb-229a-4c0a-bf79-c55feb8486ae",
   "metadata": {},
   "outputs": [
    {
     "name": "stdout",
     "output_type": "stream",
     "text": [
      "[ 1.  2.  4. ... 36. 38. 40.]\n",
      "[1 1 1 ... 3 3 3]\n",
      "[16. 19.  1. ... 13.  4.  8.]\n",
      "[3 3 1 ... 2 1 2]\n",
      "[ 6.  8. 14. ... 15. 15. 15.]\n",
      "[1 2 2 ... 3 3 3]\n",
      "[ 51.  50.  28. ...  33. 100.  43.]\n",
      "[2 2 1 ... 1 3 2]\n"
     ]
    }
   ],
   "source": [
    "#x5~x9までx1と同様の作業を行う\n",
    "print(x5)\n",
    "r_x5=np.array([14,28])\n",
    "judge_x5=np.digitize(x5,r_x5)\n",
    "judge_x5=judge_x5+plus_list\n",
    "print(judge_x5)\n",
    "print(x6)\n",
    "r_x6=np.array([8,15])\n",
    "judge_x6=np.digitize(x6,r_x6)\n",
    "judge_x6=judge_x6+plus_list\n",
    "print(judge_x6)\n",
    "print(x7)\n",
    "r_x7=np.array([8,15])\n",
    "judge_x7=np.digitize(x7,r_x7)\n",
    "judge_x7=judge_x7+plus_list\n",
    "print(judge_x7)\n",
    "print(x9)\n",
    "r_x9=np.array([34,67])\n",
    "judge_x9=np.digitize(x9,r_x9)\n",
    "judge_x9=judge_x9+plus_list\n",
    "print(judge_x9)"
   ]
  },
  {
   "cell_type": "code",
   "execution_count": 20,
   "id": "316aa423-ed88-4a7f-87d1-cf5cb43bc836",
   "metadata": {
    "tags": []
   },
   "outputs": [
    {
     "name": "stdout",
     "output_type": "stream",
     "text": [
      "1386\n",
      "['121312', '111322', '111121', '111322', '111222', '111222', '111322', '112313', '112123', '212312', '212122', '112223', '122232', '112232', '113321', '113121', '113131', '213332', '113132', '213332', '113332', '221122', '121233', '111232', '121232', '111332', '111232', '211132', '112332', '212131', '212332', '122333', '122233', '122132', '123132', '213332', '213331', '113131', '213332', '113131', '113132', '113132', '121222', '221312', '111321', '121221', '111232', '111322', '111332', '211132', '111332', '112132', '112132', '112132', '112133', '112232', '122232', '113123', '113222', '113332', '113233', '113332', '113233', '121311', '121311', '121111', '211311', '211311', '111211', '112311', '112111', '112311', '112111', '212111', '112311', '112111', '212111', '213211', '113311', '213211', '213121', '213321', '113321', '113221', '121221', '111311', '121121', '111221', '111221', '111221', '111311', '112311', '112311', '112311', '212211', '212211', '122211', '122111', '113311', '213311', '113211', '213211', '113111', '213111', '113211', '221231', '111131', '121221', '111321', '111321', '111121', '111321', '112221', '212221', '212221', '112321', '122311', '122111', '113311', '113111', '213111', '113111', '113212', '113212', '113212', '213313', '121132', '111332', '111122', '111332', '111222', '111132', '111132', '112132', '112232', '112322', '212122', '112312', '122112', '113222', '113222', '113222', '113322', '113122', '213322', '113122', '123122', '111312', '121213', '111313', '111313', '111313', '111112', '211112', '112212', '112112', '112312', '112322', '122122', '122322', '122222', '123222', '213222', '113322', '213322', '113121', '113221', '113132', '121132', '221322', '121322', '211112', '211222', '111222', '111322', '112222', '112322', '212322', '112323', '112112', '122113', '122122', '113322', '123122', '113312', '113322', '113223', '113313', '113123', '121223', '121232', '111132', '211322', '211323', '111222', '112322', '112122', '112232', '212232', '112332', '112231', '212332', '212231', '113332', '113332', '113132', '113132', '213132', '213131', '213131', '121232', '221332', '111232', '211231', '111232', '211232', '112222', '112322', '112122', '212122', '212322', '222322', '112132', '123331', '113332', '213132', '113132', '113232', '113332', '213232', '113132', '121312', '121312', '121212', '211122', '211232', '111132', '111232', '111132', '112233', '112232', '212233', '212332', '122132', '122332', '213132', '113332', '113132', '113232', '113332', '113133', '113133', '121122', '121222', '121131', '211331', '111231', '111331', '112231', '112231', '112321', '212331', '212331', '122131', '222221', '222131', '123231', '113331', '113131', '113231', '113321', '213221', '213121', '121131', '121321', '221121', '111331', '211131', '111131', '211132', '112131', '112131', '212131', '122231', '212131', '122231', '123331', '213331', '213231', '212131', '113231', '213331', '113331', '213231', '121221', '121211', '221121', '121121', '211211', '111221', '111211', '112311', '212211', '212111', '112211', '112111', '212312', '122212', '122312', '113311', '113311', '113311', '213111', '113222', '113312', '121132', '121231', '121332', '111332', '111232', '211332', '112132', '112233', '112332', '212233', '122232', '122233', '213132', '213332', '113131', '213133', '113232', '113331', '213232', '113332', '223232', '111222', '221122', '111131', '221312', '111123', '211223', '112222', '112332', '112332', '112332', '212122', '122132', '213222', '113232', '213121', '113232', '213322', '113123', '213323', '113122', '213222', '221322', '211321', '111312', '111112', '111313', '112211', '112222', '212322', '212212', '112112', '212221', '122122', '122322', '123322', '113322', '113322', '113222', '213122', '113122', '113221', '113122', '121213', '121222', '221232', '111132', '111132', '111332', '211132', '112231', '112231', '212333', '112133', '112233', '122132', '213332', '113233', '113233', '113132', '113332', '213133', '213133', '113333', '211323', '121233', '221323', '111212', '111123', '111322', '211332', '112322', '212132', '112332', '212132', '112131', '122132', '112232', '113132', '113232', '213132', '213332', '113332', '113233', '113333', '121132', '221122', '111222', '111231', '111332', '211132', '112222', '112123', '112222', '112321', '112322', '122222', '122322', '122122', '113321', '213131', '113131', '113221', '113321', '113321', '113121', '121212', '121312', '121312', '111112', '111212', '111312', '112212', '212112', '212211', '112212', '212312', '212121', '122312', '113212', '113111', '113121', '113222', '113312', '113321', '113312', '113212', '211321', '121121', '111222', '211122', '111231', '111131', '112221', '112322', '112322', '212121', '212321', '122121', '212321', '113221', '113221', '113321', '113321', '113121', '113221', '213321', '223321', '121121', '221131', '111131', '211321', '111231', '111331', '112231', '112321', '112221', '112321', '212211', '122322', '122221', '123121', '223322', '213321', '113321', '213121', '113122', '113221', '113121', '121212', '221111', '111312', '111311', '111211', '111312', '112211', '112312', '212112', '212112', '112112', '222212', '122311', '122211', '113311', '113111', '213112', '113312', '213313', '113213', '113313', '111232', '111131', '111331', '111131', '211231', '111232', '211331', '112332', '112232', '122232', '212232', '122132', '122331', '213332', '213232', '113132', '213331', '213132', '213232', '213332', '123333', '121312', '111312', '221212', '111312', '221312', '111212', '112213', '112313', '112113', '112112', '122212', '123222', '113322', '213322', '213222', '113122', '113322', '113122', '112112', '113322', '113222', '121133', '221133', '121232', '111231', '111332', '111132', '111132', '112232', '112232', '112332', '112332', '212232', '122122', '113232', '213232', '113321', '213322', '113122', '113322', '113322', '113132', '111331', '121232', '111122', '111332', '111232', '111232', '211133', '112332', '112333', '112133', '112332', '122232', '122232', '123232', '113132', '113332', '113232', '113332', '213232', '113133', '123132', '121233', '121122', '111133', '211332', '111133', '111132', '112232', '212132', '212232', '212232', '122332', '123132', '123232', '213232', '112232', '113133', '113332', '113232', '113133', '113332', '113333', '211312', '111121', '111231', '111131', '111132', '111132', '111132', '212232', '112331', '112232', '112331', '212231', '212232', '112332', '113332', '113131', '113131', '113231', '112333', '113133', '113232', '121211', '221121', '111111', '111311', '111121', '211221', '112121', '112121', '112231', '212221', '112221', '122321', '212321', '213221', '113111', '213311', '113311', '213311', '213211', '213311', '123222', '121131', '111321', '121331', '111221', '211221', '112311', '112111', '112312', '212111', '212211', '212311', '122312', '112212', '113111', '123111', '213211', '113311', '113311', '113312', '113112', '113213', '111311', '121211', '111211', '211111', '111311', '112111', '212211', '112111', '112211', '112111', '122111', '212111', '112211', '113311', '213211', '213311', '113311', '213211', '213311', '213211', '113311', '121213', '121323', '221322', '111212', '221122', '111322', '111123', '112322', '112232', '212222', '212322', '122132', '122232', '113332', '213132', '213332', '213332', '113332', '213122', '113332', '213232', '121122', '121322', '221222', '111122', '111322', '112322', '112132', '112322', '112122', '212222', '222222', '122222', '123222', '113222', '123322', '113221', '113121', '213321', '213122', '113322', '113222', '111132', '121322', '121321', '121321', '211131', '211321', '211121', '112231', '112222', '112312', '212311', '112311', '112222', '213311', '113122', '113321', '113322', '113122', '213221', '113121', '113221', '121312', '121112', '211111', '111112', '211211', '111321', '111231', '212121', '112131', '212231', '112321', '112321', '222322', '113321', '213121', '113322', '213122', '213131', '113321', '213222', '113321', '221312', '121312', '221311', '111211', '111212', '112112', '112312', '212312', '112211', '112212', '112212', '122212', '123113', '113212', '123212', '113312', '213112', '113312', '113113', '113313', '213213', '111113', '121212', '221321', '211322', '111122', '211222', '112322', '112222', '112122', '112222', '112322', '122322', '112312', '213122', '123322', '113122', '213222', '213222', '213122', '113323', '113213', '111132', '111332', '221332', '111322', '211131', '211132', '112232', '112322', '112122', '212322', '212132', '122232', '112232', '122132', '123131', '113122', '113131', '213221', '113132', '113232', '113322', '221132', '211232', '121132', '121122', '211232', '111132', '112332', '112132', '212332', '212332', '112332', '212132', '122232', '113132', '213132', '213231', '113132', '113132', '213232', '113232', '213332', '111231', '221231', '111231', '211132', '111232', '211232', '212332', '112131', '112231', '212231', '122131', '222331', '122231', '212331', '213332', '213132', '113231', '113131', '213133', '113232', '123132', '121212', '221222', '121332', '111222', '111131', '111122', '111222', '112232', '112321', '212221', '122322', '122111', '112122', '222312', '113312', '123211', '213112', '113211', '113311', '113312', '113212', '121222', '111132', '121131', '121211', '111311', '211312', '112312', '112112', '212312', '212211', '112312', '222312', '122112', '123312', '113311', '213212', '113212', '213112', '113113', '113312', '113213', '111312', '121122', '111321', '211321', '111321', '111122', '211112', '112311', '112121', '112321', '112121', '122221', '222221', '113121', '113321', '213121', '113321', '213121', '213221', '113221', '123321', '111311', '121121', '221121', '111311', '111212', '111212', '111212', '212312', '112112', '112312', '212111', '212211', '212312', '122311', '122312', '113212', '123211', '113311', '113312', '113112', '113312', '121131', '121331', '221331', '111121', '211121', '111321', '111121', '112131', '112231', '212131', '112331', '122221', '212221', '112131', '213132', '113231', '213221', '213121', '213331', '213331', '113331', '111211', '121311', '221311', '111111', '111111', '111111', '212311', '112111', '112311', '212211', '112311', '122211', '212311', '213312', '123312', '213211', '113212', '113211', '213112', '113113', '113113', '121312', '211131', '221321', '111121', '111121', '111131', '112131', '112321', '212131', '212231', '212331', '112231', '122232', '122231', '113331', '213131', '113331', '113332', '113331', '113233', '113133', '121311', '121111', '111311', '111211', '211121', '111311', '111211', '112121', '112111', '212311', '112311', '212211', '112211', '122311', '212111', '113311', '113111', '113211', '213311', '113111', '113313', '111311', '111121', '111231', '111331', '111321', '111221', '112312', '112212', '112122', '212211', '212121', '112321', '112321', '113121', '113221', '213321', '213121', '113321', '113321', '113221', '113321', '111221', '121211', '121311', '211111', '211311', '111311', '111111', '112211', '112211', '112111', '112211', '112211', '112321', '212321', '113111', '113121', '113221', '213211', '213111', '113311', '123111', '121211', '111311', '221211', '111321', '211311', '111211', '211111', '111221', '112331', '212321', '212321', '112221', '122121', '212311', '122211', '113111', '113111', '113311', '113211', '113211', '113311', '111331', '121331', '221121', '121131', '111131', '111231', '111221', '111321', '112221', '112121', '212121', '212221', '112321', '212321', '122321', '123121', '223321', '113221', '213221', '113121', '213321', '121311', '121211', '221211', '211111', '111212', '211211', '112321', '112321', '112121', '112321', '212211', '112311', '112211', '112111', '113311', '213211', '213211', '113211', '113311', '213211', '213211', '221231', '121321', '111121', '111331', '111331', '112321', '112121', '212121', '112131', '212131', '212331', '112131', '122121', '122221', '113221', '213221', '213321', '113221', '213221', '113121', '113321', '221221', '211221', '121331', '211231', '211221', '111321', '112121', '112321', '112321', '112321', '212121', '112321', '112121', '213321', '213121', '113221', '213221', '113221', '113211', '113111', '113311', '121132', '121132', '121332', '111232', '111232', '211232', '211322', '112121', '112231', '212331', '122231', '122231', '212332', '122332', '113122', '213222', '213321', '213131', '113131', '113231', '113132', '121221', '211332', '221122', '111231', '111232', '111332', '111132', '112231', '212331', '212331', '212332', '222132', '222232', '123332', '113132', '113331', '213332', '213232', '113331', '113233', '113132', '111212', '221111', '121311', '211311', '111211', '111211', '112112', '112312', '212312', '212112', '112211', '112311', '122311', '113212', '113111', '213312', '113212', '213111', '113312', '113312', '213213', '121121', '111312', '111211', '211111', '211221', '111111', '211311', '112312', '112312', '112211', '112312', '112311', '122111', '112311', '213111', '113212', '113311', '113311', '213212', '113112', '113112', '121312', '221312', '121211', '111321', '211111', '111311', '111311', '112311', '112211', '112212', '212111', '112311', '122211', '123211', '213111', '213111', '112121', '213111', '213211', '113311', '113312', '211132', '111131', '111331', '111331', '111231', '111131', '212131', '112131', '112131', '212331', '112331', '112131', '122131', '113232', '113231', '113131', '113331', '213231', '113231', '113231', '213331', '121312', '121312', '111321', '221312', '211311', '111311', '111312', '112311', '112311', '212211', '112111', '122311', '122312', '112212', '113112', '113112', '113211', '113211', '213112', '213312', '213212', '211312', '211212', '111312', '111312', '111113', '111211', '111122', '112321', '112222', '212121', '212321', '112122', '112231', '212233', '213133', '113332', '213332', '113131', '113231', '113133', '113232']\n"
     ]
    }
   ],
   "source": [
    "#x1~x9までそれぞれの項目について分類したので、それを結合し、1386データを729グループに分類する。\n",
    "#判定結果をstr(文字列)に直し、縦方向でつなげる。\n",
    "classification=[]\n",
    "for t in range(len(judge_x1)):\n",
    "    classification.append(str(judge_x1[t])+str(judge_x2[t])+str(judge_x5[t])\n",
    "             +str(judge_x6[t])+str(judge_x7[t])+str(judge_x9[t]))\n",
    "\n",
    "print(len(classification))    \n",
    "print(classification)"
   ]
  },
  {
   "cell_type": "code",
   "execution_count": 21,
   "id": "218f890d-6ca3-4834-9437-ba4933898c25",
   "metadata": {},
   "outputs": [
    {
     "name": "stdout",
     "output_type": "stream",
     "text": [
      "Counter({'113311': 26, '112321': 23, '113332': 22, '113321': 21, '113132': 21, '112311': 21, '113221': 19, '111132': 18, '111311': 17, '112232': 16, '113312': 16, '213332': 15, '111232': 15, '112332': 15, '111321': 15, '213211': 15, '112322': 15, '112312': 15, '113322': 15, '113232': 15, '112211': 15, '212211': 14, '113111': 14, '113122': 14, '112231': 14, '113121': 13, '113131': 13, '111211': 13, '112111': 13, '111131': 13, '113212': 13, '111231': 13, '112131': 13, '121312': 12, '111332': 12, '111312': 12, '112121': 12, '113211': 11, '112222': 11, '111331': 11, '111121': 10, '111222': 10, '122232': 10, '113222': 10, '213121': 10, '112112': 10, '213132': 10, '213232': 10, '113331': 10, '113231': 10, '213221': 10, '111212': 10, '111322': 9, '213321': 9, '111221': 9, '213111': 9, '112212': 9, '212331': 9, '212312': 8, '211132': 8, '212131': 8, '212332': 8, '122132': 8, '112132': 8, '212111': 8, '213311': 8, '213222': 8, '112122': 8, '113133': 8, '121211': 8, '212121': 8, '212321': 8, '213331': 7, '113233': 7, '121311': 7, '211311': 7, '212221': 7, '121132': 7, '111122': 7, '212232': 7, '211111': 7, '221312': 6, '121121': 6, '112221': 6, '122311': 6, '122322': 6, '213131': 6, '211232': 6, '121131': 6, '122231': 6, '213122': 6, '213112': 6, '111111': 6, '212311': 6, '113112': 6, '221122': 5, '121232': 5, '121221': 5, '122211': 5, '122111': 5, '213322': 5, '122122': 5, '212322': 5, '212231': 5, '121212': 5, '121122': 5, '221121': 5, '122312': 5, '213133': 5, '211321': 5, '212132': 5, '112331': 5, '211221': 5, '212122': 4, '123132': 4, '121222': 4, '111313': 4, '111112': 4, '123222': 4, '113313': 4, '121321': 4, '211131': 4, '213231': 4, '211332': 4, '212112': 4, '122221': 4, '113213': 4, '121331': 4, '113113': 4, '121233': 3, '112133': 3, '113123': 3, '221231': 3, '121213': 3, '211112': 3, '122222': 3, '221322': 3, '121322': 3, '211322': 3, '211231': 3, '112233': 3, '212233': 3, '122332': 3, '122131': 3, '211211': 3, '122212': 3, '121332': 3, '111123': 3, '123322': 3, '113333': 3, '122121': 3, '211312': 3, '211121': 3, '123211': 3, '213212': 3, '213312': 3, '112313': 2, '112123': 2, '122233': 2, '121111': 2, '213313': 2, '122112': 2, '123122': 2, '211222': 2, '211323': 2, '221332': 2, '222322': 2, '123331': 2, '211122': 2, '211331': 2, '222221': 2, '223321': 2, '123121': 2, '221111': 2, '112333': 2, '123232': 2, '111133': 2, '122321': 2, '123111': 2, '212222': 2, '221222': 2, '221311': 2, '213213': 2, '111113': 2, '221321': 2, '222312': 2, '123312': 2, '221211': 2, '112223': 1, '122333': 1, '112323': 1, '122113': 1, '113223': 1, '121223': 1, '222131': 1, '123231': 1, '121231': 1, '223232': 1, '211223': 1, '213323': 1, '212212': 1, '221232': 1, '212333': 1, '221323': 1, '221131': 1, '223322': 1, '222212': 1, '122331': 1, '123333': 1, '221212': 1, '112213': 1, '112113': 1, '121133': 1, '221133': 1, '211133': 1, '121323': 1, '222222': 1, '121112': 1, '123113': 1, '123212': 1, '113323': 1, '123131': 1, '221132': 1, '222331': 1, '123321': 1, '221331': 1, '221221': 1, '222132': 1, '222232': 1, '123332': 1, '211212': 1})\n",
      "['213332', '122232', '121331', '113221', '211221', '112111', '113322', '212232', '213112', '112322', '111111', '123333', '122131', '113321', '212112', '123331', '213311', '212233', '123232', '122112', '122221', '221231', '211212', '111133', '211312', '121323', '222322', '113231', '121322', '122121', '221131', '211111', '123212', '112121', '123312', '213321', '121132', '123121', '111211', '221212', '213331', '222222', '121122', '211132', '213232', '221222', '121233', '121223', '113132', '123322', '221211', '221322', '123222', '111113', '122111', '111112', '223321', '113312', '111311', '223322', '112122', '123132', '221111', '211232', '112333', '221321', '111121', '112132', '212111', '113213', '211332', '112331', '111131', '122222', '211122', '212322', '222212', '121232', '221221', '111232', '121111', '112313', '112231', '212211', '112321', '113233', '113122', '111312', '112131', '111321', '112213', '212132', '212222', '211321', '121133', '112133', '212331', '121121', '222132', '113331', '122231', '111332', '112123', '211322', '121112', '123122', '221323', '121231', '212121', '122311', '111222', '213313', '211223', '123131', '112221', '121211', '221311', '213222', '211133', '111313', '122113', '122332', '212122', '212332', '213111', '113313', '112113', '213132', '122233', '211311', '113133', '213121', '112233', '212231', '112212', '113311', '113222', '113212', '121321', '212131', '122321', '212321', '111132', '121222', '222312', '211131', '213122', '212333', '123113', '213231', '113113', '122322', '113131', '122212', '221312', '213213', '111123', '213323', '122331', '211323', '121212', '123211', '221332', '223232', '112223', '113211', '121213', '212312', '112323', '113333', '111212', '113323', '213131', '211231', '113111', '221132', '222331', '211222', '222131', '213211', '111231', '112332', '211211', '212212', '111331', '111221', '113112', '211331', '221232', '221133', '123111', '112112', '123332', '113121', '212311', '211121', '221122', '112312', '111122', '122122', '222232', '213133', '113332', '122312', '122333', '121332', '121312', '221331', '113232', '112232', '111322', '122132', '113223', '123231', '121221', '123321', '121131', '222221', '112222', '213322', '221121', '213212', '112311', '122211', '212221', '213221', '213312', '211112', '113123', '121311', '112211']\n",
      "231\n"
     ]
    }
   ],
   "source": [
    "print(collections.Counter(classification))#先程と同様に種類とその数を出力\n",
    "cf=list(set(classification))\n",
    "print(cf)#リスト内の重複を削除\n",
    "print(len(cf))#重複を削除後のデータ数を出力"
   ]
  },
  {
   "cell_type": "code",
   "execution_count": 22,
   "id": "4950f936-35a6-4176-b561-b4baf048cbdb",
   "metadata": {},
   "outputs": [
    {
     "name": "stdout",
     "output_type": "stream",
     "text": [
      "['2', '1', '1', '1', '2', '1', '1', '2', '2', '1', '1', '1', '1', '1', '2', '1', '2', '2', '1', '1', '1', '2', '2', '1', '2', '1', '2', '1', '1', '1', '2', '2', '1', '1', '1', '2', '1', '1', '1', '2', '2', '2', '1', '2', '2', '2', '1', '1', '1', '1', '2', '2', '1', '1', '1', '1', '2', '1', '1', '2', '1', '1', '2', '2', '1', '2', '1', '1', '2', '1', '2', '1', '1', '1', '2', '2', '2', '1', '2', '1', '1', '1', '1', '2', '1', '1', '1', '1', '1', '1', '1', '2', '2', '2', '1', '1', '2', '1', '2', '1', '1', '1', '1', '2', '1', '1', '2', '1', '2', '1', '1', '2', '2', '1', '1', '1', '2', '2', '2', '1', '1', '1', '2', '2', '2', '1', '1', '2', '1', '2', '1', '2', '1', '2', '1', '1', '1', '1', '1', '2', '1', '2', '1', '1', '2', '2', '2', '2', '1', '2', '1', '1', '1', '1', '2', '2', '1', '2', '1', '2', '1', '1', '2', '2', '1', '1', '1', '2', '1', '1', '1', '1', '2', '2', '1', '2', '2', '2', '2', '2', '1', '1', '2', '2', '1', '1', '1', '2', '2', '2', '1', '1', '1', '1', '2', '2', '2', '1', '1', '1', '2', '2', '1', '1', '1', '1', '1', '2', '1', '1', '1', '1', '1', '1', '1', '1', '1', '2', '1', '2', '2', '2', '1', '1', '2', '2', '2', '2', '1', '1', '1']\n",
      "231\n"
     ]
    }
   ],
   "source": [
    "# cfに格納された6桁の数字を1桁ずつ分解してリストへ（新たな説明変数となる）（y1~y6）。\n",
    "\n",
    "y1=[]#1時間当たりの降水量\n",
    "y2=[]#気温\n",
    "y3=[]#節数\n",
    "y4=[]#アウェイ順位\n",
    "y5=[]#ホーム順位\n",
    "y6=[]#トレンド情報\n",
    "\n",
    "for i in cf:\n",
    "    y1.append(i[0])\n",
    "    y2.append(i[1])\n",
    "    y3.append(i[2])\n",
    "    y4.append(i[3])\n",
    "    y5.append(i[4])\n",
    "    y6.append(i[5])\n",
    "\n",
    "#例として、y1を出力\n",
    "print(y1)\n",
    "print(len(y1))"
   ]
  },
  {
   "cell_type": "code",
   "execution_count": 23,
   "id": "803ef80c-24c0-46ab-ba1e-4549eb485aa7",
   "metadata": {},
   "outputs": [
    {
     "name": "stdout",
     "output_type": "stream",
     "text": [
      "['121312', '111322', '111121', '111322', '111222']\n"
     ]
    },
    {
     "data": {
      "text/html": [
       "<div>\n",
       "<style scoped>\n",
       "    .dataframe tbody tr th:only-of-type {\n",
       "        vertical-align: middle;\n",
       "    }\n",
       "\n",
       "    .dataframe tbody tr th {\n",
       "        vertical-align: top;\n",
       "    }\n",
       "\n",
       "    .dataframe thead th {\n",
       "        text-align: right;\n",
       "    }\n",
       "</style>\n",
       "<table border=\"1\" class=\"dataframe\">\n",
       "  <thead>\n",
       "    <tr style=\"text-align: right;\">\n",
       "      <th></th>\n",
       "      <th>K/O時刻</th>\n",
       "      <th>入場者数</th>\n",
       "      <th>平均気温(℃)</th>\n",
       "      <th>降水量の合計(mm)</th>\n",
       "      <th>日照時間(時間)</th>\n",
       "      <th>ホームトレンド</th>\n",
       "      <th>1時間降水量の最大(mm)</th>\n",
       "      <th>節数</th>\n",
       "      <th>アウェイ順位</th>\n",
       "      <th>ホーム順位</th>\n",
       "      <th>点数(ホームーアウェイ)</th>\n",
       "      <th>judge</th>\n",
       "    </tr>\n",
       "  </thead>\n",
       "  <tbody>\n",
       "    <tr>\n",
       "      <th>0</th>\n",
       "      <td>15.0</td>\n",
       "      <td>1.602909</td>\n",
       "      <td>-11.2</td>\n",
       "      <td>0.0</td>\n",
       "      <td>4.9</td>\n",
       "      <td>51.0</td>\n",
       "      <td>0.0</td>\n",
       "      <td>1.0</td>\n",
       "      <td>16.0</td>\n",
       "      <td>6.0</td>\n",
       "      <td>1.0</td>\n",
       "      <td>121312</td>\n",
       "    </tr>\n",
       "    <tr>\n",
       "      <th>1</th>\n",
       "      <td>15.0</td>\n",
       "      <td>0.032360</td>\n",
       "      <td>-9.1</td>\n",
       "      <td>0.0</td>\n",
       "      <td>4.7</td>\n",
       "      <td>50.0</td>\n",
       "      <td>0.0</td>\n",
       "      <td>2.0</td>\n",
       "      <td>19.0</td>\n",
       "      <td>8.0</td>\n",
       "      <td>0.0</td>\n",
       "      <td>111322</td>\n",
       "    </tr>\n",
       "    <tr>\n",
       "      <th>2</th>\n",
       "      <td>15.0</td>\n",
       "      <td>-0.082965</td>\n",
       "      <td>-8.0</td>\n",
       "      <td>0.0</td>\n",
       "      <td>10.7</td>\n",
       "      <td>28.0</td>\n",
       "      <td>0.0</td>\n",
       "      <td>4.0</td>\n",
       "      <td>1.0</td>\n",
       "      <td>14.0</td>\n",
       "      <td>-1.0</td>\n",
       "      <td>111121</td>\n",
       "    </tr>\n",
       "    <tr>\n",
       "      <th>3</th>\n",
       "      <td>15.0</td>\n",
       "      <td>0.124165</td>\n",
       "      <td>-2.3</td>\n",
       "      <td>0.5</td>\n",
       "      <td>1.6</td>\n",
       "      <td>51.0</td>\n",
       "      <td>0.5</td>\n",
       "      <td>7.0</td>\n",
       "      <td>20.0</td>\n",
       "      <td>12.0</td>\n",
       "      <td>1.0</td>\n",
       "      <td>111322</td>\n",
       "    </tr>\n",
       "    <tr>\n",
       "      <th>4</th>\n",
       "      <td>15.0</td>\n",
       "      <td>-1.003292</td>\n",
       "      <td>-1.8</td>\n",
       "      <td>0.0</td>\n",
       "      <td>10.4</td>\n",
       "      <td>38.0</td>\n",
       "      <td>0.0</td>\n",
       "      <td>9.0</td>\n",
       "      <td>9.0</td>\n",
       "      <td>13.0</td>\n",
       "      <td>1.0</td>\n",
       "      <td>111222</td>\n",
       "    </tr>\n",
       "    <tr>\n",
       "      <th>...</th>\n",
       "      <td>...</td>\n",
       "      <td>...</td>\n",
       "      <td>...</td>\n",
       "      <td>...</td>\n",
       "      <td>...</td>\n",
       "      <td>...</td>\n",
       "      <td>...</td>\n",
       "      <td>...</td>\n",
       "      <td>...</td>\n",
       "      <td>...</td>\n",
       "      <td>...</td>\n",
       "      <td>...</td>\n",
       "    </tr>\n",
       "    <tr>\n",
       "      <th>1381</th>\n",
       "      <td>19.0</td>\n",
       "      <td>-0.965138</td>\n",
       "      <td>3.1</td>\n",
       "      <td>8.5</td>\n",
       "      <td>0.6</td>\n",
       "      <td>35.0</td>\n",
       "      <td>5.5</td>\n",
       "      <td>31.0</td>\n",
       "      <td>20.0</td>\n",
       "      <td>15.0</td>\n",
       "      <td>1.0</td>\n",
       "      <td>213332</td>\n",
       "    </tr>\n",
       "    <tr>\n",
       "      <th>1382</th>\n",
       "      <td>19.0</td>\n",
       "      <td>-0.793780</td>\n",
       "      <td>2.5</td>\n",
       "      <td>0.0</td>\n",
       "      <td>3.9</td>\n",
       "      <td>20.0</td>\n",
       "      <td>0.0</td>\n",
       "      <td>33.0</td>\n",
       "      <td>2.0</td>\n",
       "      <td>15.0</td>\n",
       "      <td>0.0</td>\n",
       "      <td>113131</td>\n",
       "    </tr>\n",
       "    <tr>\n",
       "      <th>1383</th>\n",
       "      <td>18.0</td>\n",
       "      <td>-0.062424</td>\n",
       "      <td>2.3</td>\n",
       "      <td>0.0</td>\n",
       "      <td>6.2</td>\n",
       "      <td>33.0</td>\n",
       "      <td>0.0</td>\n",
       "      <td>36.0</td>\n",
       "      <td>13.0</td>\n",
       "      <td>15.0</td>\n",
       "      <td>-4.0</td>\n",
       "      <td>113231</td>\n",
       "    </tr>\n",
       "    <tr>\n",
       "      <th>1384</th>\n",
       "      <td>13.0</td>\n",
       "      <td>1.296536</td>\n",
       "      <td>-0.7</td>\n",
       "      <td>0.0</td>\n",
       "      <td>3.4</td>\n",
       "      <td>100.0</td>\n",
       "      <td>0.0</td>\n",
       "      <td>38.0</td>\n",
       "      <td>4.0</td>\n",
       "      <td>15.0</td>\n",
       "      <td>-1.0</td>\n",
       "      <td>113133</td>\n",
       "    </tr>\n",
       "    <tr>\n",
       "      <th>1385</th>\n",
       "      <td>16.0</td>\n",
       "      <td>1.092862</td>\n",
       "      <td>-2.3</td>\n",
       "      <td>0.0</td>\n",
       "      <td>10.2</td>\n",
       "      <td>43.0</td>\n",
       "      <td>0.0</td>\n",
       "      <td>40.0</td>\n",
       "      <td>8.0</td>\n",
       "      <td>15.0</td>\n",
       "      <td>-3.0</td>\n",
       "      <td>113232</td>\n",
       "    </tr>\n",
       "  </tbody>\n",
       "</table>\n",
       "<p>1386 rows × 12 columns</p>\n",
       "</div>"
      ],
      "text/plain": [
       "      K/O時刻      入場者数  平均気温(℃)  降水量の合計(mm)  日照時間(時間)  ホームトレンド  1時間降水量の最大(mm)  \\\n",
       "0      15.0  1.602909    -11.2         0.0       4.9     51.0            0.0   \n",
       "1      15.0  0.032360     -9.1         0.0       4.7     50.0            0.0   \n",
       "2      15.0 -0.082965     -8.0         0.0      10.7     28.0            0.0   \n",
       "3      15.0  0.124165     -2.3         0.5       1.6     51.0            0.5   \n",
       "4      15.0 -1.003292     -1.8         0.0      10.4     38.0            0.0   \n",
       "...     ...       ...      ...         ...       ...      ...            ...   \n",
       "1381   19.0 -0.965138      3.1         8.5       0.6     35.0            5.5   \n",
       "1382   19.0 -0.793780      2.5         0.0       3.9     20.0            0.0   \n",
       "1383   18.0 -0.062424      2.3         0.0       6.2     33.0            0.0   \n",
       "1384   13.0  1.296536     -0.7         0.0       3.4    100.0            0.0   \n",
       "1385   16.0  1.092862     -2.3         0.0      10.2     43.0            0.0   \n",
       "\n",
       "        節数  アウェイ順位  ホーム順位  点数(ホームーアウェイ)   judge  \n",
       "0      1.0    16.0    6.0           1.0  121312  \n",
       "1      2.0    19.0    8.0           0.0  111322  \n",
       "2      4.0     1.0   14.0          -1.0  111121  \n",
       "3      7.0    20.0   12.0           1.0  111322  \n",
       "4      9.0     9.0   13.0           1.0  111222  \n",
       "...    ...     ...    ...           ...     ...  \n",
       "1381  31.0    20.0   15.0           1.0  213332  \n",
       "1382  33.0     2.0   15.0           0.0  113131  \n",
       "1383  36.0    13.0   15.0          -4.0  113231  \n",
       "1384  38.0     4.0   15.0          -1.0  113133  \n",
       "1385  40.0     8.0   15.0          -3.0  113232  \n",
       "\n",
       "[1386 rows x 12 columns]"
      ]
     },
     "execution_count": 23,
     "metadata": {},
     "output_type": "execute_result"
    }
   ],
   "source": [
    "#元のデータ（all_team_kansei）のdataframeに6桁で判定したデータ（classification）を列として追加\n",
    "print(classification[:5])\n",
    "\n",
    "all_team_kansei[\"judge\"]=classification\n",
    "all_team_kansei"
   ]
  },
  {
   "cell_type": "code",
   "execution_count": 24,
   "id": "c29cb11b-9c99-420f-abdb-e0808512f0ed",
   "metadata": {},
   "outputs": [
    {
     "name": "stdout",
     "output_type": "stream",
     "text": [
      "[-0.5008115048295191, -0.04147040266786312, -0.47117092552025014, 0.14573620524749087, -0.42257188763405473, 0.2981105886133586, 0.4110485955005083, -0.3949383905655469, 0.3729720292591782, -0.24409629966778384, 0.10032182852306563, 1.9118323061687783, 0.7446310930367575, -0.07996773995473964, -0.24386243873277386, -0.2318793546678338, -1.0557771685543442, 0.17111757168616573, -0.23858055841662304, 1.0809214233742581, -0.43293658029600324, 0.17680758368501848, -1.0735657099659217, -0.4882305179207772, 1.3019379236786564, -0.16299661987107572, -0.9211909531267197, -0.13509393709114803, -0.8276570217848164, -0.3127880022427023, -0.8229492122224862, 0.11829114560578043, 0.03424740690004182, -0.10558554017182031, 0.1545817484956819, -0.20910708151356416, 0.4963419400310847, 1.3434370669261266, 0.17413545402540176, -1.1697364430264463, -0.4842715242221494, -0.21577267354046673, 0.21136137145704775, 0.2181768341923044, -0.47267617303926357, -1.7152076293827563, -0.28108898981596014, -0.10472858856279947, 0.8757765336109449, -0.2830383716896127, -0.7702668180974004, -0.9806190421639847, 0.4481629148663159, 1.0961437709632236, 0.23398369764174975, 0.2814358922394473, -1.0568613521337573, 0.5992510054678691, -0.11236221286341246, -0.6270780535132124, 0.03834499911062279, 1.0252402818977122, -0.5915646729067472, -0.6524170503283901, -0.5778260890300662, -0.8740362603658394, 0.12994994098422247, 0.030129665549260165, 0.0024129166088718706, 1.9715128296290994, -0.5704899888024825, -0.46920465354736385, -0.5948707994900134, -0.7947132301439094, -0.7861382122752896, -0.3221370843196612, -0.4657493035542716, 0.39487343770684963, 1.8479260916390652, -0.18309317299815336, -0.5861036629304601, -0.5890008118819839, 0.07691801218421114, -0.2537256947355803, -0.4231196062289955, 0.026303836808509135, 0.6237719306900483, 0.37533816498199307, -0.08789201761200251, -0.04490375688511548, -0.44500003317156667, 0.24267690501905018, -0.7267567163527162, -0.5275373484744703, 1.4110577615975728, 0.24814776047910958, -0.7766525664098397, 0.09911948635114594, 0.23142651027775693, -0.11398178436109085, -0.5250545911933903, -0.1866970056565064, 1.5722260399233943, -0.871111773286746, -0.5051492517756134, 1.0840402704803154, -0.733162925718763, -0.8787515256037691, -0.42547309368854097, -0.5849483130992813, -0.19991977375265294, 1.167700008274757, 2.2353095968228973, 0.6858543450586833, -0.02966946885923205, 0.05674352484651665, -0.8685877368590926, -0.702014168500627, -0.8095160468665825, 0.11822978174679766, 0.9217540057992653, -0.4454681415387936, 0.39900696614619274, -0.6211500192862072, 0.5754584512243314, 2.043213706348846, 1.1295356038344497, 0.10395506966864096, -0.3326809872298332, -0.9894282752675954, 0.24333976496439913, -0.11712030197556882, -0.18024678014917153, -0.40159823807300654, 0.2780769627528028, 0.36999180084468747, 0.6683717818018791, 0.4507122527607214, -0.6896136572775863, -0.8793108788507416, -0.30656854628005176, -0.25584171938063605, 0.4655703766050162, 0.8763138901020793, -0.9751220177327272, -0.8164711239232201, 0.5385438338252723, -0.5518089229599904, -0.29818509904462837, -0.37879239591666414, 1.6078788616639736, 0.3224370961782525, -0.016169098297073334, 0.05759489221758096, -0.4130466437270219, 1.5596478821902129, 0.9728034808633707, -1.0272848144790774, -0.38953284223682494, -0.0943990784333646, 1.4328342634537, 0.07784008280895453, -1.5384342987628037, -0.736757438125487, 0.310051188204618, 0.014685576557439805, 0.9299558164929912, -0.17090627206821452, 3.058989497274129, 0.5127559857254534, 0.2521730580758311, 0.5738946390296868, -0.2443634892239619, -0.46314299006635434, 1.1426568599965488, 1.235647965303202, -0.40617084429016775, -1.4741157631627368, 0.7534709231226022, -0.501787069116531, 0.08198717861140722, -0.289092161182431, -1.3244978486648833, 1.7275873169252243, -0.06513102222453498, -0.12928874369163085, 1.7237757346089069, -0.680636954992194, 1.6999348940991574, -0.9117616776412798, 2.1733112352288186, 0.6885390847156515, -0.414510000106038, 0.14441839698910777, -0.7111788110691926, -0.9621784728249306, -0.9636640815304057, -0.15542239495398655, -0.13706680482523567, -0.34902172404971565, -0.9190251372346493, 1.2465364267284182, -0.15532697862925426, -0.4114384890218158, 1.302455853685812, -0.9967552355321722, 0.7375458690504342, -1.0254268721532507, 0.19732462463097608, -0.109069043620162, 0.1571773736333005, 0.18916255411889954, 0.0744145146341272, -0.7612781764707078, 0.6274461528236805, 0.7385966354246687, -0.3058522216484093, -0.02635985330745691, -0.5287402571334741, -0.6024386361858861, -0.2902639840193447, 0.6010812838847687, -0.42953479054021715, 0.9104412881578584, -0.9214228982916698, -0.7684348348943671, -0.5471070071997212, -0.38297776697965746, 1.8820539954034805, -0.021568498359827278, -0.06251639923459336]\n",
      "231\n"
     ]
    }
   ],
   "source": [
    "# all_team_kanseiについて、列judgeの値ごとに入場者の平均を求める。\n",
    "# 全cfデータごとに平均を求めてリストvisitorsに格納する。\n",
    "#観客動員数の値は後で変更可\n",
    "visitors=[]\n",
    "for i in cf:\n",
    "    visitors.append(all_team_kansei[all_team_kansei.judge==i].入場者数.mean())\n",
    "    \n",
    "print(visitors)\n",
    "print(len(visitors))"
   ]
  },
  {
   "cell_type": "code",
   "execution_count": 25,
   "id": "a7e51ba5-dc8e-461a-a6de-927e532c8110",
   "metadata": {},
   "outputs": [
    {
     "data": {
      "text/html": [
       "<div>\n",
       "<style scoped>\n",
       "    .dataframe tbody tr th:only-of-type {\n",
       "        vertical-align: middle;\n",
       "    }\n",
       "\n",
       "    .dataframe tbody tr th {\n",
       "        vertical-align: top;\n",
       "    }\n",
       "\n",
       "    .dataframe thead th {\n",
       "        text-align: right;\n",
       "    }\n",
       "</style>\n",
       "<table border=\"1\" class=\"dataframe\">\n",
       "  <thead>\n",
       "    <tr style=\"text-align: right;\">\n",
       "      <th></th>\n",
       "      <th>y1</th>\n",
       "      <th>y2</th>\n",
       "      <th>y3</th>\n",
       "      <th>y4</th>\n",
       "      <th>y5</th>\n",
       "      <th>y6</th>\n",
       "      <th>visitors</th>\n",
       "      <th>judge</th>\n",
       "    </tr>\n",
       "  </thead>\n",
       "  <tbody>\n",
       "    <tr>\n",
       "      <th>0</th>\n",
       "      <td>2.0</td>\n",
       "      <td>1.0</td>\n",
       "      <td>3.0</td>\n",
       "      <td>3.0</td>\n",
       "      <td>3.0</td>\n",
       "      <td>2.0</td>\n",
       "      <td>-0.500812</td>\n",
       "      <td>213332.0</td>\n",
       "    </tr>\n",
       "    <tr>\n",
       "      <th>1</th>\n",
       "      <td>1.0</td>\n",
       "      <td>2.0</td>\n",
       "      <td>2.0</td>\n",
       "      <td>2.0</td>\n",
       "      <td>3.0</td>\n",
       "      <td>2.0</td>\n",
       "      <td>-0.041470</td>\n",
       "      <td>122232.0</td>\n",
       "    </tr>\n",
       "    <tr>\n",
       "      <th>2</th>\n",
       "      <td>1.0</td>\n",
       "      <td>2.0</td>\n",
       "      <td>1.0</td>\n",
       "      <td>3.0</td>\n",
       "      <td>3.0</td>\n",
       "      <td>1.0</td>\n",
       "      <td>-0.471171</td>\n",
       "      <td>121331.0</td>\n",
       "    </tr>\n",
       "    <tr>\n",
       "      <th>3</th>\n",
       "      <td>1.0</td>\n",
       "      <td>1.0</td>\n",
       "      <td>3.0</td>\n",
       "      <td>2.0</td>\n",
       "      <td>2.0</td>\n",
       "      <td>1.0</td>\n",
       "      <td>0.145736</td>\n",
       "      <td>113221.0</td>\n",
       "    </tr>\n",
       "    <tr>\n",
       "      <th>4</th>\n",
       "      <td>2.0</td>\n",
       "      <td>1.0</td>\n",
       "      <td>1.0</td>\n",
       "      <td>2.0</td>\n",
       "      <td>2.0</td>\n",
       "      <td>1.0</td>\n",
       "      <td>-0.422572</td>\n",
       "      <td>211221.0</td>\n",
       "    </tr>\n",
       "    <tr>\n",
       "      <th>...</th>\n",
       "      <td>...</td>\n",
       "      <td>...</td>\n",
       "      <td>...</td>\n",
       "      <td>...</td>\n",
       "      <td>...</td>\n",
       "      <td>...</td>\n",
       "      <td>...</td>\n",
       "      <td>...</td>\n",
       "    </tr>\n",
       "    <tr>\n",
       "      <th>226</th>\n",
       "      <td>2.0</td>\n",
       "      <td>1.0</td>\n",
       "      <td>3.0</td>\n",
       "      <td>3.0</td>\n",
       "      <td>1.0</td>\n",
       "      <td>2.0</td>\n",
       "      <td>-0.547107</td>\n",
       "      <td>213312.0</td>\n",
       "    </tr>\n",
       "    <tr>\n",
       "      <th>227</th>\n",
       "      <td>2.0</td>\n",
       "      <td>1.0</td>\n",
       "      <td>1.0</td>\n",
       "      <td>1.0</td>\n",
       "      <td>1.0</td>\n",
       "      <td>2.0</td>\n",
       "      <td>-0.382978</td>\n",
       "      <td>211112.0</td>\n",
       "    </tr>\n",
       "    <tr>\n",
       "      <th>228</th>\n",
       "      <td>1.0</td>\n",
       "      <td>1.0</td>\n",
       "      <td>3.0</td>\n",
       "      <td>1.0</td>\n",
       "      <td>2.0</td>\n",
       "      <td>3.0</td>\n",
       "      <td>1.882054</td>\n",
       "      <td>113123.0</td>\n",
       "    </tr>\n",
       "    <tr>\n",
       "      <th>229</th>\n",
       "      <td>1.0</td>\n",
       "      <td>2.0</td>\n",
       "      <td>1.0</td>\n",
       "      <td>3.0</td>\n",
       "      <td>1.0</td>\n",
       "      <td>1.0</td>\n",
       "      <td>-0.021568</td>\n",
       "      <td>121311.0</td>\n",
       "    </tr>\n",
       "    <tr>\n",
       "      <th>230</th>\n",
       "      <td>1.0</td>\n",
       "      <td>1.0</td>\n",
       "      <td>2.0</td>\n",
       "      <td>2.0</td>\n",
       "      <td>1.0</td>\n",
       "      <td>1.0</td>\n",
       "      <td>-0.062516</td>\n",
       "      <td>112211.0</td>\n",
       "    </tr>\n",
       "  </tbody>\n",
       "</table>\n",
       "<p>231 rows × 8 columns</p>\n",
       "</div>"
      ],
      "text/plain": [
       "      y1   y2   y3   y4   y5   y6  visitors     judge\n",
       "0    2.0  1.0  3.0  3.0  3.0  2.0 -0.500812  213332.0\n",
       "1    1.0  2.0  2.0  2.0  3.0  2.0 -0.041470  122232.0\n",
       "2    1.0  2.0  1.0  3.0  3.0  1.0 -0.471171  121331.0\n",
       "3    1.0  1.0  3.0  2.0  2.0  1.0  0.145736  113221.0\n",
       "4    2.0  1.0  1.0  2.0  2.0  1.0 -0.422572  211221.0\n",
       "..   ...  ...  ...  ...  ...  ...       ...       ...\n",
       "226  2.0  1.0  3.0  3.0  1.0  2.0 -0.547107  213312.0\n",
       "227  2.0  1.0  1.0  1.0  1.0  2.0 -0.382978  211112.0\n",
       "228  1.0  1.0  3.0  1.0  2.0  3.0  1.882054  113123.0\n",
       "229  1.0  2.0  1.0  3.0  1.0  1.0 -0.021568  121311.0\n",
       "230  1.0  1.0  2.0  2.0  1.0  1.0 -0.062516  112211.0\n",
       "\n",
       "[231 rows x 8 columns]"
      ]
     },
     "execution_count": 25,
     "metadata": {},
     "output_type": "execute_result"
    }
   ],
   "source": [
    "#先程説明変数としてy1~y6としたデータと、観客動員数の平均visitorsをdataframeにする。\n",
    "all_team_judge=pd.DataFrame(list(zip(y1,y2,y3,y4,y5,y6,visitors)),columns=[\"y1\",\"y2\",\"y3\",\"y4\",\"y5\",\"y6\",\"visitors\"])\n",
    "all_team_judge[\"judge\"]=all_team_judge[\"y1\"]+all_team_judge[\"y2\"]+all_team_judge[\"y3\"]+all_team_judge[\"y4\"]+all_team_judge[\"y5\"]+all_team_judge[\"y6\"]\n",
    "all_team_judge.to_csv(\"all_team_judge.csv\")\n",
    "all_team_judge=all_team_judge.astype('float64')\n",
    "all_team_judge"
   ]
  },
  {
   "cell_type": "code",
   "execution_count": 26,
   "id": "b419271c-4680-4419-976f-a595c20c7116",
   "metadata": {},
   "outputs": [],
   "source": [
    "# 予測\n",
    "# 1,2,3の数字で分類しているため標準化（正規化）の必要はない\n",
    "import numpy as np\n",
    "from sklearn import svm\n",
    "from matplotlib import pyplot as plt\n",
    "from sklearn.model_selection import train_test_split\n",
    "from sklearn.preprocessing import StandardScaler\n",
    "from sklearn.svm import SVR"
   ]
  },
  {
   "cell_type": "code",
   "execution_count": 50,
   "id": "368cc7a8-4d0a-4c80-b77e-3b9ccd400679",
   "metadata": {},
   "outputs": [
    {
     "name": "stdout",
     "output_type": "stream",
     "text": [
      "<class 'numpy.ndarray'>\n",
      "<class 'numpy.ndarray'>\n",
      "231\n"
     ]
    }
   ],
   "source": [
    "yy1=np.array(all_team_judge[\"y1\"])\n",
    "yy2=np.array(all_team_judge[\"y2\"])\n",
    "yy3=np.array(all_team_judge[\"y3\"])\n",
    "yy4=np.array(all_team_judge[\"y4\"])\n",
    "yy5=np.array(all_team_judge[\"y5\"])\n",
    "yy6=np.array(all_team_judge[\"y6\"])\n",
    "Y=np.c_[yy1,yy2,yy3,yy4,yy5,yy6]\n",
    "visitors=np.array(visitors)\n",
    "print(type(Y))\n",
    "print(type(visitors))\n",
    "print(len(Y))"
   ]
  },
  {
   "cell_type": "code",
   "execution_count": 28,
   "id": "d296512c-0490-4cf1-be46-225331a7fb86",
   "metadata": {},
   "outputs": [
    {
     "data": {
      "text/plain": [
       "SVR()"
      ]
     },
     "execution_count": 28,
     "metadata": {},
     "output_type": "execute_result"
    }
   ],
   "source": [
    "model=svm.SVR(kernel=\"rbf\")\n",
    "model.fit(Y,visitors)"
   ]
  },
  {
   "cell_type": "code",
   "execution_count": 29,
   "id": "2c85c0ea-d574-4cf8-a2ca-0729d4f59892",
   "metadata": {},
   "outputs": [
    {
     "data": {
      "text/plain": [
       "0.4613773650236055"
      ]
     },
     "execution_count": 29,
     "metadata": {},
     "output_type": "execute_result"
    }
   ],
   "source": [
    "r2=model.score(Y,visitors)\n",
    "r2"
   ]
  },
  {
   "cell_type": "code",
   "execution_count": 30,
   "id": "868b526e-bb37-449f-8b33-f5ba4a9add32",
   "metadata": {},
   "outputs": [
    {
     "name": "stdout",
     "output_type": "stream",
     "text": [
      "193\n"
     ]
    },
    {
     "data": {
      "text/plain": [
       "array([[2., 1., 3., 3., 3., 2.],\n",
       "       [1., 2., 2., 2., 3., 2.],\n",
       "       [1., 1., 3., 2., 2., 1.],\n",
       "       ...,\n",
       "       [2., 1., 3., 3., 1., 2.],\n",
       "       [1., 1., 3., 1., 2., 3.],\n",
       "       [1., 2., 1., 3., 1., 1.]])"
      ]
     },
     "execution_count": 30,
     "metadata": {},
     "output_type": "execute_result"
    }
   ],
   "source": [
    "print(len(model.support_vectors_))\n",
    "model.support_vectors_"
   ]
  },
  {
   "cell_type": "code",
   "execution_count": 31,
   "id": "0ad2b519-ee5a-4c45-b222-522e259b2294",
   "metadata": {},
   "outputs": [
    {
     "name": "stdout",
     "output_type": "stream",
     "text": [
      "1\n"
     ]
    },
    {
     "data": {
      "text/plain": [
       "array([[ 0.13294944,  1.        ,  0.6717293 ,  1.        ,  1.        ,\n",
       "         0.50950487, -1.        , -0.24641464,  1.        ,  1.        ,\n",
       "        -1.        ,  0.20462026, -1.        ,  1.        , -1.        ,\n",
       "         1.        , -1.        ,  1.        , -1.        , -1.        ,\n",
       "         1.        , -1.        , -1.        , -1.        ,  1.        ,\n",
       "        -1.        ,  0.58944137,  1.        ,  1.        ,  1.        ,\n",
       "         0.93890555, -1.        ,  1.        ,  0.25405108,  1.        ,\n",
       "        -1.        , -0.20293445, -1.        ,  1.        , -1.        ,\n",
       "        -0.40292625,  1.        ,  1.        , -0.76438865, -1.        ,\n",
       "         0.9666416 ,  0.32126025, -1.        ,  1.        , -0.88082655,\n",
       "        -1.        ,  1.        , -0.33437744,  0.00698434,  1.        ,\n",
       "         1.        , -1.        , -1.        , -1.        , -0.28016914,\n",
       "         1.        ,  1.        ,  1.        , -0.13836656, -1.        ,\n",
       "        -1.        ,  1.        ,  1.        , -1.        , -0.97308074,\n",
       "        -1.        ,  1.        ,  0.05725762, -1.        ,  1.        ,\n",
       "        -1.        ,  0.51402426,  1.        , -1.        ,  1.        ,\n",
       "        -1.        ,  1.        , -1.        , -1.        ,  1.        ,\n",
       "        -0.58561541, -1.        , -1.        , -0.55509126,  1.        ,\n",
       "         1.        ,  0.73297243,  1.        , -0.95102006, -1.        ,\n",
       "        -1.        , -1.        ,  0.41203891,  0.52342617,  1.        ,\n",
       "         1.        ,  1.        , -1.        , -1.        , -1.        ,\n",
       "        -1.        , -0.27880346,  0.52213286,  1.        ,  1.        ,\n",
       "        -1.        , -1.        , -1.        ,  1.        ,  1.        ,\n",
       "         1.        ,  1.        , -1.        , -1.        ,  0.70877455,\n",
       "        -0.90300449, -1.        ,  0.65691484,  0.22350017,  1.        ,\n",
       "        -1.        ,  1.        ,  1.        ,  1.        , -1.        ,\n",
       "         0.66057994,  1.        , -0.57323241, -1.        , -1.        ,\n",
       "        -1.        ,  1.        ,  0.8863624 ,  1.        ,  1.        ,\n",
       "        -0.28758176,  1.        ,  1.        ,  1.        , -1.        ,\n",
       "         1.        , -0.94123704,  1.        , -1.        ,  1.        ,\n",
       "         0.98418713, -0.6501819 ,  1.        , -0.79059641,  1.        ,\n",
       "        -1.        ,  1.        ,  0.07262545, -0.98599725, -1.        ,\n",
       "        -1.        , -1.        , -1.        , -1.        , -1.        ,\n",
       "        -1.        ,  1.        , -0.23756868, -1.        ,  1.        ,\n",
       "        -1.        ,  1.        , -1.        ,  1.        ,  1.        ,\n",
       "        -1.        , -1.        , -1.        ,  1.        ,  1.        ,\n",
       "        -1.        ,  1.        , -1.        , -1.        ,  0.3791535 ,\n",
       "         1.        , -0.66005285,  1.        , -1.        , -1.        ,\n",
       "        -1.        ,  1.        ,  0.6934291 ]])"
      ]
     },
     "execution_count": 31,
     "metadata": {},
     "output_type": "execute_result"
    }
   ],
   "source": [
    "print(len(model.dual_coef_))\n",
    "model.dual_coef_"
   ]
  },
  {
   "cell_type": "code",
   "execution_count": 32,
   "id": "2b201699-57a4-4640-926a-5de6eaf64a90",
   "metadata": {},
   "outputs": [
    {
     "data": {
      "text/plain": [
       "array([0.1560012])"
      ]
     },
     "execution_count": 32,
     "metadata": {},
     "output_type": "execute_result"
    }
   ],
   "source": [
    "model.intercept_"
   ]
  },
  {
   "cell_type": "code",
   "execution_count": 33,
   "id": "2ae40eac-0da4-4e2b-95d4-3066a396fb6c",
   "metadata": {},
   "outputs": [
    {
     "name": "stdout",
     "output_type": "stream",
     "text": [
      "231\n"
     ]
    },
    {
     "data": {
      "text/plain": [
       "array([-6.00916342e-01, -2.32386977e-01, -4.91468030e-01,  4.53625807e-02,\n",
       "       -7.05936731e-01,  3.16903389e-01,  2.73221809e-01, -4.95154866e-01,\n",
       "        7.71368307e-01, -1.44135231e-01,  2.07194948e-02,  6.98022560e-02,\n",
       "        2.77148593e-01, -2.97653163e-02,  1.08828659e-01, -3.32033664e-01,\n",
       "       -7.39286190e-01, -2.10771528e-01, -1.30853142e-01,  4.36377930e-01,\n",
       "       -7.00834676e-02, -2.69561012e-01, -5.34708021e-01,  2.02407322e-01,\n",
       "       -2.45720541e-01, -2.53171474e-01, -9.39375824e-01, -9.43242350e-02,\n",
       "       -3.62513486e-01,  3.07499409e-01, -1.17972282e-01, -5.06751679e-01,\n",
       "        3.92944767e-01, -8.42670126e-02,  5.47304463e-02, -6.84926188e-01,\n",
       "        3.57923474e-01,  9.10807623e-01,  7.41886241e-02, -7.00884502e-01,\n",
       "       -5.20081489e-01, -6.86168881e-01,  1.11704609e-01, -3.74220150e-01,\n",
       "       -4.04905011e-01, -8.34895001e-01, -1.80709708e-01,  1.44817054e-02,\n",
       "        4.04223312e-01, -7.57100050e-02, -6.70474157e-01, -9.48902511e-01,\n",
       "        1.89328658e-01,  8.90025229e-01,  3.34192709e-01,  2.09431388e-01,\n",
       "       -7.57930417e-01,  4.98984650e-01, -1.35418113e-02, -7.27270714e-01,\n",
       "        2.27641328e-01,  6.39542898e-01, -5.19872319e-01, -5.52158392e-01,\n",
       "       -1.77153314e-01, -7.89765285e-01, -2.41858502e-01,  1.30593175e-01,\n",
       "       -9.75575604e-02,  1.35097135e+00, -6.77787247e-01, -2.75050635e-01,\n",
       "       -2.63573691e-01, -1.91762214e-01, -6.85791631e-01, -6.04484256e-01,\n",
       "       -5.14350281e-01, -7.17819532e-02, -4.92219417e-01, -8.31373441e-02,\n",
       "       -7.73138897e-02,  4.89849503e-01, -1.72308689e-01, -6.08168379e-01,\n",
       "       -2.59402845e-01,  1.26518068e-01,  8.24095462e-01,  1.98024040e-01,\n",
       "       -1.87777376e-01, -7.73660961e-02,  8.11960719e-01, -4.33836934e-02,\n",
       "       -5.93418062e-01, -6.27794946e-01,  3.17203693e-01,  3.28698006e-01,\n",
       "       -6.00554764e-01, -7.92252722e-03,  1.84645718e-01, -1.30077573e-01,\n",
       "       -1.23410696e-01, -2.70977464e-01,  8.36610842e-01, -5.76783931e-01,\n",
       "        8.16952243e-02,  9.74385160e-01, -6.33472315e-01, -3.45558080e-02,\n",
       "       -4.66260494e-01, -4.79755862e-01, -9.99588369e-02,  9.07600221e-01,\n",
       "       -2.16526797e-01,  5.86100609e-01, -1.90416860e-01,  3.09838819e-02,\n",
       "       -7.68432240e-01, -2.40004339e-01, -1.13871668e-01,  2.93396181e-01,\n",
       "        8.21900738e-01, -5.45691743e-01, -1.56212828e-01, -7.12674549e-01,\n",
       "        3.94964411e-01,  1.12260552e+00,  1.21200495e+00,  2.13300532e-01,\n",
       "       -2.27867193e-01, -6.11395933e-01,  5.15676630e-01, -1.68909309e-02,\n",
       "       -1.20465577e-01, -5.01817067e-01,  2.02258824e-01, -1.09362393e-01,\n",
       "        3.55735299e-01,  7.35296658e-01, -3.03073331e-01, -4.24163976e-01,\n",
       "       -4.13884999e-01, -7.31369594e-01,  4.02781473e-02, -9.10921121e-02,\n",
       "       -6.85144390e-01, -6.44310874e-01,  4.38417711e-01, -4.51861900e-01,\n",
       "        1.02810628e+00, -4.78577284e-01,  1.50814399e+00, -4.20676094e-01,\n",
       "        9.34925637e-02,  8.46134556e-03, -5.40081770e-01,  1.20259718e+00,\n",
       "        5.53314900e-01,  2.16222124e-01, -4.83037090e-01, -1.94757092e-01,\n",
       "        1.39852621e-01,  1.77472410e-01, -1.01119423e+00, -5.25435655e-01,\n",
       "        3.17166546e-01,  1.95888614e-01,  4.65732728e-01, -2.71238027e-01,\n",
       "        1.53043540e-01,  1.64316481e-01,  1.79253427e-01,  6.73504500e-01,\n",
       "       -1.68858627e-01, -5.04349117e-01,  8.43126765e-01, -6.82512610e-02,\n",
       "       -6.69887213e-01, -7.87798045e-01,  1.80119790e-01, -4.01542168e-01,\n",
       "       -3.78869296e-02, -3.06368324e-01, -6.54370838e-01, -2.37491085e-01,\n",
       "       -1.65225509e-01, -2.90005425e-02,  1.19932936e+00, -5.80359354e-01,\n",
       "       -5.26887628e-01, -1.48650071e-01,  9.96617191e-01,  5.88379552e-01,\n",
       "       -3.14502307e-01,  4.18768361e-01, -8.09758865e-01, -7.80469334e-01,\n",
       "       -5.52122779e-01,  4.50545570e-02, -3.62583492e-02,  3.70880704e-01,\n",
       "       -5.40726939e-01,  5.76131153e-01, -5.50277658e-02, -2.37715713e-01,\n",
       "       -2.74707194e-01, -6.02564093e-01,  8.45685676e-02, -7.51060415e-01,\n",
       "        3.40476643e-04, -1.82997189e-01, -8.57560990e-02,  4.03819121e-01,\n",
       "        7.82582404e-01, -6.56136165e-02,  2.92807651e-02, -2.01595913e-01,\n",
       "        8.50568488e-02, -4.25138670e-01, -1.26006491e-01, -4.45243357e-01,\n",
       "       -3.90285571e-01,  2.50801407e-01, -3.29653790e-01, -1.01500990e-01,\n",
       "       -7.07183072e-01, -5.88660718e-01, -3.82535935e-02, -4.77618468e-01,\n",
       "        1.15967498e+00, -1.21836790e-01, -6.81265881e-02])"
      ]
     },
     "execution_count": 33,
     "metadata": {},
     "output_type": "execute_result"
    }
   ],
   "source": [
    "print(len(model.predict(Y)))\n",
    "model.predict(Y)"
   ]
  },
  {
   "cell_type": "code",
   "execution_count": 34,
   "id": "3bb0aae6-646c-476d-8d42-86978871bab8",
   "metadata": {},
   "outputs": [
    {
     "data": {
      "text/html": [
       "<div>\n",
       "<style scoped>\n",
       "    .dataframe tbody tr th:only-of-type {\n",
       "        vertical-align: middle;\n",
       "    }\n",
       "\n",
       "    .dataframe tbody tr th {\n",
       "        vertical-align: top;\n",
       "    }\n",
       "\n",
       "    .dataframe thead th {\n",
       "        text-align: right;\n",
       "    }\n",
       "</style>\n",
       "<table border=\"1\" class=\"dataframe\">\n",
       "  <thead>\n",
       "    <tr style=\"text-align: right;\">\n",
       "      <th></th>\n",
       "      <th>judge</th>\n",
       "      <th>predict</th>\n",
       "    </tr>\n",
       "  </thead>\n",
       "  <tbody>\n",
       "    <tr>\n",
       "      <th>0</th>\n",
       "      <td>213332.0</td>\n",
       "      <td>-0.600916</td>\n",
       "    </tr>\n",
       "    <tr>\n",
       "      <th>1</th>\n",
       "      <td>122232.0</td>\n",
       "      <td>-0.232387</td>\n",
       "    </tr>\n",
       "    <tr>\n",
       "      <th>2</th>\n",
       "      <td>121331.0</td>\n",
       "      <td>-0.491468</td>\n",
       "    </tr>\n",
       "    <tr>\n",
       "      <th>3</th>\n",
       "      <td>113221.0</td>\n",
       "      <td>0.045363</td>\n",
       "    </tr>\n",
       "    <tr>\n",
       "      <th>4</th>\n",
       "      <td>211221.0</td>\n",
       "      <td>-0.705937</td>\n",
       "    </tr>\n",
       "    <tr>\n",
       "      <th>...</th>\n",
       "      <td>...</td>\n",
       "      <td>...</td>\n",
       "    </tr>\n",
       "    <tr>\n",
       "      <th>226</th>\n",
       "      <td>213312.0</td>\n",
       "      <td>-0.038254</td>\n",
       "    </tr>\n",
       "    <tr>\n",
       "      <th>227</th>\n",
       "      <td>211112.0</td>\n",
       "      <td>-0.477618</td>\n",
       "    </tr>\n",
       "    <tr>\n",
       "      <th>228</th>\n",
       "      <td>113123.0</td>\n",
       "      <td>1.159675</td>\n",
       "    </tr>\n",
       "    <tr>\n",
       "      <th>229</th>\n",
       "      <td>121311.0</td>\n",
       "      <td>-0.121837</td>\n",
       "    </tr>\n",
       "    <tr>\n",
       "      <th>230</th>\n",
       "      <td>112211.0</td>\n",
       "      <td>-0.068127</td>\n",
       "    </tr>\n",
       "  </tbody>\n",
       "</table>\n",
       "<p>231 rows × 2 columns</p>\n",
       "</div>"
      ],
      "text/plain": [
       "        judge   predict\n",
       "0    213332.0 -0.600916\n",
       "1    122232.0 -0.232387\n",
       "2    121331.0 -0.491468\n",
       "3    113221.0  0.045363\n",
       "4    211221.0 -0.705937\n",
       "..        ...       ...\n",
       "226  213312.0 -0.038254\n",
       "227  211112.0 -0.477618\n",
       "228  113123.0  1.159675\n",
       "229  121311.0 -0.121837\n",
       "230  112211.0 -0.068127\n",
       "\n",
       "[231 rows x 2 columns]"
      ]
     },
     "execution_count": 34,
     "metadata": {},
     "output_type": "execute_result"
    }
   ],
   "source": [
    "all_team_shiken=pd.DataFrame(list(zip(all_team_judge[\"judge\"],model.predict(Y))),columns={\"judge\",\"predict\"})\n",
    "all_team_shiken.to_csv(\"all_team_shiken.csv\")\n",
    "all_team_shiken"
   ]
  },
  {
   "cell_type": "code",
   "execution_count": 35,
   "id": "87535926-6143-4b49-bf51-0783033aa43f",
   "metadata": {},
   "outputs": [],
   "source": [
    "import numpy as np\n",
    "#import pandas as pd\n",
    "from sklearn import model_selection, svm, datasets\n",
    "from sklearn.model_selection import train_test_split, GridSearchCV\n",
    "import matplotlib.pyplot as plt\n",
    "import matplotlib.figure as figure\n",
    "import time"
   ]
  },
  {
   "cell_type": "code",
   "execution_count": 36,
   "id": "e66d112c-787d-4c86-a4a0-ca308145b7e8",
   "metadata": {},
   "outputs": [],
   "source": [
    "# Settings\n",
    "svrcs = 2**np.arange( -5, 11, dtype=float)          # Candidates of C\n",
    "svrepsilons = 2**np.arange( -10, 1, dtype=float)    # Candidates of epsilon\n",
    "svrgammas = 2**np.arange( -20, 11, dtype=float)     # Candidates of gamma\n",
    "foldnumber = 5 # \"foldnumber\"-fold cross-validation\n",
    "nmberoftrainingsamples = 1000\n",
    "nmberoftestsamples = 0.25"
   ]
  },
  {
   "cell_type": "code",
   "execution_count": 37,
   "id": "c65eb5bb-ee43-407b-9e10-8358082e09f8",
   "metadata": {},
   "outputs": [
    {
     "name": "stdout",
     "output_type": "stream",
     "text": [
      "<class 'numpy.ndarray'>\n"
     ]
    }
   ],
   "source": [
    "# Divide samples into trainign samples and test samples\n",
    "Xtrain, Xtest, ytrain, ytest = train_test_split(Y, visitors, test_size=nmberoftestsamples, random_state=0)\n",
    "autoscaledXtrain=Xtrain\n",
    "autoscaledXtest=Xtest\n",
    "autoscaledytrain=ytrain\n",
    "# print(autoscaledXtrain)\n",
    "print(type(autoscaledytrain) )"
   ]
  },
  {
   "cell_type": "code",
   "execution_count": 38,
   "id": "04f458ba-d2a0-440b-a407-13d554730e1d",
   "metadata": {},
   "outputs": [],
   "source": [
    "# Optimize gamma by maximizing variance in Gram matrix\n",
    "numpyautoscaledXtrain = np.array(autoscaledXtrain)\n",
    "varianceofgrammatrix = list()\n",
    "for svrgamma in svrgammas:\n",
    "    grammatrix = np.exp(-svrgamma*((numpyautoscaledXtrain[:, np.newaxis] - numpyautoscaledXtrain)**2).sum(axis=2))\n",
    "    varianceofgrammatrix.append(grammatrix.var(ddof=1))\n",
    "optimalsvrgamma = svrgammas[ np.where( varianceofgrammatrix == np.max(varianceofgrammatrix) )[0][0] ]"
   ]
  },
  {
   "cell_type": "code",
   "execution_count": 39,
   "id": "e5e2591c-cafd-4560-8363-06144fd36c12",
   "metadata": {},
   "outputs": [],
   "source": [
    "# Optimize epsilon with cross-validation\n",
    "svrmodelincv = GridSearchCV(svm.SVR(kernel='rbf', C=3, gamma=optimalsvrgamma), {'epsilon':svrepsilons}, cv=foldnumber )\n",
    "svrmodelincv.fit(autoscaledXtrain, autoscaledytrain)\n",
    "optimalsvrepsilon = svrmodelincv.best_params_['epsilon']"
   ]
  },
  {
   "cell_type": "code",
   "execution_count": 40,
   "id": "52d624bf-fab9-4aaf-85a5-70a73a3f3b13",
   "metadata": {},
   "outputs": [],
   "source": [
    "# Optimize C with cross-validation\n",
    "svrmodelincv = GridSearchCV(svm.SVR(kernel='rbf', epsilon=optimalsvrepsilon, gamma=optimalsvrgamma), {'C':svrcs}, cv=foldnumber )\n",
    "svrmodelincv.fit(autoscaledXtrain, autoscaledytrain)\n",
    "optimalsvrc = svrmodelincv.best_params_['C']"
   ]
  },
  {
   "cell_type": "code",
   "execution_count": 41,
   "id": "af81c413-4294-46dd-bd31-7dafc1cb336f",
   "metadata": {},
   "outputs": [],
   "source": [
    "# Optimize gamma with cross-validation (optional)\n",
    "svrmodelincv = GridSearchCV(svm.SVR(kernel='rbf', epsilon=optimalsvrepsilon, C=optimalsvrc), {'gamma':svrgammas}, cv=foldnumber )\n",
    "svrmodelincv.fit(autoscaledXtrain, autoscaledytrain)\n",
    "optimalsvrgamma = svrmodelincv.best_params_['gamma']"
   ]
  },
  {
   "cell_type": "code",
   "execution_count": 42,
   "id": "5bb43776-4466-47df-a7a9-9870a31c12a3",
   "metadata": {},
   "outputs": [
    {
     "name": "stdout",
     "output_type": "stream",
     "text": [
      "C: 0.125, Epsion: 0.25, Gamma: 0.125\n"
     ]
    }
   ],
   "source": [
    "# Check optimized hyperparameters\n",
    "print (\"C: {0}, Epsion: {1}, Gamma: {2}\".format(optimalsvrc, optimalsvrepsilon, optimalsvrgamma))"
   ]
  },
  {
   "cell_type": "code",
   "execution_count": 43,
   "id": "9b6e6062-d488-4961-b829-af98ff0dd915",
   "metadata": {},
   "outputs": [
    {
     "data": {
      "text/plain": [
       "SVR(C=0.125, epsilon=0.25, gamma=0.125)"
      ]
     },
     "execution_count": 43,
     "metadata": {},
     "output_type": "execute_result"
    }
   ],
   "source": [
    "# Construct SVR model\n",
    "regressionmodel = svm.SVR(kernel='rbf', C=optimalsvrc, epsilon=optimalsvrepsilon, gamma=optimalsvrgamma)\n",
    "regressionmodel.fit(autoscaledXtrain, autoscaledytrain)"
   ]
  },
  {
   "cell_type": "code",
   "execution_count": 44,
   "id": "2078fd6c-dd4f-47f8-bf86-6c10cc688987",
   "metadata": {},
   "outputs": [],
   "source": [
    "# Calculate y of trainig dataset\n",
    "calculatedytrain = np.ndarray.flatten( regressionmodel.predict(autoscaledXtrain) )\n",
    "calculatedytrain = calculatedytrain*ytrain.std(ddof=1) + ytrain.mean()"
   ]
  },
  {
   "cell_type": "code",
   "execution_count": 45,
   "id": "602d91ff-8f90-463a-a000-516821f01811",
   "metadata": {},
   "outputs": [
    {
     "name": "stdout",
     "output_type": "stream",
     "text": [
      "r2: 0.2132682360746916\n",
      "RMSE: 0.6899625695208602\n",
      "MAE: 0.49064915889694805\n"
     ]
    }
   ],
   "source": [
    "# r2, RMSE, MAE\n",
    "print( \"r2: {0}\".format(float( 1 - sum( (ytrain-calculatedytrain )**2 ) / sum((ytrain-ytrain.mean())**2) )) )\n",
    "print( \"RMSE: {0}\".format(float( ( sum( (ytrain-calculatedytrain)**2 )/ len(ytrain))**0.5 )) )\n",
    "print( \"MAE: {0}\".format(float( sum( abs(ytrain-calculatedytrain)) / len(ytrain) )) )"
   ]
  },
  {
   "cell_type": "code",
   "execution_count": 46,
   "id": "8fe968cd-0100-45ee-bd90-986966fc6670",
   "metadata": {},
   "outputs": [],
   "source": [
    "# Estimate y in cross-validation\n",
    "estimatedyincv = np.ndarray.flatten( model_selection.cross_val_predict(regressionmodel, autoscaledXtrain, autoscaledytrain, cv=foldnumber) )\n",
    "estimatedyincv = estimatedyincv*ytrain.std(ddof=1) + ytrain.mean()"
   ]
  },
  {
   "cell_type": "code",
   "execution_count": 47,
   "id": "0758740f-b3e1-4d6b-abba-d2ceb9a44226",
   "metadata": {},
   "outputs": [
    {
     "name": "stdout",
     "output_type": "stream",
     "text": [
      "r2cv: 0.12711806000689307\n",
      "RMSEcv: 0.7267582030200401\n",
      "MAEcv: 0.520604202314269\n"
     ]
    }
   ],
   "source": [
    "# r2cv, RMSEcv, MAEcv\n",
    "print( \"r2cv: {0}\".format(float( 1 - sum( (ytrain-estimatedyincv )**2 ) / sum((ytrain-ytrain.mean())**2) )) )\n",
    "print( \"RMSEcv: {0}\".format(float( ( sum( (ytrain-estimatedyincv)**2 )/ len(ytrain))**0.5 )) )\n",
    "print( \"MAEcv: {0}\".format(float( sum( abs(ytrain-estimatedyincv)) / len(ytrain) )) )"
   ]
  },
  {
   "cell_type": "code",
   "execution_count": 48,
   "id": "06dd748a-f925-4ff0-8d63-8a5589af3496",
   "metadata": {},
   "outputs": [],
   "source": [
    "# Estimate y of test dataset\n",
    "predictedytest = np.ndarray.flatten( regressionmodel.predict(autoscaledXtest) )\n",
    "predictedytest = predictedytest*ytrain.std(ddof=1) + ytrain.mean()"
   ]
  },
  {
   "cell_type": "code",
   "execution_count": 49,
   "id": "f16d967a-65e3-4602-8035-66888e094ad6",
   "metadata": {},
   "outputs": [
    {
     "name": "stdout",
     "output_type": "stream",
     "text": [
      "r2p: 0.07385871498014795\n",
      "RMSEp: 0.7413537462341663\n",
      "MAEp: 0.5098956902151535\n"
     ]
    }
   ],
   "source": [
    "# r2p, RMSEp, MAEp\n",
    "print( \"r2p: {0}\".format(float( 1 - sum( (ytest-predictedytest )**2 ) / sum((ytest-ytest.mean())**2) )) )\n",
    "print( \"RMSEp: {0}\".format(float( ( sum( (ytest-predictedytest)**2 )/ len(ytest))**0.5 )) )\n",
    "print( \"MAEp: {0}\".format(float( sum( abs(ytest-predictedytest)) / len(ytest) )) )"
   ]
  },
  {
   "cell_type": "code",
   "execution_count": null,
   "id": "48296bd6-5a31-47f4-9ba1-4c5eba236c04",
   "metadata": {},
   "outputs": [],
   "source": []
  }
 ],
 "metadata": {
  "kernelspec": {
   "display_name": "Python 3",
   "language": "python",
   "name": "python3"
  },
  "language_info": {
   "codemirror_mode": {
    "name": "ipython",
    "version": 3
   },
   "file_extension": ".py",
   "mimetype": "text/x-python",
   "name": "python",
   "nbconvert_exporter": "python",
   "pygments_lexer": "ipython3",
   "version": "3.9.5"
  }
 },
 "nbformat": 4,
 "nbformat_minor": 5
}
