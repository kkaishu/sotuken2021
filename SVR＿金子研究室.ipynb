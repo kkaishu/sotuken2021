{
 "cells": [
  {
   "cell_type": "code",
   "execution_count": 97,
   "id": "547378bf-df9d-4712-93eb-13af783a7457",
   "metadata": {},
   "outputs": [],
   "source": [
    "import numpy as np\n",
    "#import pandas as pd\n",
    "from sklearn import model_selection, svm, datasets\n",
    "from sklearn.model_selection import train_test_split, GridSearchCV\n",
    "import matplotlib.pyplot as plt\n",
    "import matplotlib.figure as figure\n",
    "import time"
   ]
  },
  {
   "cell_type": "code",
   "execution_count": 98,
   "id": "b8551e6a-3604-4963-83c9-3a25059cfe09",
   "metadata": {},
   "outputs": [],
   "source": [
    "# Settings\n",
    "svrcs = 2**np.arange( -5, 11, dtype=float)          # Candidates of C\n",
    "svrepsilons = 2**np.arange( -10, 1, dtype=float)    # Candidates of epsilon\n",
    "svrgammas = 2**np.arange( -20, 11, dtype=float)     # Candidates of gamma\n",
    "foldnumber = 5 # \"foldnumber\"-fold cross-validation\n",
    "nmberoftrainingsamples = 1000\n",
    "nmberoftestsamples = 0.25"
   ]
  },
  {
   "cell_type": "code",
   "execution_count": 99,
   "id": "bbc34bdd-37dc-4bcf-8f6e-7f3971715ace",
   "metadata": {},
   "outputs": [],
   "source": [
    "import numpy as np\n",
    "import matplotlib.pyplot as plt\n",
    "\n",
    "from sklearn.datasets import load_boston\n",
    "from sklearn.model_selection import train_test_split\n",
    "from sklearn.preprocessing import StandardScaler\n",
    "from sklearn.svm import SVR\n",
    "from sklearn.model_selection import GridSearchCV\n",
    "\n",
    "import pandas as pd\n",
    "import math\n",
    "import numpy as np\n",
    "from sklearn import tree"
   ]
  },
  {
   "cell_type": "code",
   "execution_count": 100,
   "id": "fa4920b9-08d9-457c-8a99-01e38c8ea111",
   "metadata": {},
   "outputs": [],
   "source": [
    "team_name_all=[\"愛媛\",\"横浜\",\"岡山\",\"岐阜\",\"京都\",\"金沢\",\"熊本\",\"甲府\",\"山形\",\"山口\",\"讃岐\",\"鹿児島\",\"松本\",\"湘南\",\"新潟\",\"水戸\",\"千葉\",\"群馬\",\"大宮\",\"大分\",\"町田\",\"長崎\",\"東京\",\"徳島\",\"栃木\",\"柏\",\"福岡\",\"名古屋\",\"琉球\"]\n",
    "team_number_all=[\"37\",\"34\",\"42\",\"39\",\"24\",\"275\",\"38\",\"28\",\"29\",\"330\",\"48\",\"338\",\"46\",\"12\",\"78\",\"94\",\"2\",\"35\",\"27\",\"31\",\"45\",\"47\",\"4\",\"36\",\"40\",\"11\",\"23\",\"8\",\"277\"]"
   ]
  },
  {
   "cell_type": "code",
   "execution_count": 101,
   "id": "815b125b-031b-4b46-bf4f-710bf824f241",
   "metadata": {},
   "outputs": [],
   "source": [
    "all_team=[]\n",
    "for i in range(29):\n",
    "    team_name=team_name_all[i]\n",
    "    team_number=team_number_all[i]\n",
    "    url=f\"https://data.j-league.or.jp/SFMS01/search?competition_years=2019&competition_years=2018&competition_years=2017&competition_frame_ids=2&team_ids={team_number}&home_away_select=1&tv_relay_station_name=\"\n",
    "    fomerdata=pd.read_html(url,header=0)\n",
    "    data=fomerdata[0].drop([\"大会\",\"スタジアム\"],axis=1)\n",
    "    game_day=data.試合日\n",
    "    game_day=[s.replace(\"月・祝\",\"月\").replace(\"火・祝\",\"火\").replace(\"水・祝\",\"水\").replace(\"木・祝\",\"木\").replace(\"金・祝\",\"金\").replace(\"土・祝\",\"土\").replace(\"日・祝\",\"日\").replace(\"月・休\",\"月\") for s in game_day]\n",
    "    day=data.年度.astype(str)+\"/\"+game_day\n",
    "    day=pd.DataFrame({\"年/月/日\":day})\n",
    "    data=pd.concat([data,day],axis=1)\n",
    "    tenki=pd.read_excel(f\"c:\\\\Users\\\\梅津魁秀\\\\Desktop\\\\卒業研究\\\\天気データ\\\\全国天気\\\\{team_name}.xlsx\",skiprows=3)\n",
    "    tenki=tenki.fillna(0)\n",
    "    tenki=tenki.drop(tenki.index[[0]]).reset_index(drop=True)\n",
    "    tenki=tenki.drop(tenki.index[1095])\n",
    "    google_trend=pd.read_csv(\"gt.csv\").drop([\"Unnamed: 0\"],axis=1)\n",
    "    google_trend=google_trend[f\"{team_name}\"]\n",
    "    tenki=pd.concat([tenki,google_trend],axis=1)\n",
    "    tenki=tenki.rename(columns={f\"{team_name}\":\"ホームトレンド\"})\n",
    "    day2=tenki.年.round().astype(int).astype(str)+\"/\"+tenki.月.round().astype(int).astype(str).str.zfill(2)+\"/\"+tenki.日.round().astype(int).astype(str).str.zfill(2)+\"(\"+tenki.曜日+\")\"\n",
    "    day2=pd.DataFrame({\"年/月/日\":day2})\n",
    "    tenki=pd.concat([tenki,day2],axis=1)\n",
    "    data=pd.merge(data,tenki[[\"年/月/日\",\"平均気温(℃)\",\"降水量の合計(mm)\",\"日照時間(時間)\",\"ホームトレンド\"]],on=\"年/月/日\",how=\"left\")\n",
    "    sec=data.節.str.translate(str.maketrans({chr(0xFF01 + i): chr(0x21 + i) for i in range(94)}))\n",
    "    sec=sec.str.extract(\"(.+)節\",expand=True).rename(columns={0:\"節数\"})\n",
    "    data=pd.concat([data,sec],axis=1)\n",
    "    rank=pd.read_csv(\"c:\\\\Users\\\\梅津魁秀\\\\anaconda3\\\\rank.csv\").drop([\"Unnamed: 0\"],axis=1)\n",
    "    rank2=rank.rename(columns={\"アウェイ\":\"ホーム\"})\n",
    "    data=pd.merge(data,rank[[\"アウェイ\",\"節数\",\"年度\",\"順位\"]],on=[\"アウェイ\",\"年度\",\"節数\"],how=\"left\")\n",
    "    data=pd.merge(data,rank2[[\"ホーム\",\"節数\",\"年度\",\"順位\"]],on=[\"ホーム\",\"年度\",\"節数\"],how=\"left\")\n",
    "    data=data.rename(columns={\"順位_x\":\"アウェイ順位\",\"順位_y\":\"ホーム順位\"})\n",
    "    data[\"節数\"]=data[\"節数\"].str.replace('第', '')\n",
    "    data[\"K/O時刻\"]=data[\"K/O時刻\"].str[:2]\n",
    "    score=data.スコア.str.split('-', expand=True)\n",
    "    score=score[[0,1]].astype(np.int64)\n",
    "    data[\"点数(ホームーアウェイ)\"]=score[0]-score[1]\n",
    "    data=data.drop([\"年度\",\"節\",\"試合日\",\"ホーム\",\"インターネット中継・TV放送\",\"年/月/日\",\"アウェイ\",\"スコア\"],axis=1)\n",
    "    #入場者数と平均気温に関しては、その地域ごとに偏差をとり、データに反映する。\n",
    "    visitors=int(data[\"入場者数\"].mean())\n",
    "    temperature＿mean=int(data[\"平均気温(℃)\"].mean())\n",
    "    #それぞれ平均を引いた値を出力する。\n",
    "    data[\"平均気温(℃)\"]=data[\"平均気温(℃)\"]-temperature＿mean\n",
    "    data[\"入場者数\"]=data[\"入場者数\"]-visitors\n",
    "    all_team.append(data)"
   ]
  },
  {
   "cell_type": "code",
   "execution_count": 102,
   "id": "09863f93-e082-470d-a9e7-eb41297c1aa6",
   "metadata": {},
   "outputs": [
    {
     "name": "stdout",
     "output_type": "stream",
     "text": [
      "29\n"
     ]
    },
    {
     "data": {
      "text/html": [
       "<div>\n",
       "<style scoped>\n",
       "    .dataframe tbody tr th:only-of-type {\n",
       "        vertical-align: middle;\n",
       "    }\n",
       "\n",
       "    .dataframe tbody tr th {\n",
       "        vertical-align: top;\n",
       "    }\n",
       "\n",
       "    .dataframe thead th {\n",
       "        text-align: right;\n",
       "    }\n",
       "</style>\n",
       "<table border=\"1\" class=\"dataframe\">\n",
       "  <thead>\n",
       "    <tr style=\"text-align: right;\">\n",
       "      <th></th>\n",
       "      <th>K/O時刻</th>\n",
       "      <th>入場者数</th>\n",
       "      <th>平均気温(℃)</th>\n",
       "      <th>降水量の合計(mm)</th>\n",
       "      <th>日照時間(時間)</th>\n",
       "      <th>ホームトレンド</th>\n",
       "      <th>節数</th>\n",
       "      <th>アウェイ順位</th>\n",
       "      <th>ホーム順位</th>\n",
       "      <th>点数(ホームーアウェイ)</th>\n",
       "    </tr>\n",
       "  </thead>\n",
       "  <tbody>\n",
       "    <tr>\n",
       "      <th>0</th>\n",
       "      <td>14.0</td>\n",
       "      <td>481.0</td>\n",
       "      <td>-8.6</td>\n",
       "      <td>0.0</td>\n",
       "      <td>12.6</td>\n",
       "      <td>48.0</td>\n",
       "      <td>9.0</td>\n",
       "      <td>2.0</td>\n",
       "      <td>10.0</td>\n",
       "      <td>0.0</td>\n",
       "    </tr>\n",
       "    <tr>\n",
       "      <th>1</th>\n",
       "      <td>14.0</td>\n",
       "      <td>702.0</td>\n",
       "      <td>3.8</td>\n",
       "      <td>0.5</td>\n",
       "      <td>6.5</td>\n",
       "      <td>48.0</td>\n",
       "      <td>33.0</td>\n",
       "      <td>22.0</td>\n",
       "      <td>4.0</td>\n",
       "      <td>1.0</td>\n",
       "    </tr>\n",
       "    <tr>\n",
       "      <th>2</th>\n",
       "      <td>17.0</td>\n",
       "      <td>-3481.0</td>\n",
       "      <td>-2.5</td>\n",
       "      <td>9.5</td>\n",
       "      <td>0.0</td>\n",
       "      <td>18.0</td>\n",
       "      <td>7.0</td>\n",
       "      <td>21.0</td>\n",
       "      <td>4.0</td>\n",
       "      <td>2.0</td>\n",
       "    </tr>\n",
       "    <tr>\n",
       "      <th>3</th>\n",
       "      <td>19.0</td>\n",
       "      <td>-2081.0</td>\n",
       "      <td>8.4</td>\n",
       "      <td>45.5</td>\n",
       "      <td>0.0</td>\n",
       "      <td>38.0</td>\n",
       "      <td>23.0</td>\n",
       "      <td>13.0</td>\n",
       "      <td>15.0</td>\n",
       "      <td>0.0</td>\n",
       "    </tr>\n",
       "    <tr>\n",
       "      <th>4</th>\n",
       "      <td>18.0</td>\n",
       "      <td>-1000.0</td>\n",
       "      <td>2.8</td>\n",
       "      <td>6.0</td>\n",
       "      <td>0.0</td>\n",
       "      <td>21.0</td>\n",
       "      <td>19.0</td>\n",
       "      <td>4.0</td>\n",
       "      <td>11.0</td>\n",
       "      <td>-3.0</td>\n",
       "    </tr>\n",
       "    <tr>\n",
       "      <th>...</th>\n",
       "      <td>...</td>\n",
       "      <td>...</td>\n",
       "      <td>...</td>\n",
       "      <td>...</td>\n",
       "      <td>...</td>\n",
       "      <td>...</td>\n",
       "      <td>...</td>\n",
       "      <td>...</td>\n",
       "      <td>...</td>\n",
       "      <td>...</td>\n",
       "    </tr>\n",
       "    <tr>\n",
       "      <th>1381</th>\n",
       "      <td>15.0</td>\n",
       "      <td>2284.0</td>\n",
       "      <td>1.4</td>\n",
       "      <td>0.0</td>\n",
       "      <td>6.7</td>\n",
       "      <td>34.0</td>\n",
       "      <td>35.0</td>\n",
       "      <td>5.0</td>\n",
       "      <td>11.0</td>\n",
       "      <td>-1.0</td>\n",
       "    </tr>\n",
       "    <tr>\n",
       "      <th>1382</th>\n",
       "      <td>15.0</td>\n",
       "      <td>481.0</td>\n",
       "      <td>2.7</td>\n",
       "      <td>0.0</td>\n",
       "      <td>7.8</td>\n",
       "      <td>50.0</td>\n",
       "      <td>17.0</td>\n",
       "      <td>14.0</td>\n",
       "      <td>22.0</td>\n",
       "      <td>-2.0</td>\n",
       "    </tr>\n",
       "    <tr>\n",
       "      <th>1383</th>\n",
       "      <td>19.0</td>\n",
       "      <td>-2220.0</td>\n",
       "      <td>1.9</td>\n",
       "      <td>7.5</td>\n",
       "      <td>7.7</td>\n",
       "      <td>13.0</td>\n",
       "      <td>18.0</td>\n",
       "      <td>19.0</td>\n",
       "      <td>5.0</td>\n",
       "      <td>1.0</td>\n",
       "    </tr>\n",
       "    <tr>\n",
       "      <th>1384</th>\n",
       "      <td>14.0</td>\n",
       "      <td>588.0</td>\n",
       "      <td>1.4</td>\n",
       "      <td>8.5</td>\n",
       "      <td>5.9</td>\n",
       "      <td>60.0</td>\n",
       "      <td>12.0</td>\n",
       "      <td>4.0</td>\n",
       "      <td>18.0</td>\n",
       "      <td>0.0</td>\n",
       "    </tr>\n",
       "    <tr>\n",
       "      <th>1385</th>\n",
       "      <td>16.0</td>\n",
       "      <td>-195.0</td>\n",
       "      <td>-4.7</td>\n",
       "      <td>0.0</td>\n",
       "      <td>10.0</td>\n",
       "      <td>12.0</td>\n",
       "      <td>39.0</td>\n",
       "      <td>21.0</td>\n",
       "      <td>8.0</td>\n",
       "      <td>1.0</td>\n",
       "    </tr>\n",
       "  </tbody>\n",
       "</table>\n",
       "<p>1386 rows × 10 columns</p>\n",
       "</div>"
      ],
      "text/plain": [
       "      K/O時刻    入場者数  平均気温(℃)  降水量の合計(mm)  日照時間(時間)  ホームトレンド    節数  アウェイ順位  \\\n",
       "0      14.0   481.0     -8.6         0.0      12.6     48.0   9.0     2.0   \n",
       "1      14.0   702.0      3.8         0.5       6.5     48.0  33.0    22.0   \n",
       "2      17.0 -3481.0     -2.5         9.5       0.0     18.0   7.0    21.0   \n",
       "3      19.0 -2081.0      8.4        45.5       0.0     38.0  23.0    13.0   \n",
       "4      18.0 -1000.0      2.8         6.0       0.0     21.0  19.0     4.0   \n",
       "...     ...     ...      ...         ...       ...      ...   ...     ...   \n",
       "1381   15.0  2284.0      1.4         0.0       6.7     34.0  35.0     5.0   \n",
       "1382   15.0   481.0      2.7         0.0       7.8     50.0  17.0    14.0   \n",
       "1383   19.0 -2220.0      1.9         7.5       7.7     13.0  18.0    19.0   \n",
       "1384   14.0   588.0      1.4         8.5       5.9     60.0  12.0     4.0   \n",
       "1385   16.0  -195.0     -4.7         0.0      10.0     12.0  39.0    21.0   \n",
       "\n",
       "      ホーム順位  点数(ホームーアウェイ)  \n",
       "0      10.0           0.0  \n",
       "1       4.0           1.0  \n",
       "2       4.0           2.0  \n",
       "3      15.0           0.0  \n",
       "4      11.0          -3.0  \n",
       "...     ...           ...  \n",
       "1381   11.0          -1.0  \n",
       "1382   22.0          -2.0  \n",
       "1383    5.0           1.0  \n",
       "1384   18.0           0.0  \n",
       "1385    8.0           1.0  \n",
       "\n",
       "[1386 rows x 10 columns]"
      ]
     },
     "execution_count": 102,
     "metadata": {},
     "output_type": "execute_result"
    }
   ],
   "source": [
    "#forループでリストにしっかり格納されたか個数をチェック(29個であれば成功)\n",
    "print(len(all_team))\n",
    "#リストを全て合わせてall_team_kanseiとする。\n",
    "all_team_kansei=pd.concat(all_team)\n",
    "#データを行方向でシャッフル\n",
    "#再度reset_indexを↓で行うことで、行番号を再度設定する。\n",
    "all_team_kansei=all_team_kansei.sample(frac=1)\n",
    "all_team_kansei=all_team_kansei.astype('float64').reset_index(drop=True)\n",
    "all_team_kansei"
   ]
  },
  {
   "cell_type": "code",
   "execution_count": 103,
   "id": "d6c27d10-3a4f-4acd-baf7-26735743d387",
   "metadata": {},
   "outputs": [
    {
     "name": "stdout",
     "output_type": "stream",
     "text": [
      "float64 float64\n"
     ]
    }
   ],
   "source": [
    "#説明変数となるものをそれぞれx1~x9まで作成\n",
    "#平均気温、降水量のデータは外したほうがよさそう（だからと言って、結果が良くなるわけではないが）\n",
    "x1=np.array(all_team_kansei[\"K/O時刻\"])\n",
    "x2=np.array(all_team_kansei[\"平均気温(℃)\"])\n",
    "x3=np.array(all_team_kansei[\"降水量の合計(mm)\"])\n",
    "x4=np.array(all_team_kansei[\"日照時間(時間)\"])\n",
    "x5=np.array(all_team_kansei[\"節数\"])\n",
    "x6=np.array(all_team_kansei[\"アウェイ順位\"])\n",
    "x7=np.array(all_team_kansei[\"ホーム順位\"])\n",
    "x8=np.array(all_team_kansei[\"点数(ホームーアウェイ)\"])\n",
    "x9=np.array(all_team_kansei[\"ホームトレンド\"])\n",
    "#目的変数(観客動員数)をyに入れる\n",
    "y=np.array(all_team_kansei[\"入場者数\"])\n",
    "X=np.c_[x1,x2,x3,x4,x5,x6,x7,x8,x9]#SVRが使えるように変数を結合\n",
    "print(X.dtype,y.dtype)"
   ]
  },
  {
   "cell_type": "code",
   "execution_count": 104,
   "id": "81604a1c-708b-46a3-8f40-d6d31b603d44",
   "metadata": {},
   "outputs": [],
   "source": [
    "# Divide samples into trainign samples and test samples\n",
    "Xtrain, Xtest, ytrain, ytest = train_test_split(X, y, test_size=nmberoftestsamples, random_state=0)"
   ]
  },
  {
   "cell_type": "code",
   "execution_count": 105,
   "id": "54d013b0-f7e9-4b2a-b351-30af10b0d9c4",
   "metadata": {},
   "outputs": [],
   "source": [
    "# Standarize X and y\n",
    "autoscaledXtrain = (Xtrain - Xtrain.mean(axis=0)) / Xtrain.std(axis=0, ddof=1)\n",
    "autoscaledytrain = (ytrain - ytrain.mean()) / ytrain.std(ddof=1)\n",
    "autoscaledXtest =  (Xtest - Xtrain.mean(axis=0)) / Xtrain.std(axis=0, ddof=1)"
   ]
  },
  {
   "cell_type": "code",
   "execution_count": 106,
   "id": "99cd1159-4cd6-47ee-8906-2226db71bfe8",
   "metadata": {},
   "outputs": [],
   "source": [
    "# Measure time in hyperparameter optimization\n",
    "starttime = time.time()"
   ]
  },
  {
   "cell_type": "code",
   "execution_count": 107,
   "id": "d96051cc-291d-494f-b4ea-b2c93f071243",
   "metadata": {},
   "outputs": [],
   "source": [
    "# Optimize gamma by maximizing variance in Gram matrix\n",
    "numpyautoscaledXtrain = np.array(autoscaledXtrain)\n",
    "varianceofgrammatrix = list()\n",
    "for svrgamma in svrgammas:\n",
    "    grammatrix = np.exp(-svrgamma*((numpyautoscaledXtrain[:, np.newaxis] - numpyautoscaledXtrain)**2).sum(axis=2))\n",
    "    varianceofgrammatrix.append(grammatrix.var(ddof=1))\n",
    "optimalsvrgamma = svrgammas[ np.where( varianceofgrammatrix == np.max(varianceofgrammatrix) )[0][0] ]\n"
   ]
  },
  {
   "cell_type": "code",
   "execution_count": 108,
   "id": "1c98f589-2063-4cf7-b07b-e8c43ee3e5b3",
   "metadata": {},
   "outputs": [],
   "source": [
    "# Optimize epsilon with cross-validation\n",
    "svrmodelincv = GridSearchCV(svm.SVR(kernel='rbf', C=3, gamma=optimalsvrgamma), {'epsilon':svrepsilons}, cv=foldnumber )\n",
    "svrmodelincv.fit(autoscaledXtrain, autoscaledytrain)\n",
    "optimalsvrepsilon = svrmodelincv.best_params_['epsilon']"
   ]
  },
  {
   "cell_type": "code",
   "execution_count": 109,
   "id": "e50e7d05-c6fc-48bd-8204-05360a1a4351",
   "metadata": {},
   "outputs": [],
   "source": [
    "# Optimize C with cross-validation\n",
    "svrmodelincv = GridSearchCV(svm.SVR(kernel='rbf', epsilon=optimalsvrepsilon, gamma=optimalsvrgamma), {'C':svrcs}, cv=foldnumber )\n",
    "svrmodelincv.fit(autoscaledXtrain, autoscaledytrain)\n",
    "optimalsvrc = svrmodelincv.best_params_['C']"
   ]
  },
  {
   "cell_type": "code",
   "execution_count": 110,
   "id": "e7dba283-46b4-4ef1-b611-ec71dfff2f5e",
   "metadata": {},
   "outputs": [],
   "source": [
    "# Optimize gamma with cross-validation (optional)\n",
    "svrmodelincv = GridSearchCV(svm.SVR(kernel='rbf', epsilon=optimalsvrepsilon, C=optimalsvrc), {'gamma':svrgammas}, cv=foldnumber )\n",
    "svrmodelincv.fit(autoscaledXtrain, autoscaledytrain)\n",
    "optimalsvrgamma = svrmodelincv.best_params_['gamma']"
   ]
  },
  {
   "cell_type": "code",
   "execution_count": 111,
   "id": "e7d5b68c-a988-429f-b46f-64df1895c3bf",
   "metadata": {},
   "outputs": [
    {
     "name": "stdout",
     "output_type": "stream",
     "text": [
      "Elapsed time in hyperparameter optimization: 75.80478167533875 [sec]\n"
     ]
    }
   ],
   "source": [
    "# Check time in hyperparameter optimization\n",
    "elapsedtime = time.time() - starttime\n",
    "print (\"Elapsed time in hyperparameter optimization: {0} [sec]\".format(elapsedtime))"
   ]
  },
  {
   "cell_type": "code",
   "execution_count": 112,
   "id": "bac7a742-34f8-46fa-93d4-f4195281e03a",
   "metadata": {},
   "outputs": [
    {
     "name": "stdout",
     "output_type": "stream",
     "text": [
      "C: 1.0, Epsion: 0.5, Gamma: 0.0625\n"
     ]
    }
   ],
   "source": [
    "# Check optimized hyperparameters\n",
    "print (\"C: {0}, Epsion: {1}, Gamma: {2}\".format(optimalsvrc, optimalsvrepsilon, optimalsvrgamma))\n"
   ]
  },
  {
   "cell_type": "code",
   "execution_count": 113,
   "id": "93e12d0f-959b-409e-885c-6c1811d5854a",
   "metadata": {},
   "outputs": [
    {
     "data": {
      "text/plain": [
       "SVR(epsilon=0.5, gamma=0.0625)"
      ]
     },
     "execution_count": 113,
     "metadata": {},
     "output_type": "execute_result"
    }
   ],
   "source": [
    "# Construct SVR model\n",
    "regressionmodel = svm.SVR(kernel='rbf', C=optimalsvrc, epsilon=optimalsvrepsilon, gamma=optimalsvrgamma)\n",
    "regressionmodel.fit(autoscaledXtrain, autoscaledytrain)"
   ]
  },
  {
   "cell_type": "code",
   "execution_count": 114,
   "id": "5ac6004c-0491-4b04-b5aa-8a89f6a1d555",
   "metadata": {},
   "outputs": [],
   "source": [
    "# Calculate y of trainig dataset\n",
    "calculatedytrain = np.ndarray.flatten( regressionmodel.predict(autoscaledXtrain) )\n",
    "calculatedytrain = calculatedytrain*ytrain.std(ddof=1) + ytrain.mean()"
   ]
  },
  {
   "cell_type": "code",
   "execution_count": 115,
   "id": "7e8f89c6-bcf2-4d09-afc8-acb84e4fcfe8",
   "metadata": {},
   "outputs": [
    {
     "name": "stdout",
     "output_type": "stream",
     "text": [
      "r2: 0.28912722001221713\n",
      "RMSE: 1940.1211834844644\n",
      "MAE: 1363.8655021974664\n"
     ]
    }
   ],
   "source": [
    "# r2, RMSE, MAE\n",
    "print( \"r2: {0}\".format(float( 1 - sum( (ytrain-calculatedytrain )**2 ) / sum((ytrain-ytrain.mean())**2) )) )\n",
    "print( \"RMSE: {0}\".format(float( ( sum( (ytrain-calculatedytrain)**2 )/ len(ytrain))**0.5 )) )\n",
    "print( \"MAE: {0}\".format(float( sum( abs(ytrain-calculatedytrain)) / len(ytrain) )) )"
   ]
  },
  {
   "cell_type": "code",
   "execution_count": 116,
   "id": "808cea83-5f95-47e5-a373-450635a52266",
   "metadata": {},
   "outputs": [],
   "source": [
    "# Estimate y in cross-validation\n",
    "estimatedyincv = np.ndarray.flatten( model_selection.cross_val_predict(regressionmodel, autoscaledXtrain, autoscaledytrain, cv=foldnumber) )\n",
    "estimatedyincv = estimatedyincv*ytrain.std(ddof=1) + ytrain.mean()"
   ]
  },
  {
   "cell_type": "code",
   "execution_count": 117,
   "id": "b4d75099-ef8b-4e03-9d6d-50526decfad7",
   "metadata": {},
   "outputs": [
    {
     "name": "stdout",
     "output_type": "stream",
     "text": [
      "r2cv: 0.19777171452006703\n",
      "RMSEcv: 2061.01854884221\n",
      "MAEcv: 1460.7323695806401\n"
     ]
    }
   ],
   "source": [
    "# r2cv, RMSEcv, MAEcv\n",
    "print( \"r2cv: {0}\".format(float( 1 - sum( (ytrain-estimatedyincv )**2 ) / sum((ytrain-ytrain.mean())**2) )) )\n",
    "print( \"RMSEcv: {0}\".format(float( ( sum( (ytrain-estimatedyincv)**2 )/ len(ytrain))**0.5 )) )\n",
    "print( \"MAEcv: {0}\".format(float( sum( abs(ytrain-estimatedyincv)) / len(ytrain) )) )"
   ]
  },
  {
   "cell_type": "code",
   "execution_count": 118,
   "id": "a952191b-778b-4af4-8611-8aa9a4888b69",
   "metadata": {},
   "outputs": [],
   "source": [
    "# Estimate y of test dataset\n",
    "predictedytest = np.ndarray.flatten( regressionmodel.predict(autoscaledXtest) )\n",
    "predictedytest = predictedytest*ytrain.std(ddof=1) + ytrain.mean()"
   ]
  },
  {
   "cell_type": "code",
   "execution_count": 119,
   "id": "b3837138-2cee-40f8-a6dc-2d083babb326",
   "metadata": {},
   "outputs": [
    {
     "name": "stdout",
     "output_type": "stream",
     "text": [
      "r2p: 0.16122109179558075\n",
      "RMSEp: 2398.7946699632107\n",
      "MAEp: 1576.8836700032148\n"
     ]
    }
   ],
   "source": [
    "# r2p, RMSEp, MAEp\n",
    "print( \"r2p: {0}\".format(float( 1 - sum( (ytest-predictedytest )**2 ) / sum((ytest-ytest.mean())**2) )) )\n",
    "print( \"RMSEp: {0}\".format(float( ( sum( (ytest-predictedytest)**2 )/ len(ytest))**0.5 )) )\n",
    "print( \"MAEp: {0}\".format(float( sum( abs(ytest-predictedytest)) / len(ytest) )) )"
   ]
  },
  {
   "cell_type": "code",
   "execution_count": null,
   "id": "608134b4-1580-4021-8025-fde4db8c65f9",
   "metadata": {},
   "outputs": [],
   "source": []
  },
  {
   "cell_type": "code",
   "execution_count": null,
   "id": "3f33bde1-ea8f-4ace-99fd-5772d4fd04f2",
   "metadata": {},
   "outputs": [],
   "source": []
  }
 ],
 "metadata": {
  "kernelspec": {
   "display_name": "Python 3",
   "language": "python",
   "name": "python3"
  },
  "language_info": {
   "codemirror_mode": {
    "name": "ipython",
    "version": 3
   },
   "file_extension": ".py",
   "mimetype": "text/x-python",
   "name": "python",
   "nbconvert_exporter": "python",
   "pygments_lexer": "ipython3",
   "version": "3.9.5"
  }
 },
 "nbformat": 4,
 "nbformat_minor": 5
}
